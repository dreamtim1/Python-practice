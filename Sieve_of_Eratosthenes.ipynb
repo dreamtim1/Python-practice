{
  "cells": [
    {
      "cell_type": "markdown",
      "metadata": {
        "id": "view-in-github",
        "colab_type": "text"
      },
      "source": [
        "<a href=\"https://colab.research.google.com/github/dreamtim1/Python-practice/blob/master/Sieve_of_Eratosthenes.ipynb\" target=\"_parent\"><img src=\"https://colab.research.google.com/assets/colab-badge.svg\" alt=\"Open In Colab\"/></a>"
      ]
    },
    {
      "cell_type": "markdown",
      "metadata": {
        "id": "xhM8uZuQ0mfE"
      },
      "source": [
        "In this notebook we will implement the Sieve of Eratosthenes, using NumPy.\n",
        "\n",
        "We will also test its execution time and visualize it with Matplotlib."
      ]
    },
    {
      "cell_type": "code",
      "execution_count": null,
      "metadata": {
        "id": "s-ZfY7w50mfH"
      },
      "outputs": [],
      "source": [
        "\"\"\"Sieve of Eratosthenes impementation with numpy\"\"\"\n",
        "\n",
        "import numpy as np\n",
        "\n",
        "def erato(n):\n",
        "    \"\"\"Finds all the prime numbers under given number (> 2), returns a numpy array\"\"\"\n",
        "\n",
        "    nums = np.arange(2, n, dtype='int64')\n",
        "    iter_0 = ((nums % nums[0]) != 0) * nums\n",
        "    primes = np.array([2], dtype='int64')\n",
        "    stop_prime = np.int64((n ** 0.5) + 1)\n",
        "\n",
        "    for i in range(n):\n",
        "        # We use argmax, because it stops after first match\n",
        "        # Unlike nonzero, we don't create a huge extra array\n",
        "        first_non_zero = np.argmax(iter_0 > 0)\n",
        "        another_prime = nums[first_non_zero]\n",
        "\n",
        "        if another_prime >= stop_prime:\n",
        "            break\n",
        "\n",
        "        iter_0 = ((iter_0 % another_prime) != 0) * iter_0\n",
        "\n",
        "        primes = np.append(primes, another_prime)\n",
        "        \n",
        "    # Append to the primes remaining non zero numbers\n",
        "    primes = np.concatenate([primes, iter_0[iter_0 != 0]])\n",
        "\n",
        "    return primes"
      ]
    },
    {
      "cell_type": "markdown",
      "metadata": {
        "id": "iBLzp1Q_0mfJ"
      },
      "source": [
        "Let's write a test for our function, using a list of prime numbers from the Internet."
      ]
    },
    {
      "cell_type": "code",
      "execution_count": null,
      "metadata": {
        "id": "cWM2Ztma0mfJ"
      },
      "outputs": [],
      "source": [
        "def test_100():\n",
        "    n = 100\n",
        "    answer = np.fromstring('2, 3, 5, 7, 11, 13, 17, 19, 23, 29, 31, 37, 41, 43, 47, 53, 59, 61, 67, 71, 73, 79, 83, 89, 97', sep=', ')\n",
        "    assert np.array_equiv(answer, erato(n)) == True"
      ]
    },
    {
      "cell_type": "markdown",
      "metadata": {
        "id": "Cn1OWPjh0mfK"
      },
      "source": [
        "Now we can test it!"
      ]
    },
    {
      "cell_type": "code",
      "execution_count": null,
      "metadata": {
        "id": "1q4gMNRP0mfK"
      },
      "outputs": [],
      "source": [
        "test_100()"
      ]
    },
    {
      "cell_type": "markdown",
      "metadata": {
        "id": "PJGoHNTf0mfL"
      },
      "source": [
        "The `test_100()` doesn't raise any error, it is also possible to test it with different numbers."
      ]
    },
    {
      "cell_type": "code",
      "execution_count": null,
      "metadata": {
        "id": "gOC6wtbi0mfL",
        "outputId": "7c6f1ab8-418d-4e85-de19-82c6fa003aa9"
      },
      "outputs": [
        {
          "name": "stdout",
          "output_type": "stream",
          "text": [
            "[  2   3   5   7  11  13  17  19  23  29  31  37  41  43  47  53  59  61\n",
            "  67  71  73  79  83  89  97 101 103 107 109 113 127 131 137 139 149 151\n",
            " 157 163 167 173 179 181 191 193 197 199 211 223 227 229 233 239 241 251\n",
            " 257 263 269 271 277 281 283 293 307 311 313 317 331 337 347 349 353 359\n",
            " 367 373 379 383 389 397 401 409 419 421 431 433 439 443 449 457 461 463\n",
            " 467 479 487 491 499 503 509 521 523 541 547 557 563 569 571 577 587 593\n",
            " 599 601 607 613 617 619 631 641 643 647 653 659 661 673 677 683 691 701\n",
            " 709 719 727 733 739 743 751 757 761 769 773 787 797 809 811 821 823 827\n",
            " 829 839 853 857 859 863 877 881 883 887 907 911 919 929 937 941 947 953\n",
            " 967 971 977 983 991 997]\n"
          ]
        }
      ],
      "source": [
        "n = int(input('Enter n: '))\n",
        "print(erato(n))"
      ]
    },
    {
      "cell_type": "markdown",
      "metadata": {
        "id": "LkPVWOb-0mfN"
      },
      "source": [
        "Everything works! Now let's measure the execution time."
      ]
    },
    {
      "cell_type": "code",
      "execution_count": null,
      "metadata": {
        "id": "wPyphlaw0mfN"
      },
      "outputs": [],
      "source": [
        "def measure_time():\n",
        "    \"\"\"Measures execution time of the erato(10**n), returns 2 numpy arrays: used inputs and times\"\"\"\n",
        "    \n",
        "    from timeit import repeat\n",
        "    from itertools import chain\n",
        "\n",
        "    # We create generators to freeze the calculations\n",
        "    # It doesn't really matter inside the function, but it's useful for interactive debugging \n",
        "    # We use smaller number of repeats for big n\n",
        "\n",
        "    measure_small = (repeat(lambda: erato(10**n), number = 1, repeat=1000) for n in range(1, 5))\n",
        "    measure_small_means = (np.array(times, dtype='float64').mean() for times in measure_small)\n",
        "\n",
        "    measure_large = (repeat(lambda: erato(10**n), number = 1, repeat=10) for n in range(5, 8))\n",
        "    measure_large_means = (np.array(times, dtype='float64').mean() for times in measure_large)\n",
        "\n",
        "    measure_all_means = chain(measure_small_means, measure_large_means)\n",
        "\n",
        "    measurements = np.fromiter(measure_all_means, dtype='float64')\n",
        "    inputs = np.arange(1, 8, dtype='int8')\n",
        "\n",
        "    return inputs, measurements\n",
        "\n"
      ]
    },
    {
      "cell_type": "markdown",
      "metadata": {
        "id": "3VVSoMbz0mfO"
      },
      "source": [
        "The measurements will take a lot of time (about 5 mins)!"
      ]
    },
    {
      "cell_type": "code",
      "execution_count": null,
      "metadata": {
        "id": "9W6OmWH30mfO"
      },
      "outputs": [],
      "source": [
        "inputs, measurements = measure_time()"
      ]
    },
    {
      "cell_type": "code",
      "execution_count": null,
      "metadata": {
        "id": "OdQYD7br0mfO",
        "outputId": "3bacca3d-32be-48d5-eb4e-5d23ce09c611"
      },
      "outputs": [
        {
          "data": {
            "text/plain": [
              "array([1, 2, 3, 4, 5, 6, 7], dtype=int8)"
            ]
          },
          "execution_count": 77,
          "metadata": {},
          "output_type": "execute_result"
        }
      ],
      "source": [
        "inputs"
      ]
    },
    {
      "cell_type": "code",
      "execution_count": null,
      "metadata": {
        "id": "DhSAIDYS0mfP",
        "outputId": "a1eeadbd-cc5e-46cf-b2a5-e383ba38a0b6"
      },
      "outputs": [
        {
          "data": {
            "text/plain": [
              "array([3.23201570e-05, 5.20519229e-05, 1.72473491e-04, 1.46953763e-03,\n",
              "       3.57415674e-02, 1.22144808e+00, 3.58639896e+01])"
            ]
          },
          "execution_count": 64,
          "metadata": {},
          "output_type": "execute_result"
        }
      ],
      "source": [
        "measurements"
      ]
    },
    {
      "cell_type": "markdown",
      "metadata": {
        "id": "3WxY4vmK0mfP"
      },
      "source": [
        "No let's create a simple plot to show dependence of the execution time on the ammount of data."
      ]
    },
    {
      "cell_type": "code",
      "execution_count": null,
      "metadata": {
        "id": "TNnO1iO10mfP"
      },
      "outputs": [],
      "source": [
        "def plot_time(inputs, measurements):\n",
        "    \"\"\"Visualizes the dependence of the execution time on n\"\"\"\n",
        "\n",
        "    import matplotlib.pyplot as plt\n",
        "\n",
        "    x_axis = [f'10^{n}' for n in inputs]\n",
        "\n",
        "    # Logarithmic scale for better representation\n",
        "    y_axis = np.log(measurements)\n",
        "\n",
        "    plt.plot(x_axis, y_axis)\n",
        "\n",
        "    plt.xlabel('n')\n",
        "    plt.ylabel('ln(time)')\n",
        "\n",
        "    plt.title('Dependence of the execution time on the ammount of data (logarithmic scale)')\n",
        "\n",
        "    plt.show()\n"
      ]
    },
    {
      "cell_type": "code",
      "execution_count": null,
      "metadata": {
        "id": "MAVURrCY0mfQ",
        "outputId": "662e3d84-a5a0-4b74-f9cd-e4b5700610f2"
      },
      "outputs": [
        {
          "data": {
            "image/png": "[encoded data removed]",
            "text/plain": [
              "<Figure size 432x288 with 1 Axes>"
            ]
          },
          "metadata": {
            "needs_background": "light"
          },
          "output_type": "display_data"
        }
      ],
      "source": [
        "plot_time(inputs, measurements)"
      ]
    }
  ],
  "metadata": {
    "interpreter": {
      "hash": "57818da3ee1fd01d36d722dc5d70d8ee0174abb1fbd688f676d98834109492dc"
    },
    "kernelspec": {
      "display_name": "Python 3.9.7 ('base')",
      "language": "python",
      "name": "python3"
    },
    "language_info": {
      "codemirror_mode": {
        "name": "ipython",
        "version": 3
      },
      "file_extension": ".py",
      "mimetype": "text/x-python",
      "name": "python",
      "nbconvert_exporter": "python",
      "pygments_lexer": "ipython3",
      "version": "3.9.7"
    },
    "orig_nbformat": 4,
    "colab": {
      "name": "Sieve_of_Eratosthenes.ipynb",
      "provenance": [],
      "include_colab_link": true
    }
  },
  "nbformat": 4,
  "nbformat_minor": 0
}