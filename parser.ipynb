{
  "cells": [
    {
      "cell_type": "markdown",
      "metadata": {
        "id": "view-in-github",
        "colab_type": "text"
      },
      "source": [
        "<a href=\"https://colab.research.google.com/github/dreamtim1/Python-practice/blob/master/parser.ipynb\" target=\"_parent\"><img src=\"https://colab.research.google.com/assets/colab-badge.svg\" alt=\"Open In Colab\"/></a>"
      ]
    },
    {
      "cell_type": "code",
      "execution_count": null,
      "metadata": {
        "id": "tazjnrFAhFmT"
      },
      "outputs": [],
      "source": [
        "import pandas as pd\n",
        "\n",
        "import os\n",
        "from glob import glob\n",
        "\n",
        "from pprint import pprint"
      ]
    },
    {
      "cell_type": "code",
      "execution_count": null,
      "metadata": {
        "id": "zMdCg3LlhFmW"
      },
      "outputs": [],
      "source": [
        "# Change to absolute path\n",
        "CSV_PATH = '/home/dreamtim/Downloads/cargo_id.csv'\n",
        "TXT_DIR_PATH = '/home/dreamtim/Desktop/Coding/test'\n",
        "\n",
        "os.chdir(TXT_DIR_PATH)"
      ]
    },
    {
      "cell_type": "code",
      "execution_count": null,
      "metadata": {
        "id": "znjRH0sxhFmW",
        "outputId": "2cd2c55c-f97f-437a-f58d-0d2b689cc74b"
      },
      "outputs": [
        {
          "data": {
            "text/html": [
              "<div>\n",
              "<style scoped>\n",
              "    .dataframe tbody tr th:only-of-type {\n",
              "        vertical-align: middle;\n",
              "    }\n",
              "\n",
              "    .dataframe tbody tr th {\n",
              "        vertical-align: top;\n",
              "    }\n",
              "\n",
              "    .dataframe thead th {\n",
              "        text-align: right;\n",
              "    }\n",
              "</style>\n",
              "<table border=\"1\" class=\"dataframe\">\n",
              "  <thead>\n",
              "    <tr style=\"text-align: right;\">\n",
              "      <th></th>\n",
              "      <th>filename</th>\n",
              "      <th>cargo_id</th>\n",
              "      <th>cargo_id_additional</th>\n",
              "      <th>custom_id</th>\n",
              "    </tr>\n",
              "  </thead>\n",
              "  <tbody>\n",
              "    <tr>\n",
              "      <th>0</th>\n",
              "      <td>A (1).jpg</td>\n",
              "      <td>CX2266</td>\n",
              "      <td>NaN</td>\n",
              "      <td>0</td>\n",
              "    </tr>\n",
              "    <tr>\n",
              "      <th>1</th>\n",
              "      <td>A (2).jpg</td>\n",
              "      <td>CX2266</td>\n",
              "      <td>DX1512</td>\n",
              "      <td>0</td>\n",
              "    </tr>\n",
              "    <tr>\n",
              "      <th>2</th>\n",
              "      <td>A (3).jpg</td>\n",
              "      <td>CX2266</td>\n",
              "      <td>6202</td>\n",
              "      <td>0</td>\n",
              "    </tr>\n",
              "    <tr>\n",
              "      <th>3</th>\n",
              "      <td>A (4).jpg</td>\n",
              "      <td>CX2266</td>\n",
              "      <td>202</td>\n",
              "      <td>0</td>\n",
              "    </tr>\n",
              "    <tr>\n",
              "      <th>4</th>\n",
              "      <td>A (5).jpg</td>\n",
              "      <td>CX2266</td>\n",
              "      <td>6202</td>\n",
              "      <td>0</td>\n",
              "    </tr>\n",
              "    <tr>\n",
              "      <th>...</th>\n",
              "      <td>...</td>\n",
              "      <td>...</td>\n",
              "      <td>...</td>\n",
              "      <td>...</td>\n",
              "    </tr>\n",
              "    <tr>\n",
              "      <th>431</th>\n",
              "      <td>GP010451_5313.jpg</td>\n",
              "      <td>DFDA 100526 0</td>\n",
              "      <td>NaN</td>\n",
              "      <td>18</td>\n",
              "    </tr>\n",
              "    <tr>\n",
              "      <th>432</th>\n",
              "      <td>GP010451_5316.jpg</td>\n",
              "      <td>DFDA 100526 0</td>\n",
              "      <td>NaN</td>\n",
              "      <td>18</td>\n",
              "    </tr>\n",
              "    <tr>\n",
              "      <th>433</th>\n",
              "      <td>GP010451_5319.jpg</td>\n",
              "      <td>DFDA 100526 0</td>\n",
              "      <td>NaN</td>\n",
              "      <td>18</td>\n",
              "    </tr>\n",
              "    <tr>\n",
              "      <th>434</th>\n",
              "      <td>GP010451_5322.jpg</td>\n",
              "      <td>DFDA 100526 0</td>\n",
              "      <td>NaN</td>\n",
              "      <td>18</td>\n",
              "    </tr>\n",
              "    <tr>\n",
              "      <th>435</th>\n",
              "      <td>GT_GP010451_13725.jpg</td>\n",
              "      <td>592731</td>\n",
              "      <td>NaN</td>\n",
              "      <td>19</td>\n",
              "    </tr>\n",
              "  </tbody>\n",
              "</table>\n",
              "<p>436 rows × 4 columns</p>\n",
              "</div>"
            ],
            "text/plain": [
              "                  filename       cargo_id cargo_id_additional  custom_id\n",
              "0                A (1).jpg         CX2266                 NaN          0\n",
              "1                A (2).jpg         CX2266              DX1512          0\n",
              "2                A (3).jpg         CX2266                6202          0\n",
              "3                A (4).jpg         CX2266                 202          0\n",
              "4                A (5).jpg         CX2266                6202          0\n",
              "..                     ...            ...                 ...        ...\n",
              "431      GP010451_5313.jpg  DFDA 100526 0                 NaN         18\n",
              "432      GP010451_5316.jpg  DFDA 100526 0                 NaN         18\n",
              "433      GP010451_5319.jpg  DFDA 100526 0                 NaN         18\n",
              "434      GP010451_5322.jpg  DFDA 100526 0                 NaN         18\n",
              "435  GT_GP010451_13725.jpg         592731                 NaN         19\n",
              "\n",
              "[436 rows x 4 columns]"
            ]
          },
          "execution_count": 62,
          "metadata": {},
          "output_type": "execute_result"
        }
      ],
      "source": [
        "df = pd.read_csv(CSV_PATH)\n",
        "df"
      ]
    },
    {
      "cell_type": "code",
      "execution_count": null,
      "metadata": {
        "id": "EnIa-haAhFmY",
        "outputId": "9001fcc2-48c6-48d7-9c39-ae7ac574805f"
      },
      "outputs": [
        {
          "name": "stdout",
          "output_type": "stream",
          "text": [
            "[['1.jpg', 'ABC'], ['0.jpg', '123']]\n"
          ]
        }
      ],
      "source": [
        "files = glob('*txt')\n",
        "data = []\n",
        "\n",
        "for filename in files:\n",
        "    with open(filename) as f:\n",
        "        cargo_id = f.read()\n",
        "        data.append([filename.removesuffix('.txt') + '.jpg', cargo_id.strip()])\n",
        "\n",
        "pprint(data)"
      ]
    },
    {
      "cell_type": "code",
      "execution_count": null,
      "metadata": {
        "id": "hu9JhMJChFmY",
        "outputId": "cc9387c3-88c4-4a27-f7a5-54e0783a776b"
      },
      "outputs": [
        {
          "data": {
            "text/html": [
              "<div>\n",
              "<style scoped>\n",
              "    .dataframe tbody tr th:only-of-type {\n",
              "        vertical-align: middle;\n",
              "    }\n",
              "\n",
              "    .dataframe tbody tr th {\n",
              "        vertical-align: top;\n",
              "    }\n",
              "\n",
              "    .dataframe thead th {\n",
              "        text-align: right;\n",
              "    }\n",
              "</style>\n",
              "<table border=\"1\" class=\"dataframe\">\n",
              "  <thead>\n",
              "    <tr style=\"text-align: right;\">\n",
              "      <th></th>\n",
              "      <th>filename</th>\n",
              "      <th>cargo_id</th>\n",
              "    </tr>\n",
              "  </thead>\n",
              "  <tbody>\n",
              "    <tr>\n",
              "      <th>0</th>\n",
              "      <td>1.jpg</td>\n",
              "      <td>ABC</td>\n",
              "    </tr>\n",
              "    <tr>\n",
              "      <th>1</th>\n",
              "      <td>0.jpg</td>\n",
              "      <td>123</td>\n",
              "    </tr>\n",
              "  </tbody>\n",
              "</table>\n",
              "</div>"
            ],
            "text/plain": [
              "  filename cargo_id\n",
              "0    1.jpg      ABC\n",
              "1    0.jpg      123"
            ]
          },
          "execution_count": 56,
          "metadata": {},
          "output_type": "execute_result"
        }
      ],
      "source": [
        "to_concat = pd.DataFrame(data, columns=df.columns[:2])\n",
        "to_concat"
      ]
    },
    {
      "cell_type": "code",
      "execution_count": null,
      "metadata": {
        "id": "3600DQnhhFmZ",
        "outputId": "4594f3d0-8e65-44ae-be52-859f0e520a66"
      },
      "outputs": [
        {
          "data": {
            "text/html": [
              "<div>\n",
              "<style scoped>\n",
              "    .dataframe tbody tr th:only-of-type {\n",
              "        vertical-align: middle;\n",
              "    }\n",
              "\n",
              "    .dataframe tbody tr th {\n",
              "        vertical-align: top;\n",
              "    }\n",
              "\n",
              "    .dataframe thead th {\n",
              "        text-align: right;\n",
              "    }\n",
              "</style>\n",
              "<table border=\"1\" class=\"dataframe\">\n",
              "  <thead>\n",
              "    <tr style=\"text-align: right;\">\n",
              "      <th></th>\n",
              "      <th>filename</th>\n",
              "      <th>cargo_id</th>\n",
              "      <th>cargo_id_additional</th>\n",
              "      <th>custom_id</th>\n",
              "    </tr>\n",
              "  </thead>\n",
              "  <tbody>\n",
              "    <tr>\n",
              "      <th>0</th>\n",
              "      <td>A (1).jpg</td>\n",
              "      <td>CX2266</td>\n",
              "      <td>NaN</td>\n",
              "      <td>0.0</td>\n",
              "    </tr>\n",
              "    <tr>\n",
              "      <th>1</th>\n",
              "      <td>A (2).jpg</td>\n",
              "      <td>CX2266</td>\n",
              "      <td>DX1512</td>\n",
              "      <td>0.0</td>\n",
              "    </tr>\n",
              "    <tr>\n",
              "      <th>2</th>\n",
              "      <td>A (3).jpg</td>\n",
              "      <td>CX2266</td>\n",
              "      <td>6202</td>\n",
              "      <td>0.0</td>\n",
              "    </tr>\n",
              "    <tr>\n",
              "      <th>3</th>\n",
              "      <td>A (4).jpg</td>\n",
              "      <td>CX2266</td>\n",
              "      <td>202</td>\n",
              "      <td>0.0</td>\n",
              "    </tr>\n",
              "    <tr>\n",
              "      <th>4</th>\n",
              "      <td>A (5).jpg</td>\n",
              "      <td>CX2266</td>\n",
              "      <td>6202</td>\n",
              "      <td>0.0</td>\n",
              "    </tr>\n",
              "    <tr>\n",
              "      <th>...</th>\n",
              "      <td>...</td>\n",
              "      <td>...</td>\n",
              "      <td>...</td>\n",
              "      <td>...</td>\n",
              "    </tr>\n",
              "    <tr>\n",
              "      <th>433</th>\n",
              "      <td>GP010451_5319.jpg</td>\n",
              "      <td>DFDA 100526 0</td>\n",
              "      <td>NaN</td>\n",
              "      <td>18.0</td>\n",
              "    </tr>\n",
              "    <tr>\n",
              "      <th>434</th>\n",
              "      <td>GP010451_5322.jpg</td>\n",
              "      <td>DFDA 100526 0</td>\n",
              "      <td>NaN</td>\n",
              "      <td>18.0</td>\n",
              "    </tr>\n",
              "    <tr>\n",
              "      <th>435</th>\n",
              "      <td>GT_GP010451_13725.jpg</td>\n",
              "      <td>592731</td>\n",
              "      <td>NaN</td>\n",
              "      <td>19.0</td>\n",
              "    </tr>\n",
              "    <tr>\n",
              "      <th>436</th>\n",
              "      <td>1.jpg</td>\n",
              "      <td>ABC</td>\n",
              "      <td>NaN</td>\n",
              "      <td>NaN</td>\n",
              "    </tr>\n",
              "    <tr>\n",
              "      <th>437</th>\n",
              "      <td>0.jpg</td>\n",
              "      <td>123</td>\n",
              "      <td>NaN</td>\n",
              "      <td>NaN</td>\n",
              "    </tr>\n",
              "  </tbody>\n",
              "</table>\n",
              "<p>438 rows × 4 columns</p>\n",
              "</div>"
            ],
            "text/plain": [
              "                  filename       cargo_id cargo_id_additional  custom_id\n",
              "0                A (1).jpg         CX2266                 NaN        0.0\n",
              "1                A (2).jpg         CX2266              DX1512        0.0\n",
              "2                A (3).jpg         CX2266                6202        0.0\n",
              "3                A (4).jpg         CX2266                 202        0.0\n",
              "4                A (5).jpg         CX2266                6202        0.0\n",
              "..                     ...            ...                 ...        ...\n",
              "433      GP010451_5319.jpg  DFDA 100526 0                 NaN       18.0\n",
              "434      GP010451_5322.jpg  DFDA 100526 0                 NaN       18.0\n",
              "435  GT_GP010451_13725.jpg         592731                 NaN       19.0\n",
              "436                  1.jpg            ABC                 NaN        NaN\n",
              "437                  0.jpg            123                 NaN        NaN\n",
              "\n",
              "[438 rows x 4 columns]"
            ]
          },
          "execution_count": 64,
          "metadata": {},
          "output_type": "execute_result"
        }
      ],
      "source": [
        "df = pd.concat([df, to_concat], ignore_index=True)\n",
        "df"
      ]
    },
    {
      "cell_type": "code",
      "execution_count": null,
      "metadata": {
        "id": "p0J3VGpHhFmZ"
      },
      "outputs": [],
      "source": [
        "df.to_csv('combined.csv')"
      ]
    }
  ],
  "metadata": {
    "interpreter": {
      "hash": "4e936e27adfb3838c0cd00ec91f962a6b1b039776c28de1f7b9997f5335679c4"
    },
    "kernelspec": {
      "display_name": "Python 3.8.8 ('py310')",
      "language": "python",
      "name": "python3"
    },
    "language_info": {
      "codemirror_mode": {
        "name": "ipython",
        "version": 3
      },
      "file_extension": ".py",
      "mimetype": "text/x-python",
      "name": "python",
      "nbconvert_exporter": "python",
      "pygments_lexer": "ipython3",
      "version": "3.10.4"
    },
    "orig_nbformat": 4,
    "colab": {
      "name": "parser.ipynb",
      "provenance": [],
      "include_colab_link": true
    }
  },
  "nbformat": 4,
  "nbformat_minor": 0
}