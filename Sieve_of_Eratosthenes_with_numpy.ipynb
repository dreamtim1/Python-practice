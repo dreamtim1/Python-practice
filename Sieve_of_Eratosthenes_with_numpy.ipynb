{
  "cells": [
    {
      "cell_type": "markdown",
      "metadata": {
        "id": "view-in-github",
        "colab_type": "text"
      },
      "source": [
        "<a href=\"https://colab.research.google.com/github/dreamtim1/Python-practice/blob/master/Sieve_of_Eratosthenes_with_numpy.ipynb\" target=\"_parent\"><img src=\"https://colab.research.google.com/assets/colab-badge.svg\" alt=\"Open In Colab\"/></a>"
      ]
    },
    {
      "cell_type": "markdown",
      "metadata": {
        "id": "fONNhprWEpRW"
      },
      "source": [
        "In this notebook we will implement the Sieve of Eratosthenes, using NumPy.\n",
        "\n",
        "We will also test its execution time and visualize it with Matplotlib."
      ]
    },
    {
      "cell_type": "code",
      "execution_count": null,
      "metadata": {
        "id": "YDaZ4ve_EpRc"
      },
      "outputs": [],
      "source": [
        "\"\"\"Sieve of Eratosthenes impementation with numpy\"\"\"\n",
        "\n",
        "import numpy as np\n",
        "\n",
        "def erato(n):\n",
        "    \"\"\"Finds all the prime numbers under given number (> 2), returns a numpy array\"\"\"\n",
        "\n",
        "    nums = np.arange(2, n, dtype='int64')\n",
        "    nums = ((nums % nums[0]) != 0) * nums\n",
        "\n",
        "    # Allocate memory for saving primes\n",
        "    max_num_of_primes = int((n / np.log(n)) * (1 + 1.2762 / np.log(n))) + 1\n",
        "    primes = np.empty(shape=max_num_of_primes, dtype='int64')\n",
        "    primes[0] = 2\n",
        "    primes_index_to_append = np.int64(1)\n",
        "\n",
        "    stop_prime = np.int64((n ** 0.5) + 1)\n",
        "\n",
        "    for i in range(n):\n",
        "        # We use argmax, because it stops after first match\n",
        "        # Unlike nonzero, we don't create a huge extra array\n",
        "        first_non_zero = np.argmax(nums > 0)\n",
        "        another_prime = nums[first_non_zero]\n",
        "\n",
        "        if another_prime >= stop_prime:\n",
        "            break\n",
        "\n",
        "        nums = ((nums % another_prime) != 0) * nums\n",
        "\n",
        "        primes[primes_index_to_append] = another_prime\n",
        "        primes_index_to_append += 1\n",
        "\n",
        "    # Clear primes from initial values\n",
        "    primes = primes[:primes_index_to_append]\n",
        "\n",
        "    # Append to the primes remaining non zero numbers\n",
        "    primes = np.concatenate([primes, nums[nums != 0]])\n",
        "\n",
        "    return primes\n"
      ]
    },
    {
      "cell_type": "markdown",
      "metadata": {
        "id": "4_Wisdb_EpRd"
      },
      "source": [
        "Let's write a test for our function, using a list of prime numbers from the Internet."
      ]
    },
    {
      "cell_type": "code",
      "execution_count": null,
      "metadata": {
        "id": "f2v4BIV4EpRe"
      },
      "outputs": [],
      "source": [
        "def test_100():\n",
        "    n = 100\n",
        "    answer = np.fromstring('2, 3, 5, 7, 11, 13, 17, 19, 23, 29, 31, 37, 41, 43, 47, 53, 59, 61, 67, 71, 73, 79, 83, 89, 97', sep=', ')\n",
        "    assert np.array_equiv(answer, erato(n))"
      ]
    },
    {
      "cell_type": "markdown",
      "metadata": {
        "id": "NRguqDKZEpRe"
      },
      "source": [
        "Now we can test it!"
      ]
    },
    {
      "cell_type": "code",
      "execution_count": null,
      "metadata": {
        "id": "95ffNskbEpRe"
      },
      "outputs": [],
      "source": [
        "test_100()"
      ]
    },
    {
      "cell_type": "markdown",
      "metadata": {
        "id": "nBbCUjZyEpRf"
      },
      "source": [
        "The `test_100()` doesn't raise any error, it is also possible to test it with different numbers."
      ]
    },
    {
      "cell_type": "code",
      "execution_count": null,
      "metadata": {
        "id": "Q6tJgZUeEpRf",
        "outputId": "d4a834fe-6d7b-4b03-dac1-8816dbc8f77e"
      },
      "outputs": [
        {
          "name": "stdout",
          "output_type": "stream",
          "text": [
            "[  2   3   5   7  11  13  17  19  23  29  31  37  41  43  47  53  59  61\n",
            "  67  71  73  79  83  89  97 101 103 107 109 113 127 131 137 139 149 151\n",
            " 157 163 167 173 179 181 191 193 197 199 211 223 227 229 233 239 241 251\n",
            " 257 263 269 271 277 281 283 293 307 311 313 317 331 337 347 349 353 359\n",
            " 367 373 379 383 389 397 401 409 419 421 431 433 439 443 449 457 461 463\n",
            " 467 479 487 491 499 503 509 521 523 541 547 557 563 569 571 577 587 593\n",
            " 599 601 607 613 617 619 631 641 643 647 653 659 661 673 677 683 691 701\n",
            " 709 719 727 733 739 743 751 757 761 769 773 787 797 809 811 821 823 827\n",
            " 829 839 853 857 859 863 877 881 883 887 907 911 919 929 937 941 947 953\n",
            " 967 971 977 983 991 997]\n"
          ]
        }
      ],
      "source": [
        "n = int(input('Enter n: '))\n",
        "print(erato(n))"
      ]
    },
    {
      "cell_type": "markdown",
      "metadata": {
        "id": "7f5EJCjVEpRg"
      },
      "source": [
        "Everything works! Now let's measure the execution time."
      ]
    },
    {
      "cell_type": "code",
      "execution_count": null,
      "metadata": {
        "id": "eCB_1PBDEpRg"
      },
      "outputs": [],
      "source": [
        "def measure_time():\n",
        "    \"\"\"Measures execution time of the erato(10**n), returns 2 numpy arrays: used inputs and times\"\"\"\n",
        "    \n",
        "    from timeit import repeat\n",
        "    from itertools import chain\n",
        "\n",
        "    # We create generators to freeze the calculations\n",
        "    # It doesn't really matter inside the function, but it's useful for interactive debugging \n",
        "    # We use smaller number of repeats for big n\n",
        "\n",
        "    measure_small = (repeat(lambda: erato(10**n), number = 1, repeat=1000) for n in range(1, 5))\n",
        "    measure_small_means = (np.array(times, dtype='float64').mean() for times in measure_small)\n",
        "\n",
        "    measure_large = (repeat(lambda: erato(10**n), number = 1, repeat=10) for n in range(5, 8))\n",
        "    measure_large_means = (np.array(times, dtype='float64').mean() for times in measure_large)\n",
        "\n",
        "    measure_all_means = chain(measure_small_means, measure_large_means)\n",
        "\n",
        "    measurements = np.fromiter(measure_all_means, dtype='float64')\n",
        "    inputs = np.arange(1, 8, dtype='int8')\n",
        "\n",
        "    return inputs, measurements\n",
        "\n"
      ]
    },
    {
      "cell_type": "markdown",
      "metadata": {
        "id": "C0mgkfVcEpRh"
      },
      "source": [
        "The measurements will take a lot of time (about 5 mins)!"
      ]
    },
    {
      "cell_type": "code",
      "execution_count": null,
      "metadata": {
        "id": "xe5hegnfEpRh"
      },
      "outputs": [],
      "source": [
        "inputs, measurements = measure_time()"
      ]
    },
    {
      "cell_type": "code",
      "execution_count": null,
      "metadata": {
        "id": "yMru0jUuEpRi",
        "outputId": "3ee20023-79fb-4a85-d255-d7fe119387d9"
      },
      "outputs": [
        {
          "data": {
            "text/plain": [
              "array([1, 2, 3, 4, 5, 6, 7], dtype=int8)"
            ]
          },
          "execution_count": 205,
          "metadata": {},
          "output_type": "execute_result"
        }
      ],
      "source": [
        "inputs"
      ]
    },
    {
      "cell_type": "code",
      "execution_count": null,
      "metadata": {
        "id": "2TadqAAmEpRi",
        "outputId": "18ec3afb-f215-4ba8-94c4-48f76d83cfa3"
      },
      "outputs": [
        {
          "data": {
            "text/plain": [
              "array([2.64081475e-05, 3.83769729e-05, 1.35553113e-04, 1.20881638e-03,\n",
              "       3.70566342e-02, 1.00396019e+00, 3.38814374e+01])"
            ]
          },
          "execution_count": 206,
          "metadata": {},
          "output_type": "execute_result"
        }
      ],
      "source": [
        "measurements"
      ]
    },
    {
      "cell_type": "markdown",
      "metadata": {
        "id": "5SQj9N1WEpRj"
      },
      "source": [
        "No let's create a simple plot to show dependence of the execution time on the ammount of data."
      ]
    },
    {
      "cell_type": "code",
      "execution_count": null,
      "metadata": {
        "id": "7_CX7BZiEpRj"
      },
      "outputs": [],
      "source": [
        "def plot_time(inputs, measurements):\n",
        "    \"\"\"Visualizes the dependence of the execution time on n\"\"\"\n",
        "\n",
        "    import matplotlib.pyplot as plt\n",
        "\n",
        "    x_axis = [f'10^{n}' for n in inputs]\n",
        "\n",
        "    # Logarithmic scale for better representation\n",
        "    y_axis = np.log(measurements)\n",
        "    \n",
        "    time_10 = measurements[0]\n",
        "    exp_y = np.array([10 ** (t - 1) for t in inputs], dtype='int64')\n",
        "    y_axis_lin = np.log(time_10 * exp_y)\n",
        "    y_axis_log = np.log(time_10 * exp_y * np.log(np.log(exp_y)))\n",
        "    \n",
        "    plt.plot(x_axis, y_axis, label='measured')\n",
        "    plt.plot(x_axis, y_axis_lin, label='theoretical: O(n)')\n",
        "    plt.plot(x_axis, y_axis_log, label='theoretical: O(n * log log n)')\n",
        "\n",
        "    plt.xlabel('n')\n",
        "    plt.ylabel('ln(time)')\n",
        "    plt.legend()\n",
        "\n",
        "    plt.title('Dependence of the execution time on the ammount of data (logarithmic scale)')\n",
        "\n",
        "    plt.show()"
      ]
    },
    {
      "cell_type": "code",
      "execution_count": null,
      "metadata": {
        "id": "YFECIYMMEpRk",
        "outputId": "cc716011-3188-44e7-8423-dd9de5829e35"
      },
      "outputs": [
        {
          "name": "stderr",
          "output_type": "stream",
          "text": [
            "/tmp/ipykernel_93993/908796469.py:14: RuntimeWarning: divide by zero encountered in log\n",
            "  y_axis_log = np.log(time_10 * exp_y * np.log(np.log(exp_y)))\n",
            "/tmp/ipykernel_93993/908796469.py:14: RuntimeWarning: invalid value encountered in log\n",
            "  y_axis_log = np.log(time_10 * exp_y * np.log(np.log(exp_y)))\n"
          ]
        },
        {
          "data": {
            "image/png": "[encoded data removed]",
            "text/plain": [
              "<Figure size 432x288 with 1 Axes>"
            ]
          },
          "metadata": {
            "needs_background": "light"
          },
          "output_type": "display_data"
        }
      ],
      "source": [
        "plot_time(inputs, measurements)"
      ]
    },
    {
      "cell_type": "markdown",
      "metadata": {
        "id": "j6oHH3tyEpRk"
      },
      "source": [
        "From the theory, this implementation should be $O(n * log(log(n)))$. It is clear from the plot, that for small n our program is faster, it is also even faster than $O(n)$! At some n, it becomes slower than $O(n)$ and probably approaching the $O(n * log(log(n)))$.\n",
        "\n",
        "Also after some experiments one interesting phenomenon was found: memory allocation significantly increased the perfomance for $n < 10^5$ only. "
      ]
    }
  ],
  "metadata": {
    "interpreter": {
      "hash": "57818da3ee1fd01d36d722dc5d70d8ee0174abb1fbd688f676d98834109492dc"
    },
    "kernelspec": {
      "display_name": "Python 3.9.7 ('base')",
      "language": "python",
      "name": "python3"
    },
    "language_info": {
      "codemirror_mode": {
        "name": "ipython",
        "version": 3
      },
      "file_extension": ".py",
      "mimetype": "text/x-python",
      "name": "python",
      "nbconvert_exporter": "python",
      "pygments_lexer": "ipython3",
      "version": "3.9.7"
    },
    "orig_nbformat": 4,
    "colab": {
      "name": "Sieve_of_Eratosthenes_with_numpy.ipynb",
      "provenance": [],
      "include_colab_link": true
    }
  },
  "nbformat": 4,
  "nbformat_minor": 0
}