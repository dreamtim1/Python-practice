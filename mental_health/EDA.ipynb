{
 "cells": [
  {
   "cell_type": "markdown",
   "metadata": {},
   "source": [
    "# Imports and set up"
   ]
  },
  {
   "cell_type": "code",
   "execution_count": 165,
   "metadata": {},
   "outputs": [],
   "source": [
    "import numpy as np\n",
    "import pandas as pd\n",
    "import matplotlib.pyplot as plt\n",
    "import seaborn as sns\n",
    "\n",
    "from sklearn.linear_model import LinearRegression\n",
    "\n",
    "from IPython.display import display\n",
    "\n",
    "import sqlite3"
   ]
  },
  {
   "cell_type": "code",
   "execution_count": 166,
   "metadata": {},
   "outputs": [
    {
     "name": "stdout",
     "output_type": "stream",
     "text": [
      "The autoreload extension is already loaded. To reload it, use:\n",
      "  %reload_ext autoreload\n"
     ]
    }
   ],
   "source": [
    "%load_ext autoreload\n",
    "%autoreload 2"
   ]
  },
  {
   "cell_type": "code",
   "execution_count": 167,
   "metadata": {},
   "outputs": [],
   "source": [
    "PATH = 'mental_health.sqlite'\n",
    "connection = sqlite3.connect(PATH)"
   ]
  },
  {
   "cell_type": "markdown",
   "metadata": {},
   "source": [
    "### Self written helper functions"
   ]
  },
  {
   "cell_type": "code",
   "execution_count": 168,
   "metadata": {},
   "outputs": [],
   "source": [
    "from myhelpers import PandasHelpers, SeabornHelpers, PandasSeriesAppliers\n",
    "\n",
    "explore_df = PandasHelpers.explore_df\n",
    "full_display_rows = PandasHelpers.full_display_rows\n",
    "\n",
    "kde_boxen = SeabornHelpers.kde_boxen"
   ]
  },
  {
   "cell_type": "markdown",
   "metadata": {},
   "source": [
    "# Explore and get the data"
   ]
  },
  {
   "cell_type": "code",
   "execution_count": 169,
   "metadata": {},
   "outputs": [],
   "source": [
    "tables_query = '''\n",
    "--sql\n",
    "SELECT * FROM sqlite_schema;\n",
    "'''"
   ]
  },
  {
   "cell_type": "code",
   "execution_count": 170,
   "metadata": {},
   "outputs": [
    {
     "data": {
      "text/html": [
       "<div>\n",
       "<style scoped>\n",
       "    .dataframe tbody tr th:only-of-type {\n",
       "        vertical-align: middle;\n",
       "    }\n",
       "\n",
       "    .dataframe tbody tr th {\n",
       "        vertical-align: top;\n",
       "    }\n",
       "\n",
       "    .dataframe thead th {\n",
       "        text-align: right;\n",
       "    }\n",
       "</style>\n",
       "<table border=\"1\" class=\"dataframe\">\n",
       "  <thead>\n",
       "    <tr style=\"text-align: right;\">\n",
       "      <th></th>\n",
       "      <th>type</th>\n",
       "      <th>name</th>\n",
       "      <th>tbl_name</th>\n",
       "      <th>rootpage</th>\n",
       "      <th>sql</th>\n",
       "    </tr>\n",
       "  </thead>\n",
       "  <tbody>\n",
       "    <tr>\n",
       "      <th>0</th>\n",
       "      <td>table</td>\n",
       "      <td>Answer</td>\n",
       "      <td>Answer</td>\n",
       "      <td>2</td>\n",
       "      <td>CREATE TABLE \"Answer\" (\\n\\t\"AnswerText\" VARCHA...</td>\n",
       "    </tr>\n",
       "    <tr>\n",
       "      <th>1</th>\n",
       "      <td>table</td>\n",
       "      <td>Question</td>\n",
       "      <td>Question</td>\n",
       "      <td>1434</td>\n",
       "      <td>CREATE TABLE \"Question\" (\\n\\t\"questiontext\" VA...</td>\n",
       "    </tr>\n",
       "    <tr>\n",
       "      <th>2</th>\n",
       "      <td>table</td>\n",
       "      <td>Survey</td>\n",
       "      <td>Survey</td>\n",
       "      <td>1438</td>\n",
       "      <td>CREATE TABLE \"Survey\" (\\n\\t\"SurveyID\" INTEGER ...</td>\n",
       "    </tr>\n",
       "  </tbody>\n",
       "</table>\n",
       "</div>"
      ],
      "text/plain": [
       "    type      name  tbl_name  rootpage  \\\n",
       "0  table    Answer    Answer         2   \n",
       "1  table  Question  Question      1434   \n",
       "2  table    Survey    Survey      1438   \n",
       "\n",
       "                                                 sql  \n",
       "0  CREATE TABLE \"Answer\" (\\n\\t\"AnswerText\" VARCHA...  \n",
       "1  CREATE TABLE \"Question\" (\\n\\t\"questiontext\" VA...  \n",
       "2  CREATE TABLE \"Survey\" (\\n\\t\"SurveyID\" INTEGER ...  "
      ]
     },
     "execution_count": 170,
     "metadata": {},
     "output_type": "execute_result"
    }
   ],
   "source": [
    "tables = pd.read_sql(tables_query, connection)\n",
    "# Without .head() since we expect it to be small\n",
    "tables"
   ]
  },
  {
   "cell_type": "markdown",
   "metadata": {},
   "source": [
    "It looks like we have several surveys with questions and respondents answers."
   ]
  },
  {
   "cell_type": "code",
   "execution_count": 171,
   "metadata": {},
   "outputs": [
    {
     "name": "stdout",
     "output_type": "stream",
     "text": [
      "TABLE \"ANSWER\"\n",
      "SIZE: 236898\n"
     ]
    },
    {
     "data": {
      "text/html": [
       "<div>\n",
       "<style scoped>\n",
       "    .dataframe tbody tr th:only-of-type {\n",
       "        vertical-align: middle;\n",
       "    }\n",
       "\n",
       "    .dataframe tbody tr th {\n",
       "        vertical-align: top;\n",
       "    }\n",
       "\n",
       "    .dataframe thead th {\n",
       "        text-align: right;\n",
       "    }\n",
       "</style>\n",
       "<table border=\"1\" class=\"dataframe\">\n",
       "  <thead>\n",
       "    <tr style=\"text-align: right;\">\n",
       "      <th></th>\n",
       "      <th>AnswerText</th>\n",
       "      <th>SurveyID</th>\n",
       "      <th>UserID</th>\n",
       "      <th>QuestionID</th>\n",
       "    </tr>\n",
       "  </thead>\n",
       "  <tbody>\n",
       "    <tr>\n",
       "      <th>0</th>\n",
       "      <td>37</td>\n",
       "      <td>2014</td>\n",
       "      <td>1</td>\n",
       "      <td>1</td>\n",
       "    </tr>\n",
       "    <tr>\n",
       "      <th>1</th>\n",
       "      <td>44</td>\n",
       "      <td>2014</td>\n",
       "      <td>2</td>\n",
       "      <td>1</td>\n",
       "    </tr>\n",
       "    <tr>\n",
       "      <th>2</th>\n",
       "      <td>32</td>\n",
       "      <td>2014</td>\n",
       "      <td>3</td>\n",
       "      <td>1</td>\n",
       "    </tr>\n",
       "    <tr>\n",
       "      <th>3</th>\n",
       "      <td>31</td>\n",
       "      <td>2014</td>\n",
       "      <td>4</td>\n",
       "      <td>1</td>\n",
       "    </tr>\n",
       "    <tr>\n",
       "      <th>4</th>\n",
       "      <td>31</td>\n",
       "      <td>2014</td>\n",
       "      <td>5</td>\n",
       "      <td>1</td>\n",
       "    </tr>\n",
       "  </tbody>\n",
       "</table>\n",
       "</div>"
      ],
      "text/plain": [
       "  AnswerText  SurveyID  UserID  QuestionID\n",
       "0         37      2014       1           1\n",
       "1         44      2014       2           1\n",
       "2         32      2014       3           1\n",
       "3         31      2014       4           1\n",
       "4         31      2014       5           1"
      ]
     },
     "metadata": {},
     "output_type": "display_data"
    },
    {
     "name": "stdout",
     "output_type": "stream",
     "text": [
      "TABLE \"QUESTION\"\n",
      "SIZE: 105\n"
     ]
    },
    {
     "data": {
      "text/html": [
       "<div>\n",
       "<style scoped>\n",
       "    .dataframe tbody tr th:only-of-type {\n",
       "        vertical-align: middle;\n",
       "    }\n",
       "\n",
       "    .dataframe tbody tr th {\n",
       "        vertical-align: top;\n",
       "    }\n",
       "\n",
       "    .dataframe thead th {\n",
       "        text-align: right;\n",
       "    }\n",
       "</style>\n",
       "<table border=\"1\" class=\"dataframe\">\n",
       "  <thead>\n",
       "    <tr style=\"text-align: right;\">\n",
       "      <th></th>\n",
       "      <th>questiontext</th>\n",
       "      <th>questionid</th>\n",
       "    </tr>\n",
       "  </thead>\n",
       "  <tbody>\n",
       "    <tr>\n",
       "      <th>0</th>\n",
       "      <td>What is your age?</td>\n",
       "      <td>1</td>\n",
       "    </tr>\n",
       "    <tr>\n",
       "      <th>1</th>\n",
       "      <td>What is your gender?</td>\n",
       "      <td>2</td>\n",
       "    </tr>\n",
       "    <tr>\n",
       "      <th>2</th>\n",
       "      <td>What country do you live in?</td>\n",
       "      <td>3</td>\n",
       "    </tr>\n",
       "    <tr>\n",
       "      <th>3</th>\n",
       "      <td>If you live in the United States, which state ...</td>\n",
       "      <td>4</td>\n",
       "    </tr>\n",
       "    <tr>\n",
       "      <th>4</th>\n",
       "      <td>Are you self-employed?</td>\n",
       "      <td>5</td>\n",
       "    </tr>\n",
       "  </tbody>\n",
       "</table>\n",
       "</div>"
      ],
      "text/plain": [
       "                                        questiontext  questionid\n",
       "0                                  What is your age?           1\n",
       "1                               What is your gender?           2\n",
       "2                       What country do you live in?           3\n",
       "3  If you live in the United States, which state ...           4\n",
       "4                             Are you self-employed?           5"
      ]
     },
     "metadata": {},
     "output_type": "display_data"
    },
    {
     "name": "stdout",
     "output_type": "stream",
     "text": [
      "TABLE \"SURVEY\"\n",
      "SIZE: 5\n"
     ]
    },
    {
     "data": {
      "text/html": [
       "<div>\n",
       "<style scoped>\n",
       "    .dataframe tbody tr th:only-of-type {\n",
       "        vertical-align: middle;\n",
       "    }\n",
       "\n",
       "    .dataframe tbody tr th {\n",
       "        vertical-align: top;\n",
       "    }\n",
       "\n",
       "    .dataframe thead th {\n",
       "        text-align: right;\n",
       "    }\n",
       "</style>\n",
       "<table border=\"1\" class=\"dataframe\">\n",
       "  <thead>\n",
       "    <tr style=\"text-align: right;\">\n",
       "      <th></th>\n",
       "      <th>SurveyID</th>\n",
       "      <th>Description</th>\n",
       "    </tr>\n",
       "  </thead>\n",
       "  <tbody>\n",
       "    <tr>\n",
       "      <th>0</th>\n",
       "      <td>2014</td>\n",
       "      <td>mental health survey for 2014</td>\n",
       "    </tr>\n",
       "    <tr>\n",
       "      <th>1</th>\n",
       "      <td>2016</td>\n",
       "      <td>mental health survey for 2016</td>\n",
       "    </tr>\n",
       "    <tr>\n",
       "      <th>2</th>\n",
       "      <td>2017</td>\n",
       "      <td>mental health survey for 2017</td>\n",
       "    </tr>\n",
       "    <tr>\n",
       "      <th>3</th>\n",
       "      <td>2018</td>\n",
       "      <td>mental health survey for 2018</td>\n",
       "    </tr>\n",
       "    <tr>\n",
       "      <th>4</th>\n",
       "      <td>2019</td>\n",
       "      <td>mental health survey for 2019</td>\n",
       "    </tr>\n",
       "  </tbody>\n",
       "</table>\n",
       "</div>"
      ],
      "text/plain": [
       "   SurveyID                    Description\n",
       "0      2014  mental health survey for 2014\n",
       "1      2016  mental health survey for 2016\n",
       "2      2017  mental health survey for 2017\n",
       "3      2018  mental health survey for 2018\n",
       "4      2019  mental health survey for 2019"
      ]
     },
     "metadata": {},
     "output_type": "display_data"
    }
   ],
   "source": [
    "for table in tables.name:\n",
    "\n",
    "    query = f'''\n",
    "    --sql\n",
    "    SELECT COUNT(*) size\n",
    "    FROM {table};\n",
    "    '''\n",
    "\n",
    "    df = pd.read_sql(query, connection)\n",
    "    print(f'TABLE \"{table.upper()}\"')\n",
    "    print(f'SIZE: {int(df.iloc[0])}')\n",
    "\n",
    "    query = f'''\n",
    "    --sql\n",
    "    SELECT * FROM {table}\n",
    "    LIMIT 5;\n",
    "    '''\n",
    "\n",
    "    df = pd.read_sql(query, connection)\n",
    "    display(df)"
   ]
  },
  {
   "cell_type": "markdown",
   "metadata": {},
   "source": [
    "In our case it makes sense to combine the data from \"ANSWER\" and \"QUESTION\": we will just create and \"question\" in \"ANSWER\" table. Table \"SURVEY\" is useless. We will also include id columns for easier aggregation.\n",
    "\n",
    "We could keep it in the database and query it with SQL to gain insights, but our approach is more straightworward. However, it is less efficient, so, for larger database it would be probably better to select some pieces of data that we need for different questions."
   ]
  },
  {
   "cell_type": "code",
   "execution_count": 172,
   "metadata": {},
   "outputs": [],
   "source": [
    "query = f'''\n",
    "--sql\n",
    "SELECT\n",
    "    a.AnswerText answer, a.SurveyID year, a.UserID user_id,\n",
    "    q.questiontext question, q.questionid question_id\n",
    "FROM answer a\n",
    "JOIN question q\n",
    "    ON a.QuestionID = q.questionid;\n",
    "'''\n",
    "\n",
    "df = pd.read_sql(query, connection)\n",
    "cols = ['question', 'answer', 'year', 'question_id', 'user_id']\n",
    "df = df[cols]"
   ]
  },
  {
   "cell_type": "markdown",
   "metadata": {},
   "source": [
    "Let's also create a questions table:"
   ]
  },
  {
   "cell_type": "code",
   "execution_count": 173,
   "metadata": {},
   "outputs": [],
   "source": [
    "query = f'''\n",
    "--sql\n",
    "SELECT * FROM question;\n",
    "'''\n",
    "\n",
    "questions = pd.read_sql(query, connection).set_index(['questionid'])"
   ]
  },
  {
   "cell_type": "code",
   "execution_count": 174,
   "metadata": {},
   "outputs": [
    {
     "data": {
      "text/html": [
       "<div>\n",
       "<style scoped>\n",
       "    .dataframe tbody tr th:only-of-type {\n",
       "        vertical-align: middle;\n",
       "    }\n",
       "\n",
       "    .dataframe tbody tr th {\n",
       "        vertical-align: top;\n",
       "    }\n",
       "\n",
       "    .dataframe thead th {\n",
       "        text-align: right;\n",
       "    }\n",
       "</style>\n",
       "<table border=\"1\" class=\"dataframe\">\n",
       "  <thead>\n",
       "    <tr style=\"text-align: right;\">\n",
       "      <th></th>\n",
       "      <th>question</th>\n",
       "      <th>answer</th>\n",
       "      <th>year</th>\n",
       "      <th>question_id</th>\n",
       "      <th>user_id</th>\n",
       "    </tr>\n",
       "  </thead>\n",
       "  <tbody>\n",
       "    <tr>\n",
       "      <th>0</th>\n",
       "      <td>What is your age?</td>\n",
       "      <td>37</td>\n",
       "      <td>2014</td>\n",
       "      <td>1</td>\n",
       "      <td>1</td>\n",
       "    </tr>\n",
       "    <tr>\n",
       "      <th>1</th>\n",
       "      <td>What is your age?</td>\n",
       "      <td>44</td>\n",
       "      <td>2014</td>\n",
       "      <td>1</td>\n",
       "      <td>2</td>\n",
       "    </tr>\n",
       "    <tr>\n",
       "      <th>2</th>\n",
       "      <td>What is your age?</td>\n",
       "      <td>32</td>\n",
       "      <td>2014</td>\n",
       "      <td>1</td>\n",
       "      <td>3</td>\n",
       "    </tr>\n",
       "    <tr>\n",
       "      <th>3</th>\n",
       "      <td>What is your age?</td>\n",
       "      <td>31</td>\n",
       "      <td>2014</td>\n",
       "      <td>1</td>\n",
       "      <td>4</td>\n",
       "    </tr>\n",
       "    <tr>\n",
       "      <th>4</th>\n",
       "      <td>What is your age?</td>\n",
       "      <td>31</td>\n",
       "      <td>2014</td>\n",
       "      <td>1</td>\n",
       "      <td>5</td>\n",
       "    </tr>\n",
       "    <tr>\n",
       "      <th>236893</th>\n",
       "      <td>Which of the following best describes your wor...</td>\n",
       "      <td>Other</td>\n",
       "      <td>2016</td>\n",
       "      <td>117</td>\n",
       "      <td>2689</td>\n",
       "    </tr>\n",
       "    <tr>\n",
       "      <th>236894</th>\n",
       "      <td>Which of the following best describes your wor...</td>\n",
       "      <td>Support</td>\n",
       "      <td>2016</td>\n",
       "      <td>117</td>\n",
       "      <td>2690</td>\n",
       "    </tr>\n",
       "    <tr>\n",
       "      <th>236895</th>\n",
       "      <td>Which of the following best describes your wor...</td>\n",
       "      <td>Back-end Developer</td>\n",
       "      <td>2016</td>\n",
       "      <td>117</td>\n",
       "      <td>2691</td>\n",
       "    </tr>\n",
       "    <tr>\n",
       "      <th>236896</th>\n",
       "      <td>Which of the following best describes your wor...</td>\n",
       "      <td>DevOps/SysAdmin</td>\n",
       "      <td>2016</td>\n",
       "      <td>117</td>\n",
       "      <td>2692</td>\n",
       "    </tr>\n",
       "    <tr>\n",
       "      <th>236897</th>\n",
       "      <td>Which of the following best describes your wor...</td>\n",
       "      <td>Other</td>\n",
       "      <td>2016</td>\n",
       "      <td>117</td>\n",
       "      <td>2693</td>\n",
       "    </tr>\n",
       "  </tbody>\n",
       "</table>\n",
       "</div>"
      ],
      "text/plain": [
       "                                                 question              answer  \\\n",
       "0                                       What is your age?                  37   \n",
       "1                                       What is your age?                  44   \n",
       "2                                       What is your age?                  32   \n",
       "3                                       What is your age?                  31   \n",
       "4                                       What is your age?                  31   \n",
       "236893  Which of the following best describes your wor...               Other   \n",
       "236894  Which of the following best describes your wor...             Support   \n",
       "236895  Which of the following best describes your wor...  Back-end Developer   \n",
       "236896  Which of the following best describes your wor...     DevOps/SysAdmin   \n",
       "236897  Which of the following best describes your wor...               Other   \n",
       "\n",
       "        year  question_id  user_id  \n",
       "0       2014            1        1  \n",
       "1       2014            1        2  \n",
       "2       2014            1        3  \n",
       "3       2014            1        4  \n",
       "4       2014            1        5  \n",
       "236893  2016          117     2689  \n",
       "236894  2016          117     2690  \n",
       "236895  2016          117     2691  \n",
       "236896  2016          117     2692  \n",
       "236897  2016          117     2693  "
      ]
     },
     "metadata": {},
     "output_type": "display_data"
    },
    {
     "name": "stdout",
     "output_type": "stream",
     "text": [
      "<class 'pandas.core.frame.DataFrame'>\n",
      "RangeIndex: 236898 entries, 0 to 236897\n",
      "Data columns (total 5 columns):\n",
      " #   Column       Non-Null Count   Dtype \n",
      "---  ------       --------------   ----- \n",
      " 0   question     236898 non-null  object\n",
      " 1   answer       236898 non-null  object\n",
      " 2   year         236898 non-null  int64 \n",
      " 3   question_id  236898 non-null  int64 \n",
      " 4   user_id      236898 non-null  int64 \n",
      "dtypes: int64(3), object(2)\n",
      "memory usage: 9.0+ MB\n"
     ]
    },
    {
     "data": {
      "text/plain": [
       "None"
      ]
     },
     "metadata": {},
     "output_type": "display_data"
    }
   ],
   "source": [
    "explore_df(df)"
   ]
  },
  {
   "cell_type": "code",
   "execution_count": 175,
   "metadata": {},
   "outputs": [
    {
     "data": {
      "text/html": [
       "<div>\n",
       "<style scoped>\n",
       "    .dataframe tbody tr th:only-of-type {\n",
       "        vertical-align: middle;\n",
       "    }\n",
       "\n",
       "    .dataframe tbody tr th {\n",
       "        vertical-align: top;\n",
       "    }\n",
       "\n",
       "    .dataframe thead th {\n",
       "        text-align: right;\n",
       "    }\n",
       "</style>\n",
       "<table border=\"1\" class=\"dataframe\">\n",
       "  <thead>\n",
       "    <tr style=\"text-align: right;\">\n",
       "      <th></th>\n",
       "      <th>questiontext</th>\n",
       "    </tr>\n",
       "    <tr>\n",
       "      <th>questionid</th>\n",
       "      <th></th>\n",
       "    </tr>\n",
       "  </thead>\n",
       "  <tbody>\n",
       "    <tr>\n",
       "      <th>1</th>\n",
       "      <td>What is your age?</td>\n",
       "    </tr>\n",
       "    <tr>\n",
       "      <th>2</th>\n",
       "      <td>What is your gender?</td>\n",
       "    </tr>\n",
       "    <tr>\n",
       "      <th>3</th>\n",
       "      <td>What country do you live in?</td>\n",
       "    </tr>\n",
       "    <tr>\n",
       "      <th>4</th>\n",
       "      <td>If you live in the United States, which state ...</td>\n",
       "    </tr>\n",
       "    <tr>\n",
       "      <th>5</th>\n",
       "      <td>Are you self-employed?</td>\n",
       "    </tr>\n",
       "    <tr>\n",
       "      <th>114</th>\n",
       "      <td>Do you think that team members/co-workers woul...</td>\n",
       "    </tr>\n",
       "    <tr>\n",
       "      <th>115</th>\n",
       "      <td>If yes, what condition(s) have you been diagno...</td>\n",
       "    </tr>\n",
       "    <tr>\n",
       "      <th>116</th>\n",
       "      <td>If maybe, what condition(s) do you believe you...</td>\n",
       "    </tr>\n",
       "    <tr>\n",
       "      <th>117</th>\n",
       "      <td>Which of the following best describes your wor...</td>\n",
       "    </tr>\n",
       "    <tr>\n",
       "      <th>118</th>\n",
       "      <td>Do you work remotely?</td>\n",
       "    </tr>\n",
       "  </tbody>\n",
       "</table>\n",
       "</div>"
      ],
      "text/plain": [
       "                                                 questiontext\n",
       "questionid                                                   \n",
       "1                                           What is your age?\n",
       "2                                        What is your gender?\n",
       "3                                What country do you live in?\n",
       "4           If you live in the United States, which state ...\n",
       "5                                      Are you self-employed?\n",
       "114         Do you think that team members/co-workers woul...\n",
       "115         If yes, what condition(s) have you been diagno...\n",
       "116         If maybe, what condition(s) do you believe you...\n",
       "117         Which of the following best describes your wor...\n",
       "118                                     Do you work remotely?"
      ]
     },
     "metadata": {},
     "output_type": "display_data"
    },
    {
     "name": "stdout",
     "output_type": "stream",
     "text": [
      "<class 'pandas.core.frame.DataFrame'>\n",
      "Int64Index: 105 entries, 1 to 118\n",
      "Data columns (total 1 columns):\n",
      " #   Column        Non-Null Count  Dtype \n",
      "---  ------        --------------  ----- \n",
      " 0   questiontext  105 non-null    object\n",
      "dtypes: object(1)\n",
      "memory usage: 1.6+ KB\n"
     ]
    },
    {
     "data": {
      "text/plain": [
       "None"
      ]
     },
     "metadata": {},
     "output_type": "display_data"
    }
   ],
   "source": [
    "explore_df(questions)"
   ]
  },
  {
   "cell_type": "markdown",
   "metadata": {},
   "source": [
    "It's a little bit strange, that the last id is 118, when we have only 105 questions..."
   ]
  },
  {
   "cell_type": "markdown",
   "metadata": {},
   "source": [
    "# Preprocess the data"
   ]
  },
  {
   "cell_type": "markdown",
   "metadata": {},
   "source": [
    "### Classify the questions"
   ]
  },
  {
   "cell_type": "markdown",
   "metadata": {},
   "source": [
    "We have a plenty of questions (> 100) and some of them have numeric answers, and some are text data... It's too time=consuming to dive into these questions by hands, so we will classify these 2 types of questions automatically and created 2 answer columns instead of 1."
   ]
  },
  {
   "cell_type": "code",
   "execution_count": 176,
   "metadata": {},
   "outputs": [],
   "source": [
    "is_num_mask = df.answer.apply(np.char.isnumeric)\n",
    "df['answer_num'] = df.answer[is_num_mask].astype('Int64')\n",
    "df['answer_text'] = df.answer[~is_num_mask].str.capitalize()\n",
    "del df['answer']"
   ]
  },
  {
   "cell_type": "markdown",
   "metadata": {},
   "source": [
    "Each question can have only numerical answers or only text answers. Let's check it:"
   ]
  },
  {
   "cell_type": "code",
   "execution_count": 177,
   "metadata": {},
   "outputs": [
    {
     "data": {
      "text/html": [
       "<div>\n",
       "<style scoped>\n",
       "    .dataframe tbody tr th:only-of-type {\n",
       "        vertical-align: middle;\n",
       "    }\n",
       "\n",
       "    .dataframe tbody tr th {\n",
       "        vertical-align: top;\n",
       "    }\n",
       "\n",
       "    .dataframe thead th {\n",
       "        text-align: right;\n",
       "    }\n",
       "</style>\n",
       "<table border=\"1\" class=\"dataframe\">\n",
       "  <thead>\n",
       "    <tr style=\"text-align: right;\">\n",
       "      <th></th>\n",
       "      <th>answer_num</th>\n",
       "      <th>answer_text</th>\n",
       "      <th>question</th>\n",
       "    </tr>\n",
       "    <tr>\n",
       "      <th>question_id</th>\n",
       "      <th></th>\n",
       "      <th></th>\n",
       "      <th></th>\n",
       "    </tr>\n",
       "  </thead>\n",
       "  <tbody>\n",
       "    <tr>\n",
       "      <th>1</th>\n",
       "      <td>4212</td>\n",
       "      <td>6</td>\n",
       "      <td>4218</td>\n",
       "    </tr>\n",
       "    <tr>\n",
       "      <th>2</th>\n",
       "      <td>1</td>\n",
       "      <td>4217</td>\n",
       "      <td>4218</td>\n",
       "    </tr>\n",
       "    <tr>\n",
       "      <th>3</th>\n",
       "      <td>0</td>\n",
       "      <td>4218</td>\n",
       "      <td>4218</td>\n",
       "    </tr>\n",
       "    <tr>\n",
       "      <th>4</th>\n",
       "      <td>0</td>\n",
       "      <td>4218</td>\n",
       "      <td>4218</td>\n",
       "    </tr>\n",
       "    <tr>\n",
       "      <th>5</th>\n",
       "      <td>4200</td>\n",
       "      <td>18</td>\n",
       "      <td>4218</td>\n",
       "    </tr>\n",
       "  </tbody>\n",
       "</table>\n",
       "</div>"
      ],
      "text/plain": [
       "             answer_num  answer_text  question\n",
       "question_id                                   \n",
       "1                  4212            6      4218\n",
       "2                     1         4217      4218\n",
       "3                     0         4218      4218\n",
       "4                     0         4218      4218\n",
       "5                  4200           18      4218"
      ]
     },
     "execution_count": 177,
     "metadata": {},
     "output_type": "execute_result"
    }
   ],
   "source": [
    "answers_count = df[['question_id', 'answer_num', 'answer_text', 'question']].groupby('question_id').count()\n",
    "answers_count.head()"
   ]
  },
  {
   "cell_type": "markdown",
   "metadata": {},
   "source": [
    "Here are some questions, which have both numeric and text answers. Most likely, these answers are wrong:"
   ]
  },
  {
   "cell_type": "code",
   "execution_count": 178,
   "metadata": {},
   "outputs": [
    {
     "data": {
      "text/html": [
       "<div>\n",
       "<style scoped>\n",
       "    .dataframe tbody tr th:only-of-type {\n",
       "        vertical-align: middle;\n",
       "    }\n",
       "\n",
       "    .dataframe tbody tr th {\n",
       "        vertical-align: top;\n",
       "    }\n",
       "\n",
       "    .dataframe thead th {\n",
       "        text-align: right;\n",
       "    }\n",
       "</style>\n",
       "<table border=\"1\" class=\"dataframe\">\n",
       "  <thead>\n",
       "    <tr style=\"text-align: right;\">\n",
       "      <th></th>\n",
       "      <th>answer_num</th>\n",
       "      <th>answer_text</th>\n",
       "      <th>question</th>\n",
       "    </tr>\n",
       "    <tr>\n",
       "      <th>question_id</th>\n",
       "      <th></th>\n",
       "      <th></th>\n",
       "      <th></th>\n",
       "    </tr>\n",
       "  </thead>\n",
       "  <tbody>\n",
       "    <tr>\n",
       "      <th>1</th>\n",
       "      <td>4212</td>\n",
       "      <td>6</td>\n",
       "      <td>4218</td>\n",
       "    </tr>\n",
       "    <tr>\n",
       "      <th>2</th>\n",
       "      <td>1</td>\n",
       "      <td>4217</td>\n",
       "      <td>4218</td>\n",
       "    </tr>\n",
       "    <tr>\n",
       "      <th>5</th>\n",
       "      <td>4200</td>\n",
       "      <td>18</td>\n",
       "      <td>4218</td>\n",
       "    </tr>\n",
       "    <tr>\n",
       "      <th>9</th>\n",
       "      <td>3714</td>\n",
       "      <td>504</td>\n",
       "      <td>4218</td>\n",
       "    </tr>\n",
       "    <tr>\n",
       "      <th>13</th>\n",
       "      <td>1571</td>\n",
       "      <td>1387</td>\n",
       "      <td>2958</td>\n",
       "    </tr>\n",
       "    <tr>\n",
       "      <th>20</th>\n",
       "      <td>504</td>\n",
       "      <td>2454</td>\n",
       "      <td>2958</td>\n",
       "    </tr>\n",
       "    <tr>\n",
       "      <th>58</th>\n",
       "      <td>1308</td>\n",
       "      <td>217</td>\n",
       "      <td>1525</td>\n",
       "    </tr>\n",
       "    <tr>\n",
       "      <th>60</th>\n",
       "      <td>1304</td>\n",
       "      <td>221</td>\n",
       "      <td>1525</td>\n",
       "    </tr>\n",
       "    <tr>\n",
       "      <th>61</th>\n",
       "      <td>1</td>\n",
       "      <td>1524</td>\n",
       "      <td>1525</td>\n",
       "    </tr>\n",
       "    <tr>\n",
       "      <th>62</th>\n",
       "      <td>1302</td>\n",
       "      <td>223</td>\n",
       "      <td>1525</td>\n",
       "    </tr>\n",
       "    <tr>\n",
       "      <th>63</th>\n",
       "      <td>1</td>\n",
       "      <td>1524</td>\n",
       "      <td>1525</td>\n",
       "    </tr>\n",
       "    <tr>\n",
       "      <th>64</th>\n",
       "      <td>1308</td>\n",
       "      <td>217</td>\n",
       "      <td>1525</td>\n",
       "    </tr>\n",
       "    <tr>\n",
       "      <th>65</th>\n",
       "      <td>1308</td>\n",
       "      <td>217</td>\n",
       "      <td>1525</td>\n",
       "    </tr>\n",
       "    <tr>\n",
       "      <th>68</th>\n",
       "      <td>1326</td>\n",
       "      <td>199</td>\n",
       "      <td>1525</td>\n",
       "    </tr>\n",
       "    <tr>\n",
       "      <th>70</th>\n",
       "      <td>1326</td>\n",
       "      <td>199</td>\n",
       "      <td>1525</td>\n",
       "    </tr>\n",
       "    <tr>\n",
       "      <th>71</th>\n",
       "      <td>1</td>\n",
       "      <td>1524</td>\n",
       "      <td>1525</td>\n",
       "    </tr>\n",
       "    <tr>\n",
       "      <th>72</th>\n",
       "      <td>1322</td>\n",
       "      <td>203</td>\n",
       "      <td>1525</td>\n",
       "    </tr>\n",
       "    <tr>\n",
       "      <th>73</th>\n",
       "      <td>1</td>\n",
       "      <td>1524</td>\n",
       "      <td>1525</td>\n",
       "    </tr>\n",
       "    <tr>\n",
       "      <th>74</th>\n",
       "      <td>1319</td>\n",
       "      <td>206</td>\n",
       "      <td>1525</td>\n",
       "    </tr>\n",
       "    <tr>\n",
       "      <th>76</th>\n",
       "      <td>1326</td>\n",
       "      <td>199</td>\n",
       "      <td>1525</td>\n",
       "    </tr>\n",
       "    <tr>\n",
       "      <th>77</th>\n",
       "      <td>1326</td>\n",
       "      <td>199</td>\n",
       "      <td>1525</td>\n",
       "    </tr>\n",
       "    <tr>\n",
       "      <th>78</th>\n",
       "      <td>1523</td>\n",
       "      <td>2</td>\n",
       "      <td>1525</td>\n",
       "    </tr>\n",
       "    <tr>\n",
       "      <th>79</th>\n",
       "      <td>180</td>\n",
       "      <td>1345</td>\n",
       "      <td>1525</td>\n",
       "    </tr>\n",
       "    <tr>\n",
       "      <th>80</th>\n",
       "      <td>60</td>\n",
       "      <td>1465</td>\n",
       "      <td>1525</td>\n",
       "    </tr>\n",
       "    <tr>\n",
       "      <th>81</th>\n",
       "      <td>1523</td>\n",
       "      <td>2</td>\n",
       "      <td>1525</td>\n",
       "    </tr>\n",
       "    <tr>\n",
       "      <th>85</th>\n",
       "      <td>1523</td>\n",
       "      <td>2</td>\n",
       "      <td>1525</td>\n",
       "    </tr>\n",
       "    <tr>\n",
       "      <th>86</th>\n",
       "      <td>1</td>\n",
       "      <td>1524</td>\n",
       "      <td>1525</td>\n",
       "    </tr>\n",
       "    <tr>\n",
       "      <th>88</th>\n",
       "      <td>1523</td>\n",
       "      <td>2</td>\n",
       "      <td>1525</td>\n",
       "    </tr>\n",
       "  </tbody>\n",
       "</table>\n",
       "</div>"
      ],
      "text/plain": [
       "             answer_num  answer_text  question\n",
       "question_id                                   \n",
       "1                  4212            6      4218\n",
       "2                     1         4217      4218\n",
       "5                  4200           18      4218\n",
       "9                  3714          504      4218\n",
       "13                 1571         1387      2958\n",
       "20                  504         2454      2958\n",
       "58                 1308          217      1525\n",
       "60                 1304          221      1525\n",
       "61                    1         1524      1525\n",
       "62                 1302          223      1525\n",
       "63                    1         1524      1525\n",
       "64                 1308          217      1525\n",
       "65                 1308          217      1525\n",
       "68                 1326          199      1525\n",
       "70                 1326          199      1525\n",
       "71                    1         1524      1525\n",
       "72                 1322          203      1525\n",
       "73                    1         1524      1525\n",
       "74                 1319          206      1525\n",
       "76                 1326          199      1525\n",
       "77                 1326          199      1525\n",
       "78                 1523            2      1525\n",
       "79                  180         1345      1525\n",
       "80                   60         1465      1525\n",
       "81                 1523            2      1525\n",
       "85                 1523            2      1525\n",
       "86                    1         1524      1525\n",
       "88                 1523            2      1525"
      ]
     },
     "execution_count": 178,
     "metadata": {},
     "output_type": "execute_result"
    }
   ],
   "source": [
    "strange_answers = answers_count[answers_count.answer_num.astype('bool') & answers_count.answer_text.astype('bool')]\n",
    "strange_answers"
   ]
  },
  {
   "cell_type": "markdown",
   "metadata": {},
   "source": [
    "We will delete \"wrong\" rows where these rows are less than 1 % from number of the other answers. Sometimes there is a much less significant difference between the types of questions, we will deal with this issue later."
   ]
  },
  {
   "cell_type": "code",
   "execution_count": 179,
   "metadata": {},
   "outputs": [],
   "source": [
    "min_max = strange_answers.apply(lambda row: sorted([row.answer_num, row.answer_text]), axis='columns')\n",
    "mask = min_max.apply(lambda row: row[0] < row[1] * 0.01)\n",
    "to_delete = strange_answers[mask][['answer_num', 'answer_text']].idxmin(axis='columns')"
   ]
  },
  {
   "cell_type": "code",
   "execution_count": 180,
   "metadata": {},
   "outputs": [
    {
     "name": "stdout",
     "output_type": "stream",
     "text": [
      "1\tanswer_text\n",
      "2\tanswer_num\n",
      "5\tanswer_text\n",
      "61\tanswer_num\n",
      "63\tanswer_num\n",
      "71\tanswer_num\n",
      "73\tanswer_num\n",
      "78\tanswer_text\n",
      "81\tanswer_text\n",
      "85\tanswer_text\n",
      "86\tanswer_num\n",
      "88\tanswer_text\n"
     ]
    }
   ],
   "source": [
    "full_display_rows(to_delete, n = len(to_delete))"
   ]
  },
  {
   "cell_type": "code",
   "execution_count": 181,
   "metadata": {},
   "outputs": [
    {
     "data": {
      "text/html": [
       "<div>\n",
       "<style scoped>\n",
       "    .dataframe tbody tr th:only-of-type {\n",
       "        vertical-align: middle;\n",
       "    }\n",
       "\n",
       "    .dataframe tbody tr th {\n",
       "        vertical-align: top;\n",
       "    }\n",
       "\n",
       "    .dataframe thead th {\n",
       "        text-align: right;\n",
       "    }\n",
       "</style>\n",
       "<table border=\"1\" class=\"dataframe\">\n",
       "  <thead>\n",
       "    <tr style=\"text-align: right;\">\n",
       "      <th></th>\n",
       "      <th>answer_num</th>\n",
       "      <th>answer_text</th>\n",
       "      <th>question</th>\n",
       "      <th>questiontext</th>\n",
       "    </tr>\n",
       "    <tr>\n",
       "      <th>question_id</th>\n",
       "      <th></th>\n",
       "      <th></th>\n",
       "      <th></th>\n",
       "      <th></th>\n",
       "    </tr>\n",
       "  </thead>\n",
       "  <tbody>\n",
       "    <tr>\n",
       "      <th>9</th>\n",
       "      <td>3714</td>\n",
       "      <td>504</td>\n",
       "      <td>4218</td>\n",
       "      <td>Is your employer primarily a tech company/orga...</td>\n",
       "    </tr>\n",
       "    <tr>\n",
       "      <th>13</th>\n",
       "      <td>1571</td>\n",
       "      <td>1387</td>\n",
       "      <td>2958</td>\n",
       "      <td>Is your primary role within your company relat...</td>\n",
       "    </tr>\n",
       "    <tr>\n",
       "      <th>20</th>\n",
       "      <td>504</td>\n",
       "      <td>2454</td>\n",
       "      <td>2958</td>\n",
       "      <td>Do you have medical coverage (private insuranc...</td>\n",
       "    </tr>\n",
       "    <tr>\n",
       "      <th>58</th>\n",
       "      <td>1308</td>\n",
       "      <td>217</td>\n",
       "      <td>1525</td>\n",
       "      <td>Have you ever discussed your mental health wit...</td>\n",
       "    </tr>\n",
       "    <tr>\n",
       "      <th>60</th>\n",
       "      <td>1304</td>\n",
       "      <td>221</td>\n",
       "      <td>1525</td>\n",
       "      <td>Have you ever discussed your mental health wit...</td>\n",
       "    </tr>\n",
       "    <tr>\n",
       "      <th>62</th>\n",
       "      <td>1302</td>\n",
       "      <td>223</td>\n",
       "      <td>1525</td>\n",
       "      <td>Have you ever had a coworker discuss their or ...</td>\n",
       "    </tr>\n",
       "    <tr>\n",
       "      <th>64</th>\n",
       "      <td>1308</td>\n",
       "      <td>217</td>\n",
       "      <td>1525</td>\n",
       "      <td>Overall, how much importance does your employe...</td>\n",
       "    </tr>\n",
       "    <tr>\n",
       "      <th>65</th>\n",
       "      <td>1308</td>\n",
       "      <td>217</td>\n",
       "      <td>1525</td>\n",
       "      <td>Overall, how much importance does your employe...</td>\n",
       "    </tr>\n",
       "    <tr>\n",
       "      <th>68</th>\n",
       "      <td>1326</td>\n",
       "      <td>199</td>\n",
       "      <td>1525</td>\n",
       "      <td>Was your employer primarily a tech company/org...</td>\n",
       "    </tr>\n",
       "    <tr>\n",
       "      <th>70</th>\n",
       "      <td>1326</td>\n",
       "      <td>199</td>\n",
       "      <td>1525</td>\n",
       "      <td>Did you ever discuss your mental health with y...</td>\n",
       "    </tr>\n",
       "    <tr>\n",
       "      <th>72</th>\n",
       "      <td>1322</td>\n",
       "      <td>203</td>\n",
       "      <td>1525</td>\n",
       "      <td>Did you ever discuss your mental health with a...</td>\n",
       "    </tr>\n",
       "    <tr>\n",
       "      <th>74</th>\n",
       "      <td>1319</td>\n",
       "      <td>206</td>\n",
       "      <td>1525</td>\n",
       "      <td>Did you ever have a previous coworker discuss ...</td>\n",
       "    </tr>\n",
       "    <tr>\n",
       "      <th>76</th>\n",
       "      <td>1326</td>\n",
       "      <td>199</td>\n",
       "      <td>1525</td>\n",
       "      <td>Overall, how much importance did your previous...</td>\n",
       "    </tr>\n",
       "    <tr>\n",
       "      <th>77</th>\n",
       "      <td>1326</td>\n",
       "      <td>199</td>\n",
       "      <td>1525</td>\n",
       "      <td>Overall, how much importance did your previous...</td>\n",
       "    </tr>\n",
       "    <tr>\n",
       "      <th>79</th>\n",
       "      <td>180</td>\n",
       "      <td>1345</td>\n",
       "      <td>1525</td>\n",
       "      <td>Has being identified as a person with a mental...</td>\n",
       "    </tr>\n",
       "    <tr>\n",
       "      <th>80</th>\n",
       "      <td>60</td>\n",
       "      <td>1465</td>\n",
       "      <td>1525</td>\n",
       "      <td>How has it affected your career?</td>\n",
       "    </tr>\n",
       "  </tbody>\n",
       "</table>\n",
       "</div>"
      ],
      "text/plain": [
       "             answer_num  answer_text  question  \\\n",
       "question_id                                      \n",
       "9                  3714          504      4218   \n",
       "13                 1571         1387      2958   \n",
       "20                  504         2454      2958   \n",
       "58                 1308          217      1525   \n",
       "60                 1304          221      1525   \n",
       "62                 1302          223      1525   \n",
       "64                 1308          217      1525   \n",
       "65                 1308          217      1525   \n",
       "68                 1326          199      1525   \n",
       "70                 1326          199      1525   \n",
       "72                 1322          203      1525   \n",
       "74                 1319          206      1525   \n",
       "76                 1326          199      1525   \n",
       "77                 1326          199      1525   \n",
       "79                  180         1345      1525   \n",
       "80                   60         1465      1525   \n",
       "\n",
       "                                                  questiontext  \n",
       "question_id                                                     \n",
       "9            Is your employer primarily a tech company/orga...  \n",
       "13           Is your primary role within your company relat...  \n",
       "20           Do you have medical coverage (private insuranc...  \n",
       "58           Have you ever discussed your mental health wit...  \n",
       "60           Have you ever discussed your mental health wit...  \n",
       "62           Have you ever had a coworker discuss their or ...  \n",
       "64           Overall, how much importance does your employe...  \n",
       "65           Overall, how much importance does your employe...  \n",
       "68           Was your employer primarily a tech company/org...  \n",
       "70           Did you ever discuss your mental health with y...  \n",
       "72           Did you ever discuss your mental health with a...  \n",
       "74           Did you ever have a previous coworker discuss ...  \n",
       "76           Overall, how much importance did your previous...  \n",
       "77           Overall, how much importance did your previous...  \n",
       "79           Has being identified as a person with a mental...  \n",
       "80                            How has it affected your career?  "
      ]
     },
     "execution_count": 181,
     "metadata": {},
     "output_type": "execute_result"
    }
   ],
   "source": [
    "mask = min_max.apply(lambda row: row[0] >= row[1] * 0.01)\n",
    "num_text_answers = strange_answers[mask]\n",
    "num_text_answers.join(questions.loc[num_text_answers.index])"
   ]
  },
  {
   "cell_type": "code",
   "execution_count": 182,
   "metadata": {},
   "outputs": [],
   "source": [
    "num_text_df = df.query('question_id in @num_text_answers.index')"
   ]
  },
  {
   "cell_type": "markdown",
   "metadata": {},
   "source": [
    "There are many yes/no questions. But why the answer is often numeric? Let's see:"
   ]
  },
  {
   "cell_type": "code",
   "execution_count": 183,
   "metadata": {},
   "outputs": [
    {
     "data": {
      "text/html": [
       "<div>\n",
       "<style scoped>\n",
       "    .dataframe tbody tr th:only-of-type {\n",
       "        vertical-align: middle;\n",
       "    }\n",
       "\n",
       "    .dataframe tbody tr th {\n",
       "        vertical-align: top;\n",
       "    }\n",
       "\n",
       "    .dataframe thead th {\n",
       "        text-align: right;\n",
       "    }\n",
       "</style>\n",
       "<table border=\"1\" class=\"dataframe\">\n",
       "  <thead>\n",
       "    <tr style=\"text-align: right;\">\n",
       "      <th></th>\n",
       "      <th>question</th>\n",
       "      <th>year</th>\n",
       "      <th>question_id</th>\n",
       "      <th>user_id</th>\n",
       "      <th>answer_num</th>\n",
       "      <th>answer_text</th>\n",
       "    </tr>\n",
       "  </thead>\n",
       "  <tbody>\n",
       "    <tr>\n",
       "      <th>10080</th>\n",
       "      <td>Is your employer primarily a tech company/orga...</td>\n",
       "      <td>2014</td>\n",
       "      <td>9</td>\n",
       "      <td>1</td>\n",
       "      <td>1</td>\n",
       "      <td>NaN</td>\n",
       "    </tr>\n",
       "    <tr>\n",
       "      <th>10081</th>\n",
       "      <td>Is your employer primarily a tech company/orga...</td>\n",
       "      <td>2014</td>\n",
       "      <td>9</td>\n",
       "      <td>2</td>\n",
       "      <td>0</td>\n",
       "      <td>NaN</td>\n",
       "    </tr>\n",
       "    <tr>\n",
       "      <th>10082</th>\n",
       "      <td>Is your employer primarily a tech company/orga...</td>\n",
       "      <td>2014</td>\n",
       "      <td>9</td>\n",
       "      <td>3</td>\n",
       "      <td>1</td>\n",
       "      <td>NaN</td>\n",
       "    </tr>\n",
       "    <tr>\n",
       "      <th>10083</th>\n",
       "      <td>Is your employer primarily a tech company/orga...</td>\n",
       "      <td>2014</td>\n",
       "      <td>9</td>\n",
       "      <td>4</td>\n",
       "      <td>1</td>\n",
       "      <td>NaN</td>\n",
       "    </tr>\n",
       "    <tr>\n",
       "      <th>10084</th>\n",
       "      <td>Is your employer primarily a tech company/orga...</td>\n",
       "      <td>2014</td>\n",
       "      <td>9</td>\n",
       "      <td>5</td>\n",
       "      <td>1</td>\n",
       "      <td>NaN</td>\n",
       "    </tr>\n",
       "    <tr>\n",
       "      <th>206752</th>\n",
       "      <td>Is your employer primarily a tech company/orga...</td>\n",
       "      <td>2019</td>\n",
       "      <td>9</td>\n",
       "      <td>4214</td>\n",
       "      <td>0</td>\n",
       "      <td>NaN</td>\n",
       "    </tr>\n",
       "    <tr>\n",
       "      <th>206753</th>\n",
       "      <td>Is your employer primarily a tech company/orga...</td>\n",
       "      <td>2019</td>\n",
       "      <td>9</td>\n",
       "      <td>4215</td>\n",
       "      <td>&lt;NA&gt;</td>\n",
       "      <td>-1</td>\n",
       "    </tr>\n",
       "    <tr>\n",
       "      <th>206754</th>\n",
       "      <td>Is your employer primarily a tech company/orga...</td>\n",
       "      <td>2019</td>\n",
       "      <td>9</td>\n",
       "      <td>4216</td>\n",
       "      <td>&lt;NA&gt;</td>\n",
       "      <td>-1</td>\n",
       "    </tr>\n",
       "    <tr>\n",
       "      <th>206755</th>\n",
       "      <td>Is your employer primarily a tech company/orga...</td>\n",
       "      <td>2019</td>\n",
       "      <td>9</td>\n",
       "      <td>4217</td>\n",
       "      <td>1</td>\n",
       "      <td>NaN</td>\n",
       "    </tr>\n",
       "    <tr>\n",
       "      <th>206756</th>\n",
       "      <td>Is your employer primarily a tech company/orga...</td>\n",
       "      <td>2019</td>\n",
       "      <td>9</td>\n",
       "      <td>4218</td>\n",
       "      <td>1</td>\n",
       "      <td>NaN</td>\n",
       "    </tr>\n",
       "  </tbody>\n",
       "</table>\n",
       "</div>"
      ],
      "text/plain": [
       "                                                 question  year  question_id  \\\n",
       "10080   Is your employer primarily a tech company/orga...  2014            9   \n",
       "10081   Is your employer primarily a tech company/orga...  2014            9   \n",
       "10082   Is your employer primarily a tech company/orga...  2014            9   \n",
       "10083   Is your employer primarily a tech company/orga...  2014            9   \n",
       "10084   Is your employer primarily a tech company/orga...  2014            9   \n",
       "206752  Is your employer primarily a tech company/orga...  2019            9   \n",
       "206753  Is your employer primarily a tech company/orga...  2019            9   \n",
       "206754  Is your employer primarily a tech company/orga...  2019            9   \n",
       "206755  Is your employer primarily a tech company/orga...  2019            9   \n",
       "206756  Is your employer primarily a tech company/orga...  2019            9   \n",
       "\n",
       "        user_id  answer_num answer_text  \n",
       "10080         1           1         NaN  \n",
       "10081         2           0         NaN  \n",
       "10082         3           1         NaN  \n",
       "10083         4           1         NaN  \n",
       "10084         5           1         NaN  \n",
       "206752     4214           0         NaN  \n",
       "206753     4215        <NA>          -1  \n",
       "206754     4216        <NA>          -1  \n",
       "206755     4217           1         NaN  \n",
       "206756     4218           1         NaN  "
      ]
     },
     "metadata": {},
     "output_type": "display_data"
    },
    {
     "name": "stdout",
     "output_type": "stream",
     "text": [
      "<class 'pandas.core.frame.DataFrame'>\n",
      "Int64Index: 4218 entries, 10080 to 206756\n",
      "Data columns (total 6 columns):\n",
      " #   Column       Non-Null Count  Dtype \n",
      "---  ------       --------------  ----- \n",
      " 0   question     4218 non-null   object\n",
      " 1   year         4218 non-null   int64 \n",
      " 2   question_id  4218 non-null   int64 \n",
      " 3   user_id      4218 non-null   int64 \n",
      " 4   answer_num   3714 non-null   Int64 \n",
      " 5   answer_text  504 non-null    object\n",
      "dtypes: Int64(1), int64(3), object(2)\n",
      "memory usage: 234.8+ KB\n"
     ]
    },
    {
     "data": {
      "text/plain": [
       "None"
      ]
     },
     "metadata": {},
     "output_type": "display_data"
    }
   ],
   "source": [
    "explore_df(num_text_df[num_text_df.question_id == 9])"
   ]
  },
  {
   "cell_type": "markdown",
   "metadata": {},
   "source": [
    "Most likely, in such questions 1 means YES, -1 menas NO  and 0 means something neutral or not recorded. Let's create a columns for these categorical answers. However, here are some other possible answers:"
   ]
  },
  {
   "cell_type": "code",
   "execution_count": 184,
   "metadata": {},
   "outputs": [
    {
     "name": "stdout",
     "output_type": "stream",
     "text": [
      "3     15\n",
      "4     13\n",
      "2      9\n",
      "6      5\n",
      "7      4\n",
      "1      4\n",
      "8      4\n",
      "0      3\n",
      "10     2\n",
      "5      1\n",
      "Name: answer_num, dtype: Int64\n"
     ]
    }
   ],
   "source": [
    "print(num_text_df[num_text_df.question_id == 80]['answer_num'].value_counts())"
   ]
  },
  {
   "cell_type": "markdown",
   "metadata": {},
   "source": [
    "It's difficult to interprete so in this analysis we will just ignore this data:"
   ]
  },
  {
   "cell_type": "code",
   "execution_count": 185,
   "metadata": {},
   "outputs": [],
   "source": [
    "def is_answer_categorical(row):\n",
    "\n",
    "    if not pd.isna(row.answer_num):\n",
    "        if row.answer_num == 1 or row.answer_num == 0:\n",
    "            return True\n",
    "    elif not pd.isna(row.answer_text):\n",
    "        if row.answer_text == -1:\n",
    "            return True\n",
    "    \n",
    "    return False"
   ]
  },
  {
   "cell_type": "code",
   "execution_count": 186,
   "metadata": {},
   "outputs": [],
   "source": [
    "num_text_df = num_text_df[num_text_df.apply(is_answer_categorical, axis='columns')]"
   ]
  },
  {
   "cell_type": "code",
   "execution_count": 187,
   "metadata": {},
   "outputs": [
    {
     "data": {
      "text/html": [
       "<div>\n",
       "<style scoped>\n",
       "    .dataframe tbody tr th:only-of-type {\n",
       "        vertical-align: middle;\n",
       "    }\n",
       "\n",
       "    .dataframe tbody tr th {\n",
       "        vertical-align: top;\n",
       "    }\n",
       "\n",
       "    .dataframe thead th {\n",
       "        text-align: right;\n",
       "    }\n",
       "</style>\n",
       "<table border=\"1\" class=\"dataframe\">\n",
       "  <thead>\n",
       "    <tr style=\"text-align: right;\">\n",
       "      <th></th>\n",
       "      <th>question</th>\n",
       "      <th>year</th>\n",
       "      <th>question_id</th>\n",
       "      <th>user_id</th>\n",
       "      <th>answer_num</th>\n",
       "      <th>answer_text</th>\n",
       "    </tr>\n",
       "  </thead>\n",
       "  <tbody>\n",
       "    <tr>\n",
       "      <th>10080</th>\n",
       "      <td>Is your employer primarily a tech company/orga...</td>\n",
       "      <td>2014</td>\n",
       "      <td>9</td>\n",
       "      <td>1</td>\n",
       "      <td>1</td>\n",
       "      <td>NaN</td>\n",
       "    </tr>\n",
       "    <tr>\n",
       "      <th>10081</th>\n",
       "      <td>Is your employer primarily a tech company/orga...</td>\n",
       "      <td>2014</td>\n",
       "      <td>9</td>\n",
       "      <td>2</td>\n",
       "      <td>0</td>\n",
       "      <td>NaN</td>\n",
       "    </tr>\n",
       "    <tr>\n",
       "      <th>10082</th>\n",
       "      <td>Is your employer primarily a tech company/orga...</td>\n",
       "      <td>2014</td>\n",
       "      <td>9</td>\n",
       "      <td>3</td>\n",
       "      <td>1</td>\n",
       "      <td>NaN</td>\n",
       "    </tr>\n",
       "    <tr>\n",
       "      <th>10083</th>\n",
       "      <td>Is your employer primarily a tech company/orga...</td>\n",
       "      <td>2014</td>\n",
       "      <td>9</td>\n",
       "      <td>4</td>\n",
       "      <td>1</td>\n",
       "      <td>NaN</td>\n",
       "    </tr>\n",
       "    <tr>\n",
       "      <th>10084</th>\n",
       "      <td>Is your employer primarily a tech company/orga...</td>\n",
       "      <td>2014</td>\n",
       "      <td>9</td>\n",
       "      <td>5</td>\n",
       "      <td>1</td>\n",
       "      <td>NaN</td>\n",
       "    </tr>\n",
       "  </tbody>\n",
       "</table>\n",
       "</div>"
      ],
      "text/plain": [
       "                                                question  year  question_id  \\\n",
       "10080  Is your employer primarily a tech company/orga...  2014            9   \n",
       "10081  Is your employer primarily a tech company/orga...  2014            9   \n",
       "10082  Is your employer primarily a tech company/orga...  2014            9   \n",
       "10083  Is your employer primarily a tech company/orga...  2014            9   \n",
       "10084  Is your employer primarily a tech company/orga...  2014            9   \n",
       "\n",
       "       user_id  answer_num answer_text  \n",
       "10080        1           1         NaN  \n",
       "10081        2           0         NaN  \n",
       "10082        3           1         NaN  \n",
       "10083        4           1         NaN  \n",
       "10084        5           1         NaN  "
      ]
     },
     "execution_count": 187,
     "metadata": {},
     "output_type": "execute_result"
    }
   ],
   "source": [
    "num_text_df = df.query('question_id in @num_text_answers.index')\n",
    "num_text_df = num_text_df[num_text_df.apply(is_answer_categorical, axis='columns')]\n",
    "num_text_df.head()"
   ]
  },
  {
   "cell_type": "code",
   "execution_count": 188,
   "metadata": {},
   "outputs": [],
   "source": [
    "def num_to_cat(row):\n",
    "    if row.answer_num == 1:\n",
    "        return 'Yes'\n",
    "    elif row.answer_num == -1:\n",
    "        return 'No'\n",
    "    elif row.answer_num == 0:\n",
    "        return 'Neutral answer'\n",
    "    else:\n",
    "        raise ValueError(f'Value {row.answer_num} is not 1, -1 or 0!')"
   ]
  },
  {
   "cell_type": "code",
   "execution_count": 189,
   "metadata": {},
   "outputs": [
    {
     "data": {
      "text/html": [
       "<div>\n",
       "<style scoped>\n",
       "    .dataframe tbody tr th:only-of-type {\n",
       "        vertical-align: middle;\n",
       "    }\n",
       "\n",
       "    .dataframe tbody tr th {\n",
       "        vertical-align: top;\n",
       "    }\n",
       "\n",
       "    .dataframe thead th {\n",
       "        text-align: right;\n",
       "    }\n",
       "</style>\n",
       "<table border=\"1\" class=\"dataframe\">\n",
       "  <thead>\n",
       "    <tr style=\"text-align: right;\">\n",
       "      <th></th>\n",
       "      <th>question</th>\n",
       "      <th>year</th>\n",
       "      <th>question_id</th>\n",
       "      <th>user_id</th>\n",
       "      <th>answer_num</th>\n",
       "      <th>answer_text</th>\n",
       "      <th>answer_cat</th>\n",
       "    </tr>\n",
       "  </thead>\n",
       "  <tbody>\n",
       "    <tr>\n",
       "      <th>10080</th>\n",
       "      <td>Is your employer primarily a tech company/orga...</td>\n",
       "      <td>2014</td>\n",
       "      <td>9</td>\n",
       "      <td>1</td>\n",
       "      <td>1</td>\n",
       "      <td>NaN</td>\n",
       "      <td>Yes</td>\n",
       "    </tr>\n",
       "    <tr>\n",
       "      <th>10081</th>\n",
       "      <td>Is your employer primarily a tech company/orga...</td>\n",
       "      <td>2014</td>\n",
       "      <td>9</td>\n",
       "      <td>2</td>\n",
       "      <td>0</td>\n",
       "      <td>NaN</td>\n",
       "      <td>Neutral answer</td>\n",
       "    </tr>\n",
       "    <tr>\n",
       "      <th>10082</th>\n",
       "      <td>Is your employer primarily a tech company/orga...</td>\n",
       "      <td>2014</td>\n",
       "      <td>9</td>\n",
       "      <td>3</td>\n",
       "      <td>1</td>\n",
       "      <td>NaN</td>\n",
       "      <td>Yes</td>\n",
       "    </tr>\n",
       "    <tr>\n",
       "      <th>10083</th>\n",
       "      <td>Is your employer primarily a tech company/orga...</td>\n",
       "      <td>2014</td>\n",
       "      <td>9</td>\n",
       "      <td>4</td>\n",
       "      <td>1</td>\n",
       "      <td>NaN</td>\n",
       "      <td>Yes</td>\n",
       "    </tr>\n",
       "    <tr>\n",
       "      <th>10084</th>\n",
       "      <td>Is your employer primarily a tech company/orga...</td>\n",
       "      <td>2014</td>\n",
       "      <td>9</td>\n",
       "      <td>5</td>\n",
       "      <td>1</td>\n",
       "      <td>NaN</td>\n",
       "      <td>Yes</td>\n",
       "    </tr>\n",
       "  </tbody>\n",
       "</table>\n",
       "</div>"
      ],
      "text/plain": [
       "                                                question  year  question_id  \\\n",
       "10080  Is your employer primarily a tech company/orga...  2014            9   \n",
       "10081  Is your employer primarily a tech company/orga...  2014            9   \n",
       "10082  Is your employer primarily a tech company/orga...  2014            9   \n",
       "10083  Is your employer primarily a tech company/orga...  2014            9   \n",
       "10084  Is your employer primarily a tech company/orga...  2014            9   \n",
       "\n",
       "       user_id  answer_num answer_text      answer_cat  \n",
       "10080        1           1         NaN             Yes  \n",
       "10081        2           0         NaN  Neutral answer  \n",
       "10082        3           1         NaN             Yes  \n",
       "10083        4           1         NaN             Yes  \n",
       "10084        5           1         NaN             Yes  "
      ]
     },
     "execution_count": 189,
     "metadata": {},
     "output_type": "execute_result"
    }
   ],
   "source": [
    "num_text_df['answer_cat'] = num_text_df.apply(num_to_cat, axis='columns')\n",
    "num_text_df.head()"
   ]
  },
  {
   "cell_type": "code",
   "execution_count": 190,
   "metadata": {},
   "outputs": [
    {
     "data": {
      "text/html": [
       "<div>\n",
       "<style scoped>\n",
       "    .dataframe tbody tr th:only-of-type {\n",
       "        vertical-align: middle;\n",
       "    }\n",
       "\n",
       "    .dataframe tbody tr th {\n",
       "        vertical-align: top;\n",
       "    }\n",
       "\n",
       "    .dataframe thead th {\n",
       "        text-align: right;\n",
       "    }\n",
       "</style>\n",
       "<table border=\"1\" class=\"dataframe\">\n",
       "  <thead>\n",
       "    <tr style=\"text-align: right;\">\n",
       "      <th></th>\n",
       "      <th>question</th>\n",
       "      <th>year</th>\n",
       "      <th>question_id</th>\n",
       "      <th>user_id</th>\n",
       "      <th>answer_num</th>\n",
       "      <th>answer_text</th>\n",
       "      <th>answer_cat</th>\n",
       "    </tr>\n",
       "  </thead>\n",
       "  <tbody>\n",
       "    <tr>\n",
       "      <th>0</th>\n",
       "      <td>What is your age?</td>\n",
       "      <td>2014</td>\n",
       "      <td>1</td>\n",
       "      <td>1</td>\n",
       "      <td>37</td>\n",
       "      <td>NaN</td>\n",
       "      <td>NaN</td>\n",
       "    </tr>\n",
       "    <tr>\n",
       "      <th>1</th>\n",
       "      <td>What is your age?</td>\n",
       "      <td>2014</td>\n",
       "      <td>1</td>\n",
       "      <td>2</td>\n",
       "      <td>44</td>\n",
       "      <td>NaN</td>\n",
       "      <td>NaN</td>\n",
       "    </tr>\n",
       "    <tr>\n",
       "      <th>2</th>\n",
       "      <td>What is your age?</td>\n",
       "      <td>2014</td>\n",
       "      <td>1</td>\n",
       "      <td>3</td>\n",
       "      <td>32</td>\n",
       "      <td>NaN</td>\n",
       "      <td>NaN</td>\n",
       "    </tr>\n",
       "    <tr>\n",
       "      <th>3</th>\n",
       "      <td>What is your age?</td>\n",
       "      <td>2014</td>\n",
       "      <td>1</td>\n",
       "      <td>4</td>\n",
       "      <td>31</td>\n",
       "      <td>NaN</td>\n",
       "      <td>NaN</td>\n",
       "    </tr>\n",
       "    <tr>\n",
       "      <th>4</th>\n",
       "      <td>What is your age?</td>\n",
       "      <td>2014</td>\n",
       "      <td>1</td>\n",
       "      <td>5</td>\n",
       "      <td>31</td>\n",
       "      <td>NaN</td>\n",
       "      <td>NaN</td>\n",
       "    </tr>\n",
       "    <tr>\n",
       "      <th>236893</th>\n",
       "      <td>Which of the following best describes your wor...</td>\n",
       "      <td>2016</td>\n",
       "      <td>117</td>\n",
       "      <td>2689</td>\n",
       "      <td>&lt;NA&gt;</td>\n",
       "      <td>Other</td>\n",
       "      <td>NaN</td>\n",
       "    </tr>\n",
       "    <tr>\n",
       "      <th>236894</th>\n",
       "      <td>Which of the following best describes your wor...</td>\n",
       "      <td>2016</td>\n",
       "      <td>117</td>\n",
       "      <td>2690</td>\n",
       "      <td>&lt;NA&gt;</td>\n",
       "      <td>Support</td>\n",
       "      <td>NaN</td>\n",
       "    </tr>\n",
       "    <tr>\n",
       "      <th>236895</th>\n",
       "      <td>Which of the following best describes your wor...</td>\n",
       "      <td>2016</td>\n",
       "      <td>117</td>\n",
       "      <td>2691</td>\n",
       "      <td>&lt;NA&gt;</td>\n",
       "      <td>Back-end developer</td>\n",
       "      <td>NaN</td>\n",
       "    </tr>\n",
       "    <tr>\n",
       "      <th>236896</th>\n",
       "      <td>Which of the following best describes your wor...</td>\n",
       "      <td>2016</td>\n",
       "      <td>117</td>\n",
       "      <td>2692</td>\n",
       "      <td>&lt;NA&gt;</td>\n",
       "      <td>Devops/sysadmin</td>\n",
       "      <td>NaN</td>\n",
       "    </tr>\n",
       "    <tr>\n",
       "      <th>236897</th>\n",
       "      <td>Which of the following best describes your wor...</td>\n",
       "      <td>2016</td>\n",
       "      <td>117</td>\n",
       "      <td>2693</td>\n",
       "      <td>&lt;NA&gt;</td>\n",
       "      <td>Other</td>\n",
       "      <td>NaN</td>\n",
       "    </tr>\n",
       "  </tbody>\n",
       "</table>\n",
       "</div>"
      ],
      "text/plain": [
       "                                                 question  year  question_id  \\\n",
       "0                                       What is your age?  2014            1   \n",
       "1                                       What is your age?  2014            1   \n",
       "2                                       What is your age?  2014            1   \n",
       "3                                       What is your age?  2014            1   \n",
       "4                                       What is your age?  2014            1   \n",
       "236893  Which of the following best describes your wor...  2016          117   \n",
       "236894  Which of the following best describes your wor...  2016          117   \n",
       "236895  Which of the following best describes your wor...  2016          117   \n",
       "236896  Which of the following best describes your wor...  2016          117   \n",
       "236897  Which of the following best describes your wor...  2016          117   \n",
       "\n",
       "        user_id  answer_num         answer_text answer_cat  \n",
       "0             1          37                 NaN        NaN  \n",
       "1             2          44                 NaN        NaN  \n",
       "2             3          32                 NaN        NaN  \n",
       "3             4          31                 NaN        NaN  \n",
       "4             5          31                 NaN        NaN  \n",
       "236893     2689        <NA>               Other        NaN  \n",
       "236894     2690        <NA>             Support        NaN  \n",
       "236895     2691        <NA>  Back-end developer        NaN  \n",
       "236896     2692        <NA>     Devops/sysadmin        NaN  \n",
       "236897     2693        <NA>               Other        NaN  "
      ]
     },
     "metadata": {},
     "output_type": "display_data"
    },
    {
     "name": "stdout",
     "output_type": "stream",
     "text": [
      "<class 'pandas.core.frame.DataFrame'>\n",
      "RangeIndex: 236898 entries, 0 to 236897\n",
      "Data columns (total 7 columns):\n",
      " #   Column       Non-Null Count   Dtype   \n",
      "---  ------       --------------   -----   \n",
      " 0   question     236898 non-null  object  \n",
      " 1   year         236898 non-null  int64   \n",
      " 2   question_id  236898 non-null  int64   \n",
      " 3   user_id      236898 non-null  int64   \n",
      " 4   answer_num   42190 non-null   Int64   \n",
      " 5   answer_text  194708 non-null  object  \n",
      " 6   answer_cat   15840 non-null   category\n",
      "dtypes: Int64(1), category(1), int64(3), object(2)\n",
      "memory usage: 11.3+ MB\n"
     ]
    },
    {
     "data": {
      "text/plain": [
       "None"
      ]
     },
     "metadata": {},
     "output_type": "display_data"
    }
   ],
   "source": [
    "cleaned_df = df.join(num_text_df[['answer_cat']], how='left')\n",
    "cleaned_df['answer_cat'] = cleaned_df['answer_cat'].astype('category')\n",
    "explore_df(cleaned_df)"
   ]
  },
  {
   "cell_type": "markdown",
   "metadata": {},
   "source": [
    "# Define analysis objectives"
   ]
  },
  {
   "cell_type": "markdown",
   "metadata": {},
   "source": [
    "We have many questions and answers, but we are too lazy to explore them all... So, we will just explore descriptive data about the respondents to check is the survey representative and investigate just one aspect of the mental health."
   ]
  },
  {
   "cell_type": "code",
   "execution_count": 191,
   "metadata": {},
   "outputs": [
    {
     "name": "stdout",
     "output_type": "stream",
     "text": [
      "1\tWhat is your age?\n",
      "2\tWhat is your gender?\n",
      "3\tWhat country do you live in?\n",
      "4\tIf you live in the United States, which state or territory do you live in?\n",
      "5\tAre you self-employed?\n",
      "6\tDo you have a family history of mental illness?\n",
      "7\tHave you ever sought treatment for a mental health disorder from a mental health professional?\n",
      "8\tHow many employees does your company or organization have?\n",
      "9\tIs your employer primarily a tech company/organization?\n",
      "10\tDoes your employer provide mental health benefits as part of healthcare coverage?\n",
      "11\tIs your anonymity protected if you choose to take advantage of mental health or substance abuse treatment resources provided by your employer?\n",
      "12\tWould you bring up a mental health issue with a potential employer in an interview?\n",
      "13\tIs your primary role within your company related to tech/IT?\n",
      "14\tDo you know the options for mental health care available under your employer-provided health coverage?\n",
      "15\tHas your employer ever formally discussed mental health (for example, as part of a wellness campaign or other official communication)?\n",
      "16\tDoes your employer offer resources to learn more about mental health disorders and options for seeking help?\n",
      "17\tIf a mental health issue prompted you to request a medical leave from work, how easy or difficult would it be to ask for that leave?\n",
      "18\tWould you feel comfortable discussing a mental health issue with your coworkers?\n",
      "19\tWould you feel comfortable discussing a mental health issue with your direct supervisor(s)?\n",
      "20\tDo you have medical coverage (private insurance or state-provided) that includes treatment of mental health disorders?\n",
      "21\tDo you know local or online resources to seek help for a mental health issue?\n",
      "22\tDo you have previous employers?\n",
      "23\tHave your previous employers provided mental health benefits?\n",
      "24\tWere you aware of the options for mental health care provided by your previous employers?\n",
      "25\tDid your previous employers ever formally discuss mental health (as part of a wellness campaign or other official communication)?\n",
      "26\tDid your previous employers provide resources to learn more about mental health disorders and how to seek help?\n",
      "27\tWas your anonymity protected if you chose to take advantage of mental health or substance abuse treatment resources with previous employers?\n",
      "28\tWould you have been willing to discuss your mental health with your direct supervisor(s)?\n",
      "29\tWould you be willing to bring up a physical health issue with a potential employer in an interview?\n",
      "30\tHow willing would you be to share with friends and family that you have a mental illness?\n",
      "31\tHave your observations of how another individual who discussed a mental health disorder made you less likely to reveal a mental health issue yourself in your current workplace?\n",
      "32\tHave you had a mental health disorder in the past?\n",
      "33\tDo you currently have a mental health disorder?\n",
      "34\tHave you ever been diagnosed with a mental health disorder?\n",
      "48\tIf you have a mental health disorder, how often do you feel that it interferes with your work when being treated effectively?\n",
      "49\tIf you have a mental health disorder, how often do you feel that it interferes with your work when not being treated effectively (i.e., when you are experiencing symptoms)?\n",
      "50\tWhat country do you work in?\n",
      "51\tWhat US state or territory do you work in?\n",
      "52\tIf you have been diagnosed or treated for a mental health disorder, do you ever reveal this to clients or business contacts?\n",
      "53\tIf you have been diagnosed or treated for a mental health disorder, do you ever reveal this to coworkers or employees?\n",
      "54\tDo you believe your productivity is ever affected by a mental health issue?\n",
      "55\tIf yes, what percentage of your work time (time performing primary or secondary job functions) is affected by a mental health issue?\n",
      "56\tHave you observed or experienced an unsupportive or badly handled response to a mental health issue in your current or previous workplace?\n",
      "57\tWould you feel more comfortable talking to your coworkers about your physical health or your mental health?\n",
      "58\tHave you ever discussed your mental health with your employer?\n",
      "59\tDescribe the conversation you had with your employer about your mental health, including their reactions and what actions were taken to address your mental health issue/questions.\n",
      "60\tHave you ever discussed your mental health with coworkers?\n",
      "61\tDescribe the conversation with coworkers you had about your mental health including their reactions.\n",
      "62\tHave you ever had a coworker discuss their or another coworker's mental health with you?\n",
      "63\tDescribe the conversation your coworker had with you about their mental health (please do not use names).\n",
      "64\tOverall, how much importance does your employer place on physical health?\n",
      "65\tOverall, how much importance does your employer place on mental health?\n",
      "66\tIf you have revealed a mental health disorder to a client or business contact, how has this affected you or the relationship?\n",
      "67\tIf you have revealed a mental health disorder to a coworker or employee, how has this impacted you or the relationship?\n",
      "68\tWas your employer primarily a tech company/organization?\n",
      "69\tWould you have felt more comfortable talking to your previous employer about your physical health or your mental health?\n",
      "70\tDid you ever discuss your mental health with your previous employer?\n",
      "71\tDescribe the conversation you had with your previous employer about your mental health, including their reactions and actions taken to address your mental health issue/questions.\n",
      "72\tDid you ever discuss your mental health with a previous coworker(s)?\n",
      "73\tDescribe the conversation you had with your previous coworkers about your mental health including their reactions.\n",
      "74\tDid you ever have a previous coworker discuss their or another coworker's mental health with you?\n",
      "75\tDescribe the conversation your coworker had with you about their mental health (please do not use names)..1\n",
      "76\tOverall, how much importance did your previous employer place on physical health?\n",
      "77\tOverall, how much importance did your previous employer place on mental health?\n",
      "78\tAre you openly identified at work as a person with a mental health issue?\n",
      "79\tHas being identified as a person with a mental health issue affected your career?\n",
      "80\tHow has it affected your career?\n",
      "81\tIf they knew you suffered from a mental health disorder, how do you think that your team members/co-workers would react?\n",
      "82\tDescribe the circumstances of the badly handled or unsupportive response.\n",
      "83\tHave you observed or experienced supportive or well handled response to a mental health issue in your current or previous workplace?\n",
      "84\tDescribe the circumstances of the supportive or well handled response.\n",
      "85\tOverall, how well do you think the tech industry supports employees with mental health issues?\n",
      "86\tBriefly describe what you think the industry as a whole and/or employers could do to improve mental health support for employees.\n",
      "87\tIf there is anything else you would like to tell us that has not been covered by the survey questions, please use this space to do so.\n",
      "88\tWould you be willing to talk to one of us more extensively about your experiences with mental health issues in the tech industry? (Note that all interview responses would be used _anonymously_ and only with your permission.)\n",
      "89\tWhat is your race?\n",
      "90\tDo you think that discussing a physical health issue with your employer would have negative consequences?\n",
      "91\tDo you feel that your employer takes mental health as seriously as physical health?\n",
      "92\tIf you have a mental health condition, do you feel that it interferes with your work?\n",
      "93\tDo you work remotely (outside of an office) at least 50% of the time?\n",
      "94\tDo you know the options for mental health care your employer provides?\n",
      "95\tHas your employer ever discussed mental health as part of an employee wellness program?\n",
      "96\tDoes your employer provide resources to learn more about mental health issues and how to seek help?\n",
      "97\tHow easy is it for you to take medical leave for a mental health condition?\n",
      "98\tDo you think that discussing a mental health issue with your employer would have negative consequences?\n",
      "99\tWould you be willing to discuss a mental health issue with your coworkers?\n",
      "100\tWould you be willing to discuss a mental health issue with your direct supervisor(s)?\n",
      "101\tWould you bring up a physical health issue with a potential employer in an interview?\n",
      "102\tHave you heard of or observed negative consequences for coworkers with mental health conditions in your workplace?\n",
      "103\tAny additional notes or comments\n",
      "104\tDo you think that discussing a mental health disorder with your employer would have negative consequences?\n",
      "105\tHave you heard of or observed negative consequences for co-workers who have been open about mental health issues in your workplace?\n",
      "106\tIf you have revealed a mental health issue to a client or business contact, do you believe this has impacted you negatively?\n",
      "107\tIf you have revealed a mental health issue to a coworker or employee, do you believe this has impacted you negatively?\n",
      "108\tDo you think that discussing a mental health disorder with previous employers would have negative consequences?\n",
      "109\tDo you think that discussing a physical health issue with previous employers would have negative consequences?\n",
      "110\tWould you have been willing to discuss a mental health issue with your previous co-workers?\n",
      "111\tDid you feel that your previous employers took mental health as seriously as physical health?\n",
      "112\tDid you hear of or observe negative consequences for co-workers with mental health issues in your previous workplaces?\n",
      "113\tDo you feel that being identified as a person with a mental health issue would hurt your career?\n",
      "114\tDo you think that team members/co-workers would view you more negatively if they knew you suffered from a mental health issue?\n",
      "115\tIf yes, what condition(s) have you been diagnosed with?\n",
      "116\tIf maybe, what condition(s) do you believe you have?\n",
      "117\tWhich of the following best describes your work position?\n",
      "118\tDo you work remotely?\n"
     ]
    }
   ],
   "source": [
    "full_display_rows(questions.questiontext, n = len(questions))"
   ]
  },
  {
   "cell_type": "markdown",
   "metadata": {},
   "source": [
    "Personally for me it's interesting to know, how working remotely affects mental health and I will try to gain some insights on this topic from the data. It's important to mention, that we will only understand some correlations, not causations!\n",
    "\n",
    "So, our objectives are:\n",
    "1) Check is the sample representative (questions 1, 2, 3, 4, 89), describe the data\n",
    "2) Try to understand the relation between remote work and mental health (questions 93, 118, 32, 33, 34, 54, 55)\n",
    "3) Select relevant most similar to the author of this analysis group of responders and answer question 2 from this subset"
   ]
  },
  {
   "cell_type": "markdown",
   "metadata": {},
   "source": [
    "# Check is the sample representative"
   ]
  },
  {
   "cell_type": "markdown",
   "metadata": {},
   "source": [
    "Let us firstly create a table to store the information about the responders to store the indormation we are qoing to collect from answers:"
   ]
  },
  {
   "cell_type": "code",
   "execution_count": 192,
   "metadata": {},
   "outputs": [
    {
     "data": {
      "text/html": [
       "<div>\n",
       "<style scoped>\n",
       "    .dataframe tbody tr th:only-of-type {\n",
       "        vertical-align: middle;\n",
       "    }\n",
       "\n",
       "    .dataframe tbody tr th {\n",
       "        vertical-align: top;\n",
       "    }\n",
       "\n",
       "    .dataframe thead th {\n",
       "        text-align: right;\n",
       "    }\n",
       "</style>\n",
       "<table border=\"1\" class=\"dataframe\">\n",
       "  <thead>\n",
       "    <tr style=\"text-align: right;\">\n",
       "      <th></th>\n",
       "      <th>answer_num</th>\n",
       "      <th>answer_text</th>\n",
       "      <th>answer_cat</th>\n",
       "    </tr>\n",
       "    <tr>\n",
       "      <th>user_id</th>\n",
       "      <th></th>\n",
       "      <th></th>\n",
       "      <th></th>\n",
       "    </tr>\n",
       "  </thead>\n",
       "  <tbody>\n",
       "    <tr>\n",
       "      <th>1</th>\n",
       "      <td>3</td>\n",
       "      <td>23</td>\n",
       "      <td>1</td>\n",
       "    </tr>\n",
       "    <tr>\n",
       "      <th>2</th>\n",
       "      <td>3</td>\n",
       "      <td>23</td>\n",
       "      <td>1</td>\n",
       "    </tr>\n",
       "    <tr>\n",
       "      <th>3</th>\n",
       "      <td>3</td>\n",
       "      <td>23</td>\n",
       "      <td>1</td>\n",
       "    </tr>\n",
       "    <tr>\n",
       "      <th>4</th>\n",
       "      <td>3</td>\n",
       "      <td>23</td>\n",
       "      <td>1</td>\n",
       "    </tr>\n",
       "    <tr>\n",
       "      <th>5</th>\n",
       "      <td>3</td>\n",
       "      <td>23</td>\n",
       "      <td>1</td>\n",
       "    </tr>\n",
       "    <tr>\n",
       "      <th>4214</th>\n",
       "      <td>21</td>\n",
       "      <td>55</td>\n",
       "      <td>10</td>\n",
       "    </tr>\n",
       "    <tr>\n",
       "      <th>4215</th>\n",
       "      <td>15</td>\n",
       "      <td>61</td>\n",
       "      <td>6</td>\n",
       "    </tr>\n",
       "    <tr>\n",
       "      <th>4216</th>\n",
       "      <td>9</td>\n",
       "      <td>67</td>\n",
       "      <td>1</td>\n",
       "    </tr>\n",
       "    <tr>\n",
       "      <th>4217</th>\n",
       "      <td>21</td>\n",
       "      <td>55</td>\n",
       "      <td>9</td>\n",
       "    </tr>\n",
       "    <tr>\n",
       "      <th>4218</th>\n",
       "      <td>23</td>\n",
       "      <td>53</td>\n",
       "      <td>10</td>\n",
       "    </tr>\n",
       "  </tbody>\n",
       "</table>\n",
       "</div>"
      ],
      "text/plain": [
       "         answer_num  answer_text  answer_cat\n",
       "user_id                                     \n",
       "1                 3           23           1\n",
       "2                 3           23           1\n",
       "3                 3           23           1\n",
       "4                 3           23           1\n",
       "5                 3           23           1\n",
       "4214             21           55          10\n",
       "4215             15           61           6\n",
       "4216              9           67           1\n",
       "4217             21           55           9\n",
       "4218             23           53          10"
      ]
     },
     "metadata": {},
     "output_type": "display_data"
    },
    {
     "name": "stdout",
     "output_type": "stream",
     "text": [
      "<class 'pandas.core.frame.DataFrame'>\n",
      "Int64Index: 4218 entries, 1 to 4218\n",
      "Data columns (total 3 columns):\n",
      " #   Column       Non-Null Count  Dtype\n",
      "---  ------       --------------  -----\n",
      " 0   answer_num   4218 non-null   int64\n",
      " 1   answer_text  4218 non-null   int64\n",
      " 2   answer_cat   4218 non-null   int64\n",
      "dtypes: int64(3)\n",
      "memory usage: 131.8 KB\n"
     ]
    },
    {
     "data": {
      "text/plain": [
       "None"
      ]
     },
     "metadata": {},
     "output_type": "display_data"
    }
   ],
   "source": [
    "respondents = cleaned_df.groupby('user_id').count()[['answer_num', 'answer_text', 'answer_cat']]\n",
    "explore_df(respondents)"
   ]
  },
  {
   "cell_type": "markdown",
   "metadata": {},
   "source": [
    "### Age"
   ]
  },
  {
   "cell_type": "code",
   "execution_count": 193,
   "metadata": {},
   "outputs": [
    {
     "data": {
      "image/png": "[encoded data removed]",
      "text/plain": [
       "<Figure size 864x504 with 2 Axes>"
      ]
     },
     "metadata": {
      "needs_background": "light"
     },
     "output_type": "display_data"
    }
   ],
   "source": [
    "respondents['age'] = cleaned_df[cleaned_df.question_id == 1].answer_num\n",
    "\n",
    "kde_boxen(respondents, 'age', figsize=(12, 7))"
   ]
  },
  {
   "cell_type": "markdown",
   "metadata": {},
   "source": [
    "Let us remove outliers:"
   ]
  },
  {
   "cell_type": "code",
   "execution_count": 194,
   "metadata": {},
   "outputs": [],
   "source": [
    "respondents.drop(respondents.age[(respondents.age > 100) | (respondents.age < 18)].index, inplace=True)"
   ]
  },
  {
   "cell_type": "code",
   "execution_count": 195,
   "metadata": {},
   "outputs": [
    {
     "data": {
      "image/png": "[encoded data removed]",
      "text/plain": [
       "<Figure size 720x504 with 2 Axes>"
      ]
     },
     "metadata": {
      "needs_background": "light"
     },
     "output_type": "display_data"
    }
   ],
   "source": [
    "kde_boxen(respondents, 'age', figsize=(10, 7))"
   ]
  },
  {
   "cell_type": "markdown",
   "metadata": {},
   "source": [
    "Now it is better! Actual distribution is slightly right skewed, centered about +- 30. That is ok. Comparing with overall tech industry, it's quite small average age (it is about 38). Probably, the sample is biased."
   ]
  },
  {
   "cell_type": "markdown",
   "metadata": {},
   "source": [
    "### Gender"
   ]
  },
  {
   "cell_type": "code",
   "execution_count": 196,
   "metadata": {},
   "outputs": [
    {
     "data": {
      "text/html": [
       "<div>\n",
       "<style scoped>\n",
       "    .dataframe tbody tr th:only-of-type {\n",
       "        vertical-align: middle;\n",
       "    }\n",
       "\n",
       "    .dataframe tbody tr th {\n",
       "        vertical-align: top;\n",
       "    }\n",
       "\n",
       "    .dataframe thead th {\n",
       "        text-align: right;\n",
       "    }\n",
       "</style>\n",
       "<table border=\"1\" class=\"dataframe\">\n",
       "  <thead>\n",
       "    <tr style=\"text-align: right;\">\n",
       "      <th></th>\n",
       "      <th>gender</th>\n",
       "    </tr>\n",
       "    <tr>\n",
       "      <th>user_id</th>\n",
       "      <th></th>\n",
       "    </tr>\n",
       "  </thead>\n",
       "  <tbody>\n",
       "    <tr>\n",
       "      <th>1</th>\n",
       "      <td>Female</td>\n",
       "    </tr>\n",
       "    <tr>\n",
       "      <th>2</th>\n",
       "      <td>Male</td>\n",
       "    </tr>\n",
       "    <tr>\n",
       "      <th>3</th>\n",
       "      <td>Male</td>\n",
       "    </tr>\n",
       "    <tr>\n",
       "      <th>4</th>\n",
       "      <td>Male</td>\n",
       "    </tr>\n",
       "    <tr>\n",
       "      <th>5</th>\n",
       "      <td>Male</td>\n",
       "    </tr>\n",
       "  </tbody>\n",
       "</table>\n",
       "</div>"
      ],
      "text/plain": [
       "         gender\n",
       "user_id        \n",
       "1        Female\n",
       "2          Male\n",
       "3          Male\n",
       "4          Male\n",
       "5          Male"
      ]
     },
     "execution_count": 196,
     "metadata": {},
     "output_type": "execute_result"
    }
   ],
   "source": [
    "gender_df = cleaned_df[cleaned_df.question_id == 2][['answer_text', 'user_id']]\n",
    "gender_df.rename({'answer_text': 'gender'}, axis='columns', inplace=True)\n",
    "gender_df.set_index('user_id', inplace=True)\n",
    "gender_df.head()"
   ]
  },
  {
   "cell_type": "code",
   "execution_count": 197,
   "metadata": {},
   "outputs": [
    {
     "name": "stdout",
     "output_type": "stream",
     "text": [
      "['Female' 'Male' 'Male-ish' 'Trans-female' 'Something kinda male?'\n",
      " 'Queer/she/they' 'Non-binary' 'Nah' 'All' 'Enby' 'Fluid' 'Genderqueer'\n",
      " 'Androgyne' 'Agender' 'Guy (-ish) ^_^' 'Male leaning androgynous'\n",
      " 'Trans woman' 'Neuter' 'Female (trans)' 'Queer' 'A little about you' 'P'\n",
      " 'Ostensibly male, unsure what that really means' 'Bigender'\n",
      " 'Female assigned at birth' 'Fm' 'Transitioned, m2f'\n",
      " 'Genderfluid (born female)' 'Other/transfeminine'\n",
      " 'Female or multi-gender femme' 'Androgynous' 'Male 9:1 female, roughly'\n",
      " '-1' 'Other' 'Nb masculine' 'None of your business' 'Human' 'Genderfluid'\n",
      " 'Genderqueer woman' 'Mtf' 'Male/genderqueer' 'Nonbinary' 'Unicorn'\n",
      " 'Male (trans, ftm)' 'Genderflux demi-girl'\n",
      " 'Female-bodied; no feelings about gender' 'Afab' 'Transgender woman'\n",
      " 'Male/androgynous' 'Uhhhhhhhhh fem genderqueer?'\n",
      " 'God king of the valajar' 'Agender/genderfluid' 'Sometimes'\n",
      " 'Woman-identified' 'Contextual' 'Non binary' 'Genderqueer demigirl'\n",
      " 'Genderqueer/non-binary' 'Female-ish' '\\\\-' 'Transfeminine' 'None'\n",
      " 'Ostensibly male' 'Male (or female, or both)' 'Trans man' 'Transgender'\n",
      " 'Female/gender non-binary.' 'Demiguy' 'Trans female' 'She/her/they/them'\n",
      " 'Swm' 'Nb' 'Nonbinary/femme' 'Gender non-conforming woman' 'Masculine'\n",
      " 'Cishet male' 'Female-identified' 'Questioning' 'I have a penis' 'Rr'\n",
      " 'Agender trans woman' 'Femmina' nan 'Masculino' 'I am a wookie'\n",
      " 'Trans non-binary/genderfluid' 'Non-binary and gender fluid']\n"
     ]
    }
   ],
   "source": [
    "print(gender_df.gender.unique())"
   ]
  },
  {
   "cell_type": "code",
   "execution_count": 198,
   "metadata": {},
   "outputs": [
    {
     "name": "stdout",
     "output_type": "stream",
     "text": [
      "TRANS: Trans-female\n",
      "NONBINARY: Non-binary\n",
      "TRANS: Trans woman\n",
      "TRANS: Female (trans)\n",
      "TRANS: Transitioned, m2f\n",
      "TRANS: Other/transfeminine\n",
      "NONBINARY: Nonbinary\n",
      "TRANS: Male (trans, ftm)\n",
      "TRANS: Transgender woman\n",
      "NONBINARY: Non binary\n",
      "NONBINARY: Genderqueer/non-binary\n",
      "TRANS: Transfeminine\n",
      "TRANS: Trans man\n",
      "TRANS: Transgender\n",
      "NONBINARY: Female/gender non-binary.\n",
      "TRANS: Trans female\n",
      "NONBINARY: Nonbinary/femme\n",
      "TRANS: Agender trans woman\n",
      "NONBINARY: Trans non-binary/genderfluid\n",
      "NONBINARY: Non-binary and gender fluid\n"
     ]
    }
   ],
   "source": [
    "trans_variants = []\n",
    "nonbin_variants = []\n",
    "\n",
    "for variant in gender_df.gender.unique():\n",
    "    try:\n",
    "        if 'binary' in variant.lower():\n",
    "            print(f'NONBINARY: {variant}')\n",
    "            nonbin_variants.append(variant)\n",
    "        elif 'trans' in variant.lower():\n",
    "            print(f'TRANS: {variant}')\n",
    "            trans_variants.append(variant)\n",
    "    except AttributeError:\n",
    "        continue"
   ]
  },
  {
   "cell_type": "markdown",
   "metadata": {},
   "source": [
    "Wow, such a diversity!"
   ]
  },
  {
   "cell_type": "code",
   "execution_count": 199,
   "metadata": {},
   "outputs": [
    {
     "data": {
      "text/plain": [
       "Male           3043\n",
       "Female         1024\n",
       "-1               24\n",
       "Nonbinary         9\n",
       "Non-binary        9\n",
       "Agender           6\n",
       "Genderqueer       5\n",
       "Genderfluid       4\n",
       "None              4\n",
       "Non binary        3\n",
       "Name: gender, dtype: int64"
      ]
     },
     "execution_count": 199,
     "metadata": {},
     "output_type": "execute_result"
    }
   ],
   "source": [
    "gender_df.gender.value_counts().head(10)"
   ]
  },
  {
   "cell_type": "markdown",
   "metadata": {},
   "source": [
    "Let's clean this data a little bit to analyze as just category:"
   ]
  },
  {
   "cell_type": "code",
   "execution_count": 200,
   "metadata": {},
   "outputs": [],
   "source": [
    "multi_replace = PandasSeriesAppliers.multi_replace\n",
    "\n",
    "mapper = {\n",
    "    'Male': ['Male'],\n",
    "    'Female': ['Female'],\n",
    "    'Transgender': trans_variants,\n",
    "    'Nonbinary': nonbin_variants,\n",
    "    'Not recorded': ['-1']\n",
    "}\n",
    "\n",
    "gender_df['gender'] = gender_df.gender.apply(multi_replace, mapper=mapper, default='Other')"
   ]
  },
  {
   "cell_type": "code",
   "execution_count": 201,
   "metadata": {},
   "outputs": [
    {
     "data": {
      "text/html": [
       "<div>\n",
       "<style scoped>\n",
       "    .dataframe tbody tr th:only-of-type {\n",
       "        vertical-align: middle;\n",
       "    }\n",
       "\n",
       "    .dataframe tbody tr th {\n",
       "        vertical-align: top;\n",
       "    }\n",
       "\n",
       "    .dataframe thead th {\n",
       "        text-align: right;\n",
       "    }\n",
       "</style>\n",
       "<table border=\"1\" class=\"dataframe\">\n",
       "  <thead>\n",
       "    <tr style=\"text-align: right;\">\n",
       "      <th></th>\n",
       "      <th>answer_num</th>\n",
       "      <th>answer_text</th>\n",
       "      <th>answer_cat</th>\n",
       "      <th>age</th>\n",
       "      <th>gender</th>\n",
       "    </tr>\n",
       "    <tr>\n",
       "      <th>user_id</th>\n",
       "      <th></th>\n",
       "      <th></th>\n",
       "      <th></th>\n",
       "      <th></th>\n",
       "      <th></th>\n",
       "    </tr>\n",
       "  </thead>\n",
       "  <tbody>\n",
       "    <tr>\n",
       "      <th>1</th>\n",
       "      <td>3</td>\n",
       "      <td>23</td>\n",
       "      <td>1</td>\n",
       "      <td>44</td>\n",
       "      <td>Female</td>\n",
       "    </tr>\n",
       "    <tr>\n",
       "      <th>2</th>\n",
       "      <td>3</td>\n",
       "      <td>23</td>\n",
       "      <td>1</td>\n",
       "      <td>32</td>\n",
       "      <td>Male</td>\n",
       "    </tr>\n",
       "    <tr>\n",
       "      <th>3</th>\n",
       "      <td>3</td>\n",
       "      <td>23</td>\n",
       "      <td>1</td>\n",
       "      <td>31</td>\n",
       "      <td>Male</td>\n",
       "    </tr>\n",
       "    <tr>\n",
       "      <th>4</th>\n",
       "      <td>3</td>\n",
       "      <td>23</td>\n",
       "      <td>1</td>\n",
       "      <td>31</td>\n",
       "      <td>Male</td>\n",
       "    </tr>\n",
       "    <tr>\n",
       "      <th>5</th>\n",
       "      <td>3</td>\n",
       "      <td>23</td>\n",
       "      <td>1</td>\n",
       "      <td>33</td>\n",
       "      <td>Male</td>\n",
       "    </tr>\n",
       "  </tbody>\n",
       "</table>\n",
       "</div>"
      ],
      "text/plain": [
       "         answer_num  answer_text  answer_cat  age  gender\n",
       "user_id                                                  \n",
       "1                 3           23           1   44  Female\n",
       "2                 3           23           1   32    Male\n",
       "3                 3           23           1   31    Male\n",
       "4                 3           23           1   31    Male\n",
       "5                 3           23           1   33    Male"
      ]
     },
     "execution_count": 201,
     "metadata": {},
     "output_type": "execute_result"
    }
   ],
   "source": [
    "respondents = respondents.join(gender_df)\n",
    "respondents.head()"
   ]
  },
  {
   "cell_type": "code",
   "execution_count": 202,
   "metadata": {},
   "outputs": [
    {
     "data": {
      "image/png": "[encoded data removed]",
      "text/plain": [
       "<Figure size 864x576 with 1 Axes>"
      ]
     },
     "metadata": {
      "needs_background": "light"
     },
     "output_type": "display_data"
    }
   ],
   "source": [
    "# TODO To helpers\n",
    "\n",
    "sns_red = sns.color_palette()[3]\n",
    "\n",
    "plt.figure(figsize=(12, 8))\n",
    "ax = sns.countplot(\n",
    "    data=respondents, x='gender',\n",
    "    # Ability to order by smth, but \"throw out\" some marked columns like \"Not recorded\"\n",
    "    order=('Male', 'Female', 'Transgender', 'Nonbinary', 'Other', 'Not recorded'),\n",
    "    palette='crest'\n",
    ")\n",
    "# \n",
    "bars = ax.containers[0]\n",
    "# Not by index, but by name also (i. e. x value)\n",
    "bars[-1].set_color(sns_red)\n",
    "\n",
    "# Annotate\n",
    "labels = [f'{bar.get_height() / len(respondents):.2%}' for bar in bars]\n",
    "ax.bar_label(bars, labels, padding=2, fontsize=12)\n",
    "\n",
    "sns.despine()\n",
    "plt.show()"
   ]
  },
  {
   "cell_type": "markdown",
   "metadata": {},
   "source": [
    "These numbers are quite close to known data (google says, that 24% of tech jobs are held by women)"
   ]
  },
  {
   "cell_type": "markdown",
   "metadata": {},
   "source": [
    "### Country"
   ]
  },
  {
   "cell_type": "code",
   "execution_count": 203,
   "metadata": {},
   "outputs": [
    {
     "data": {
      "text/html": [
       "<div>\n",
       "<style scoped>\n",
       "    .dataframe tbody tr th:only-of-type {\n",
       "        vertical-align: middle;\n",
       "    }\n",
       "\n",
       "    .dataframe tbody tr th {\n",
       "        vertical-align: top;\n",
       "    }\n",
       "\n",
       "    .dataframe thead th {\n",
       "        text-align: right;\n",
       "    }\n",
       "</style>\n",
       "<table border=\"1\" class=\"dataframe\">\n",
       "  <thead>\n",
       "    <tr style=\"text-align: right;\">\n",
       "      <th></th>\n",
       "      <th>country</th>\n",
       "    </tr>\n",
       "    <tr>\n",
       "      <th>user_id</th>\n",
       "      <th></th>\n",
       "    </tr>\n",
       "  </thead>\n",
       "  <tbody>\n",
       "    <tr>\n",
       "      <th>1</th>\n",
       "      <td>United states</td>\n",
       "    </tr>\n",
       "    <tr>\n",
       "      <th>2</th>\n",
       "      <td>United states</td>\n",
       "    </tr>\n",
       "    <tr>\n",
       "      <th>3</th>\n",
       "      <td>Canada</td>\n",
       "    </tr>\n",
       "    <tr>\n",
       "      <th>4</th>\n",
       "      <td>United kingdom</td>\n",
       "    </tr>\n",
       "    <tr>\n",
       "      <th>5</th>\n",
       "      <td>United states</td>\n",
       "    </tr>\n",
       "  </tbody>\n",
       "</table>\n",
       "</div>"
      ],
      "text/plain": [
       "                country\n",
       "user_id                \n",
       "1         United states\n",
       "2         United states\n",
       "3                Canada\n",
       "4        United kingdom\n",
       "5         United states"
      ]
     },
     "execution_count": 203,
     "metadata": {},
     "output_type": "execute_result"
    }
   ],
   "source": [
    "country_df = cleaned_df[cleaned_df.question_id == 3][['answer_text', 'user_id']]\n",
    "country_df.rename({'answer_text': 'country'}, axis='columns', inplace=True)\n",
    "country_df.set_index('user_id', inplace=True)\n",
    "country_df.head()"
   ]
  },
  {
   "cell_type": "code",
   "execution_count": 204,
   "metadata": {},
   "outputs": [
    {
     "name": "stdout",
     "output_type": "stream",
     "text": [
      "country                 \n",
      "United states of america    1853\n",
      "United states                751\n",
      "United kingdom               482\n",
      "Canada                       199\n",
      "Germany                      136\n",
      "                            ... \n",
      "Jordan                         1\n",
      "Kenya                          1\n",
      "Philippines                    1\n",
      "Macedonia                      1\n",
      "Zimbabwe                       1\n",
      "Length: 81, dtype: int64\n"
     ]
    }
   ],
   "source": [
    "print(country_df.value_counts())"
   ]
  },
  {
   "cell_type": "markdown",
   "metadata": {},
   "source": [
    "Both 2 first rows are USA actually:"
   ]
  },
  {
   "cell_type": "code",
   "execution_count": 205,
   "metadata": {},
   "outputs": [
    {
     "data": {
      "text/html": [
       "<div>\n",
       "<style scoped>\n",
       "    .dataframe tbody tr th:only-of-type {\n",
       "        vertical-align: middle;\n",
       "    }\n",
       "\n",
       "    .dataframe tbody tr th {\n",
       "        vertical-align: top;\n",
       "    }\n",
       "\n",
       "    .dataframe thead th {\n",
       "        text-align: right;\n",
       "    }\n",
       "</style>\n",
       "<table border=\"1\" class=\"dataframe\">\n",
       "  <thead>\n",
       "    <tr style=\"text-align: right;\">\n",
       "      <th></th>\n",
       "      <th>answer_num</th>\n",
       "      <th>answer_text</th>\n",
       "      <th>answer_cat</th>\n",
       "      <th>age</th>\n",
       "      <th>gender</th>\n",
       "      <th>country</th>\n",
       "    </tr>\n",
       "    <tr>\n",
       "      <th>user_id</th>\n",
       "      <th></th>\n",
       "      <th></th>\n",
       "      <th></th>\n",
       "      <th></th>\n",
       "      <th></th>\n",
       "      <th></th>\n",
       "    </tr>\n",
       "  </thead>\n",
       "  <tbody>\n",
       "    <tr>\n",
       "      <th>1</th>\n",
       "      <td>3</td>\n",
       "      <td>23</td>\n",
       "      <td>1</td>\n",
       "      <td>44</td>\n",
       "      <td>Female</td>\n",
       "      <td>USA</td>\n",
       "    </tr>\n",
       "    <tr>\n",
       "      <th>2</th>\n",
       "      <td>3</td>\n",
       "      <td>23</td>\n",
       "      <td>1</td>\n",
       "      <td>32</td>\n",
       "      <td>Male</td>\n",
       "      <td>USA</td>\n",
       "    </tr>\n",
       "    <tr>\n",
       "      <th>3</th>\n",
       "      <td>3</td>\n",
       "      <td>23</td>\n",
       "      <td>1</td>\n",
       "      <td>31</td>\n",
       "      <td>Male</td>\n",
       "      <td>Canada</td>\n",
       "    </tr>\n",
       "    <tr>\n",
       "      <th>4</th>\n",
       "      <td>3</td>\n",
       "      <td>23</td>\n",
       "      <td>1</td>\n",
       "      <td>31</td>\n",
       "      <td>Male</td>\n",
       "      <td>United kingdom</td>\n",
       "    </tr>\n",
       "    <tr>\n",
       "      <th>5</th>\n",
       "      <td>3</td>\n",
       "      <td>23</td>\n",
       "      <td>1</td>\n",
       "      <td>33</td>\n",
       "      <td>Male</td>\n",
       "      <td>USA</td>\n",
       "    </tr>\n",
       "  </tbody>\n",
       "</table>\n",
       "</div>"
      ],
      "text/plain": [
       "         answer_num  answer_text  answer_cat  age  gender         country\n",
       "user_id                                                                  \n",
       "1                 3           23           1   44  Female             USA\n",
       "2                 3           23           1   32    Male             USA\n",
       "3                 3           23           1   31    Male          Canada\n",
       "4                 3           23           1   31    Male  United kingdom\n",
       "5                 3           23           1   33    Male             USA"
      ]
     },
     "execution_count": 205,
     "metadata": {},
     "output_type": "execute_result"
    }
   ],
   "source": [
    "country_df['country'] = country_df.country.apply(multi_replace, mapper={\n",
    "    'USA': ['United states of america', 'United states']\n",
    "})\n",
    "\n",
    "respondents = respondents.join(country_df)\n",
    "respondents.head()"
   ]
  },
  {
   "cell_type": "code",
   "execution_count": 206,
   "metadata": {},
   "outputs": [
    {
     "data": {
      "image/png": "[encoded data removed]",
      "text/plain": [
       "<Figure size 720x504 with 1 Axes>"
      ]
     },
     "metadata": {
      "needs_background": "light"
     },
     "output_type": "display_data"
    }
   ],
   "source": [
    "plt.figure(figsize=(10, 7))\n",
    "\n",
    "respondents.country.value_counts()[:10][::-1].plot.barh()\n",
    "plt.title('Most common countries')\n",
    "plt.show()"
   ]
  },
  {
   "cell_type": "markdown",
   "metadata": {},
   "source": [
    "### Race"
   ]
  },
  {
   "cell_type": "code",
   "execution_count": 207,
   "metadata": {},
   "outputs": [
    {
     "data": {
      "text/html": [
       "<div>\n",
       "<style scoped>\n",
       "    .dataframe tbody tr th:only-of-type {\n",
       "        vertical-align: middle;\n",
       "    }\n",
       "\n",
       "    .dataframe tbody tr th {\n",
       "        vertical-align: top;\n",
       "    }\n",
       "\n",
       "    .dataframe thead th {\n",
       "        text-align: right;\n",
       "    }\n",
       "</style>\n",
       "<table border=\"1\" class=\"dataframe\">\n",
       "  <thead>\n",
       "    <tr style=\"text-align: right;\">\n",
       "      <th></th>\n",
       "      <th>race</th>\n",
       "    </tr>\n",
       "    <tr>\n",
       "      <th>user_id</th>\n",
       "      <th></th>\n",
       "    </tr>\n",
       "  </thead>\n",
       "  <tbody>\n",
       "    <tr>\n",
       "      <th>2694</th>\n",
       "      <td>-1</td>\n",
       "    </tr>\n",
       "    <tr>\n",
       "      <th>2695</th>\n",
       "      <td>-1</td>\n",
       "    </tr>\n",
       "    <tr>\n",
       "      <th>2696</th>\n",
       "      <td>White</td>\n",
       "    </tr>\n",
       "    <tr>\n",
       "      <th>2697</th>\n",
       "      <td>White</td>\n",
       "    </tr>\n",
       "    <tr>\n",
       "      <th>2698</th>\n",
       "      <td>More than one of the above</td>\n",
       "    </tr>\n",
       "  </tbody>\n",
       "</table>\n",
       "</div>"
      ],
      "text/plain": [
       "                               race\n",
       "user_id                            \n",
       "2694                             -1\n",
       "2695                             -1\n",
       "2696                          White\n",
       "2697                          White\n",
       "2698     More than one of the above"
      ]
     },
     "execution_count": 207,
     "metadata": {},
     "output_type": "execute_result"
    }
   ],
   "source": [
    "race_df = cleaned_df[cleaned_df.question_id == 89][['answer_text', 'user_id']]\n",
    "race_df.rename({'answer_text': 'race'}, axis='columns', inplace=True)\n",
    "race_df.set_index('user_id', inplace=True)\n",
    "race_df.head()"
   ]
  },
  {
   "cell_type": "code",
   "execution_count": 208,
   "metadata": {},
   "outputs": [
    {
     "name": "stdout",
     "output_type": "stream",
     "text": [
      "race                            \n",
      "White                               873\n",
      "-1                                  537\n",
      "More than one of the above           35\n",
      "Asian                                31\n",
      "I prefer not to answer               29\n",
      "Black or african american            15\n",
      "American indian or alaska native      1\n",
      "Caucasian                             1\n",
      "European american                     1\n",
      "Hispanic                              1\n",
      "White hispanic                        1\n",
      "dtype: int64\n"
     ]
    }
   ],
   "source": [
    "print(race_df.value_counts())"
   ]
  },
  {
   "cell_type": "code",
   "execution_count": 209,
   "metadata": {},
   "outputs": [],
   "source": [
    "mapper = {\n",
    "    'White': ['White'],\n",
    "    'Asian': ['Asian'],\n",
    "    'Black': ['Black or african american'],\n",
    "    'No answer': ['I prefer not to answer'],\n",
    "    'Not recorded': ['-1']\n",
    "}\n",
    "\n",
    "race_df['race'] = race_df.race.apply(multi_replace, mapper=mapper, default='Other')"
   ]
  },
  {
   "cell_type": "code",
   "execution_count": 210,
   "metadata": {},
   "outputs": [
    {
     "data": {
      "text/html": [
       "<div>\n",
       "<style scoped>\n",
       "    .dataframe tbody tr th:only-of-type {\n",
       "        vertical-align: middle;\n",
       "    }\n",
       "\n",
       "    .dataframe tbody tr th {\n",
       "        vertical-align: top;\n",
       "    }\n",
       "\n",
       "    .dataframe thead th {\n",
       "        text-align: right;\n",
       "    }\n",
       "</style>\n",
       "<table border=\"1\" class=\"dataframe\">\n",
       "  <thead>\n",
       "    <tr style=\"text-align: right;\">\n",
       "      <th></th>\n",
       "      <th>answer_num</th>\n",
       "      <th>answer_text</th>\n",
       "      <th>answer_cat</th>\n",
       "      <th>age</th>\n",
       "      <th>gender</th>\n",
       "      <th>country</th>\n",
       "      <th>race</th>\n",
       "    </tr>\n",
       "    <tr>\n",
       "      <th>user_id</th>\n",
       "      <th></th>\n",
       "      <th></th>\n",
       "      <th></th>\n",
       "      <th></th>\n",
       "      <th></th>\n",
       "      <th></th>\n",
       "      <th></th>\n",
       "    </tr>\n",
       "  </thead>\n",
       "  <tbody>\n",
       "    <tr>\n",
       "      <th>1</th>\n",
       "      <td>3</td>\n",
       "      <td>23</td>\n",
       "      <td>1</td>\n",
       "      <td>44</td>\n",
       "      <td>Female</td>\n",
       "      <td>USA</td>\n",
       "      <td>NaN</td>\n",
       "    </tr>\n",
       "    <tr>\n",
       "      <th>2</th>\n",
       "      <td>3</td>\n",
       "      <td>23</td>\n",
       "      <td>1</td>\n",
       "      <td>32</td>\n",
       "      <td>Male</td>\n",
       "      <td>USA</td>\n",
       "      <td>NaN</td>\n",
       "    </tr>\n",
       "    <tr>\n",
       "      <th>3</th>\n",
       "      <td>3</td>\n",
       "      <td>23</td>\n",
       "      <td>1</td>\n",
       "      <td>31</td>\n",
       "      <td>Male</td>\n",
       "      <td>Canada</td>\n",
       "      <td>NaN</td>\n",
       "    </tr>\n",
       "    <tr>\n",
       "      <th>4</th>\n",
       "      <td>3</td>\n",
       "      <td>23</td>\n",
       "      <td>1</td>\n",
       "      <td>31</td>\n",
       "      <td>Male</td>\n",
       "      <td>United kingdom</td>\n",
       "      <td>NaN</td>\n",
       "    </tr>\n",
       "    <tr>\n",
       "      <th>5</th>\n",
       "      <td>3</td>\n",
       "      <td>23</td>\n",
       "      <td>1</td>\n",
       "      <td>33</td>\n",
       "      <td>Male</td>\n",
       "      <td>USA</td>\n",
       "      <td>NaN</td>\n",
       "    </tr>\n",
       "  </tbody>\n",
       "</table>\n",
       "</div>"
      ],
      "text/plain": [
       "         answer_num  answer_text  answer_cat  age  gender         country race\n",
       "user_id                                                                       \n",
       "1                 3           23           1   44  Female             USA  NaN\n",
       "2                 3           23           1   32    Male             USA  NaN\n",
       "3                 3           23           1   31    Male          Canada  NaN\n",
       "4                 3           23           1   31    Male  United kingdom  NaN\n",
       "5                 3           23           1   33    Male             USA  NaN"
      ]
     },
     "execution_count": 210,
     "metadata": {},
     "output_type": "execute_result"
    }
   ],
   "source": [
    "respondents = respondents.join(race_df)\n",
    "respondents.head()"
   ]
  },
  {
   "cell_type": "code",
   "execution_count": 211,
   "metadata": {},
   "outputs": [
    {
     "data": {
      "image/png": "[encoded data removed]",
      "text/plain": [
       "<Figure size 864x576 with 1 Axes>"
      ]
     },
     "metadata": {
      "needs_background": "light"
     },
     "output_type": "display_data"
    }
   ],
   "source": [
    "respondents['race'] = respondents.race.fillna('Not recorded')\n",
    "\n",
    "# TODO To helpers\n",
    "\n",
    "sns_red = sns.color_palette()[3]\n",
    "\n",
    "plt.figure(figsize=(12, 8))\n",
    "ax = sns.countplot(\n",
    "    data=respondents, x='race',\n",
    "    # Ability to order by smth, but \"throw out\" some marked columns like \"Not recorded\"\n",
    "    order=('White', 'Asian', 'Black', 'No answer', 'Not recorded'),\n",
    "    palette='crest'\n",
    ")\n",
    "# \n",
    "bars = ax.containers[0]\n",
    "# Not by index, but by name also (i. e. x value)\n",
    "bars[-1].set_color(sns_red)\n",
    "\n",
    "# Annotate\n",
    "labels = [f'{bar.get_height() / len(respondents):.2%}' for bar in bars]\n",
    "ax.bar_label(bars, labels, padding=2, fontsize=12)\n",
    "\n",
    "sns.despine()\n",
    "plt.show()"
   ]
  },
  {
   "cell_type": "markdown",
   "metadata": {},
   "source": [
    "There is no much data about the race..."
   ]
  },
  {
   "cell_type": "markdown",
   "metadata": {},
   "source": [
    "### Age and gender"
   ]
  },
  {
   "cell_type": "markdown",
   "metadata": {},
   "source": [
    "Let's just compare the age distributions for 2 major genders:"
   ]
  },
  {
   "cell_type": "code",
   "execution_count": 212,
   "metadata": {},
   "outputs": [
    {
     "data": {
      "image/png": "[encoded data removed]",
      "text/plain": [
       "<Figure size 432.125x360 with 1 Axes>"
      ]
     },
     "metadata": {
      "needs_background": "light"
     },
     "output_type": "display_data"
    }
   ],
   "source": [
    "sns.displot(data=respondents.query('gender in [\"Male\", \"Female\"]'), x='age', hue='gender', kind='kde', fill=True)\n",
    "\n",
    "sns.despine()\n",
    "plt.show()"
   ]
  },
  {
   "cell_type": "markdown",
   "metadata": {},
   "source": [
    "Well, these distributions are quite similar. It turns out that tech industry differs from the entire population in this apsect."
   ]
  },
  {
   "cell_type": "markdown",
   "metadata": {},
   "source": [
    "### Final respondents data"
   ]
  },
  {
   "cell_type": "code",
   "execution_count": 236,
   "metadata": {},
   "outputs": [
    {
     "data": {
      "text/html": [
       "<div>\n",
       "<style scoped>\n",
       "    .dataframe tbody tr th:only-of-type {\n",
       "        vertical-align: middle;\n",
       "    }\n",
       "\n",
       "    .dataframe tbody tr th {\n",
       "        vertical-align: top;\n",
       "    }\n",
       "\n",
       "    .dataframe thead th {\n",
       "        text-align: right;\n",
       "    }\n",
       "</style>\n",
       "<table border=\"1\" class=\"dataframe\">\n",
       "  <thead>\n",
       "    <tr style=\"text-align: right;\">\n",
       "      <th></th>\n",
       "      <th>answer_num</th>\n",
       "      <th>answer_text</th>\n",
       "      <th>answer_cat</th>\n",
       "      <th>age</th>\n",
       "      <th>gender</th>\n",
       "      <th>country</th>\n",
       "      <th>race</th>\n",
       "    </tr>\n",
       "    <tr>\n",
       "      <th>user_id</th>\n",
       "      <th></th>\n",
       "      <th></th>\n",
       "      <th></th>\n",
       "      <th></th>\n",
       "      <th></th>\n",
       "      <th></th>\n",
       "      <th></th>\n",
       "    </tr>\n",
       "  </thead>\n",
       "  <tbody>\n",
       "    <tr>\n",
       "      <th>1</th>\n",
       "      <td>3</td>\n",
       "      <td>23</td>\n",
       "      <td>1</td>\n",
       "      <td>44</td>\n",
       "      <td>Female</td>\n",
       "      <td>USA</td>\n",
       "      <td>Not recorded</td>\n",
       "    </tr>\n",
       "    <tr>\n",
       "      <th>2</th>\n",
       "      <td>3</td>\n",
       "      <td>23</td>\n",
       "      <td>1</td>\n",
       "      <td>32</td>\n",
       "      <td>Male</td>\n",
       "      <td>USA</td>\n",
       "      <td>Not recorded</td>\n",
       "    </tr>\n",
       "    <tr>\n",
       "      <th>3</th>\n",
       "      <td>3</td>\n",
       "      <td>23</td>\n",
       "      <td>1</td>\n",
       "      <td>31</td>\n",
       "      <td>Male</td>\n",
       "      <td>Canada</td>\n",
       "      <td>Not recorded</td>\n",
       "    </tr>\n",
       "    <tr>\n",
       "      <th>4</th>\n",
       "      <td>3</td>\n",
       "      <td>23</td>\n",
       "      <td>1</td>\n",
       "      <td>31</td>\n",
       "      <td>Male</td>\n",
       "      <td>United kingdom</td>\n",
       "      <td>Not recorded</td>\n",
       "    </tr>\n",
       "    <tr>\n",
       "      <th>5</th>\n",
       "      <td>3</td>\n",
       "      <td>23</td>\n",
       "      <td>1</td>\n",
       "      <td>33</td>\n",
       "      <td>Male</td>\n",
       "      <td>USA</td>\n",
       "      <td>Not recorded</td>\n",
       "    </tr>\n",
       "    <tr>\n",
       "      <th>4214</th>\n",
       "      <td>21</td>\n",
       "      <td>55</td>\n",
       "      <td>10</td>\n",
       "      <td>&lt;NA&gt;</td>\n",
       "      <td>Male</td>\n",
       "      <td>India</td>\n",
       "      <td>Not recorded</td>\n",
       "    </tr>\n",
       "    <tr>\n",
       "      <th>4215</th>\n",
       "      <td>15</td>\n",
       "      <td>61</td>\n",
       "      <td>6</td>\n",
       "      <td>&lt;NA&gt;</td>\n",
       "      <td>Male</td>\n",
       "      <td>USA</td>\n",
       "      <td>White</td>\n",
       "    </tr>\n",
       "    <tr>\n",
       "      <th>4216</th>\n",
       "      <td>9</td>\n",
       "      <td>67</td>\n",
       "      <td>1</td>\n",
       "      <td>&lt;NA&gt;</td>\n",
       "      <td>Male</td>\n",
       "      <td>India</td>\n",
       "      <td>Not recorded</td>\n",
       "    </tr>\n",
       "    <tr>\n",
       "      <th>4217</th>\n",
       "      <td>21</td>\n",
       "      <td>55</td>\n",
       "      <td>9</td>\n",
       "      <td>&lt;NA&gt;</td>\n",
       "      <td>Female</td>\n",
       "      <td>India</td>\n",
       "      <td>Not recorded</td>\n",
       "    </tr>\n",
       "    <tr>\n",
       "      <th>4218</th>\n",
       "      <td>23</td>\n",
       "      <td>53</td>\n",
       "      <td>10</td>\n",
       "      <td>&lt;NA&gt;</td>\n",
       "      <td>Female</td>\n",
       "      <td>USA</td>\n",
       "      <td>White</td>\n",
       "    </tr>\n",
       "  </tbody>\n",
       "</table>\n",
       "</div>"
      ],
      "text/plain": [
       "         answer_num  answer_text  answer_cat   age  gender         country  \\\n",
       "user_id                                                                      \n",
       "1                 3           23           1    44  Female             USA   \n",
       "2                 3           23           1    32    Male             USA   \n",
       "3                 3           23           1    31    Male          Canada   \n",
       "4                 3           23           1    31    Male  United kingdom   \n",
       "5                 3           23           1    33    Male             USA   \n",
       "4214             21           55          10  <NA>    Male           India   \n",
       "4215             15           61           6  <NA>    Male             USA   \n",
       "4216              9           67           1  <NA>    Male           India   \n",
       "4217             21           55           9  <NA>  Female           India   \n",
       "4218             23           53          10  <NA>  Female             USA   \n",
       "\n",
       "                 race  \n",
       "user_id                \n",
       "1        Not recorded  \n",
       "2        Not recorded  \n",
       "3        Not recorded  \n",
       "4        Not recorded  \n",
       "5        Not recorded  \n",
       "4214     Not recorded  \n",
       "4215            White  \n",
       "4216     Not recorded  \n",
       "4217     Not recorded  \n",
       "4218            White  "
      ]
     },
     "metadata": {},
     "output_type": "display_data"
    },
    {
     "name": "stdout",
     "output_type": "stream",
     "text": [
      "<class 'pandas.core.frame.DataFrame'>\n",
      "Int64Index: 4214 entries, 1 to 4218\n",
      "Data columns (total 7 columns):\n",
      " #   Column       Non-Null Count  Dtype \n",
      "---  ------       --------------  ----- \n",
      " 0   answer_num   4214 non-null   int64 \n",
      " 1   answer_text  4214 non-null   int64 \n",
      " 2   answer_cat   4214 non-null   int64 \n",
      " 3   age          1251 non-null   Int64 \n",
      " 4   gender       4214 non-null   object\n",
      " 5   country      4214 non-null   object\n",
      " 6   race         4214 non-null   object\n",
      "dtypes: Int64(1), int64(3), object(3)\n",
      "memory usage: 396.5+ KB\n"
     ]
    },
    {
     "data": {
      "text/plain": [
       "None"
      ]
     },
     "metadata": {},
     "output_type": "display_data"
    }
   ],
   "source": [
    "explore_df(respondents)"
   ]
  },
  {
   "cell_type": "markdown",
   "metadata": {},
   "source": [
    "Here are some problems with collecting age and race data... It's also important to mention, that at least all the respondents are from US.\n",
    "\n",
    "In general, this sample is quite biased."
   ]
  },
  {
   "cell_type": "markdown",
   "metadata": {},
   "source": [
    "# Mental health and remote work"
   ]
  },
  {
   "cell_type": "markdown",
   "metadata": {},
   "source": [
    "### Select questions"
   ]
  },
  {
   "cell_type": "code",
   "execution_count": 213,
   "metadata": {},
   "outputs": [
    {
     "name": "stdout",
     "output_type": "stream",
     "text": [
      "32\tHave you had a mental health disorder in the past?\n",
      "33\tDo you currently have a mental health disorder?\n",
      "34\tHave you ever been diagnosed with a mental health disorder?\n",
      "54\tDo you believe your productivity is ever affected by a mental health issue?\n",
      "55\tIf yes, what percentage of your work time (time performing primary or secondary job functions) is affected by a mental health issue?\n"
     ]
    }
   ],
   "source": [
    "full_display_rows(questions.loc[[32, 33, 34, 54, 55]].questiontext)"
   ]
  },
  {
   "cell_type": "code",
   "execution_count": 235,
   "metadata": {},
   "outputs": [
    {
     "data": {
      "text/plain": [
       "answer_num                  5\n",
       "answer_text                61\n",
       "answer_cat                  1\n",
       "age                      <NA>\n",
       "gender                   Male\n",
       "country        United kingdom\n",
       "race             Not recorded\n",
       "Name: 1266, dtype: object"
      ]
     },
     "execution_count": 235,
     "metadata": {},
     "output_type": "execute_result"
    }
   ],
   "source": [
    "respondents.iloc[1261]"
   ]
  },
  {
   "cell_type": "code",
   "execution_count": 214,
   "metadata": {},
   "outputs": [
    {
     "data": {
      "text/html": [
       "<div>\n",
       "<style scoped>\n",
       "    .dataframe tbody tr th:only-of-type {\n",
       "        vertical-align: middle;\n",
       "    }\n",
       "\n",
       "    .dataframe tbody tr th {\n",
       "        vertical-align: top;\n",
       "    }\n",
       "\n",
       "    .dataframe thead th {\n",
       "        text-align: right;\n",
       "    }\n",
       "</style>\n",
       "<table border=\"1\" class=\"dataframe\">\n",
       "  <thead>\n",
       "    <tr style=\"text-align: right;\">\n",
       "      <th></th>\n",
       "      <th>user_id</th>\n",
       "      <th>age</th>\n",
       "      <th>gender</th>\n",
       "      <th>country</th>\n",
       "      <th>race</th>\n",
       "      <th>working_remotely</th>\n",
       "      <th>mental_disorder</th>\n",
       "    </tr>\n",
       "  </thead>\n",
       "  <tbody>\n",
       "    <tr>\n",
       "      <th>0</th>\n",
       "      <td>1261</td>\n",
       "      <td>&lt;NA&gt;</td>\n",
       "      <td>Male</td>\n",
       "      <td>United kingdom</td>\n",
       "      <td>Not recorded</td>\n",
       "      <td>Sometimes</td>\n",
       "      <td>No</td>\n",
       "    </tr>\n",
       "    <tr>\n",
       "      <th>1</th>\n",
       "      <td>1262</td>\n",
       "      <td>&lt;NA&gt;</td>\n",
       "      <td>Male</td>\n",
       "      <td>USA</td>\n",
       "      <td>Not recorded</td>\n",
       "      <td>Never</td>\n",
       "      <td>Yes</td>\n",
       "    </tr>\n",
       "    <tr>\n",
       "      <th>2</th>\n",
       "      <td>1263</td>\n",
       "      <td>&lt;NA&gt;</td>\n",
       "      <td>Male</td>\n",
       "      <td>United kingdom</td>\n",
       "      <td>Not recorded</td>\n",
       "      <td>Always</td>\n",
       "      <td>No</td>\n",
       "    </tr>\n",
       "    <tr>\n",
       "      <th>3</th>\n",
       "      <td>1264</td>\n",
       "      <td>&lt;NA&gt;</td>\n",
       "      <td>Male</td>\n",
       "      <td>United kingdom</td>\n",
       "      <td>Not recorded</td>\n",
       "      <td>Sometimes</td>\n",
       "      <td>Yes</td>\n",
       "    </tr>\n",
       "    <tr>\n",
       "      <th>4</th>\n",
       "      <td>1265</td>\n",
       "      <td>&lt;NA&gt;</td>\n",
       "      <td>Female</td>\n",
       "      <td>USA</td>\n",
       "      <td>Not recorded</td>\n",
       "      <td>Sometimes</td>\n",
       "      <td>Yes</td>\n",
       "    </tr>\n",
       "  </tbody>\n",
       "</table>\n",
       "</div>"
      ],
      "text/plain": [
       "   user_id   age  gender         country          race working_remotely  \\\n",
       "0     1261  <NA>    Male  United kingdom  Not recorded        Sometimes   \n",
       "1     1262  <NA>    Male             USA  Not recorded            Never   \n",
       "2     1263  <NA>    Male  United kingdom  Not recorded           Always   \n",
       "3     1264  <NA>    Male  United kingdom  Not recorded        Sometimes   \n",
       "4     1265  <NA>  Female             USA  Not recorded        Sometimes   \n",
       "\n",
       "  mental_disorder  \n",
       "0              No  \n",
       "1             Yes  \n",
       "2              No  \n",
       "3             Yes  \n",
       "4             Yes  "
      ]
     },
     "execution_count": 214,
     "metadata": {},
     "output_type": "execute_result"
    }
   ],
   "source": [
    "research_df = respondents[['age', 'gender', 'country', 'race']]\n",
    "research_df.reset_index()\n",
    "\n",
    "to_merge = cleaned_df[cleaned_df.question_id == 118][['user_id', 'answer_text']].rename(columns={'answer_text': 'working_remotely'})\n",
    "research_df = research_df.merge(to_merge, on='user_id')\n",
    "\n",
    "to_merge = cleaned_df[cleaned_df.question_id == 33][['user_id', 'answer_text']].rename(columns={'answer_text': 'mental_disorder'})\n",
    "research_df = research_df.merge(to_merge, on='user_id')\n",
    "\n",
    "research_df.head()"
   ]
  },
  {
   "cell_type": "markdown",
   "metadata": {},
   "source": [
    "### Ratios of people with mental disorder"
   ]
  },
  {
   "cell_type": "code",
   "execution_count": 215,
   "metadata": {},
   "outputs": [],
   "source": [
    "ratios = research_df[-(research_df.mental_disorder == 'No')]"
   ]
  },
  {
   "cell_type": "code",
   "execution_count": 216,
   "metadata": {},
   "outputs": [
    {
     "data": {
      "text/html": [
       "<div>\n",
       "<style scoped>\n",
       "    .dataframe tbody tr th:only-of-type {\n",
       "        vertical-align: middle;\n",
       "    }\n",
       "\n",
       "    .dataframe tbody tr th {\n",
       "        vertical-align: top;\n",
       "    }\n",
       "\n",
       "    .dataframe thead th {\n",
       "        text-align: right;\n",
       "    }\n",
       "</style>\n",
       "<table border=\"1\" class=\"dataframe\">\n",
       "  <thead>\n",
       "    <tr style=\"text-align: right;\">\n",
       "      <th></th>\n",
       "      <th>user_id</th>\n",
       "      <th>age</th>\n",
       "      <th>gender</th>\n",
       "      <th>country</th>\n",
       "      <th>race</th>\n",
       "      <th>working_remotely</th>\n",
       "      <th>mental_disorder</th>\n",
       "    </tr>\n",
       "  </thead>\n",
       "  <tbody>\n",
       "    <tr>\n",
       "      <th>1</th>\n",
       "      <td>1262</td>\n",
       "      <td>&lt;NA&gt;</td>\n",
       "      <td>Male</td>\n",
       "      <td>USA</td>\n",
       "      <td>Not recorded</td>\n",
       "      <td>Never</td>\n",
       "      <td>Yes</td>\n",
       "    </tr>\n",
       "    <tr>\n",
       "      <th>3</th>\n",
       "      <td>1264</td>\n",
       "      <td>&lt;NA&gt;</td>\n",
       "      <td>Male</td>\n",
       "      <td>United kingdom</td>\n",
       "      <td>Not recorded</td>\n",
       "      <td>Sometimes</td>\n",
       "      <td>Yes</td>\n",
       "    </tr>\n",
       "    <tr>\n",
       "      <th>4</th>\n",
       "      <td>1265</td>\n",
       "      <td>&lt;NA&gt;</td>\n",
       "      <td>Female</td>\n",
       "      <td>USA</td>\n",
       "      <td>Not recorded</td>\n",
       "      <td>Sometimes</td>\n",
       "      <td>Yes</td>\n",
       "    </tr>\n",
       "    <tr>\n",
       "      <th>5</th>\n",
       "      <td>1266</td>\n",
       "      <td>&lt;NA&gt;</td>\n",
       "      <td>Male</td>\n",
       "      <td>United kingdom</td>\n",
       "      <td>Not recorded</td>\n",
       "      <td>Sometimes</td>\n",
       "      <td>Yes</td>\n",
       "    </tr>\n",
       "    <tr>\n",
       "      <th>7</th>\n",
       "      <td>1268</td>\n",
       "      <td>&lt;NA&gt;</td>\n",
       "      <td>Female</td>\n",
       "      <td>USA</td>\n",
       "      <td>Not recorded</td>\n",
       "      <td>Always</td>\n",
       "      <td>Yes</td>\n",
       "    </tr>\n",
       "    <tr>\n",
       "      <th>...</th>\n",
       "      <td>...</td>\n",
       "      <td>...</td>\n",
       "      <td>...</td>\n",
       "      <td>...</td>\n",
       "      <td>...</td>\n",
       "      <td>...</td>\n",
       "      <td>...</td>\n",
       "    </tr>\n",
       "    <tr>\n",
       "      <th>1426</th>\n",
       "      <td>2687</td>\n",
       "      <td>&lt;NA&gt;</td>\n",
       "      <td>Female</td>\n",
       "      <td>Canada</td>\n",
       "      <td>Not recorded</td>\n",
       "      <td>Sometimes</td>\n",
       "      <td>Yes</td>\n",
       "    </tr>\n",
       "    <tr>\n",
       "      <th>1427</th>\n",
       "      <td>2688</td>\n",
       "      <td>&lt;NA&gt;</td>\n",
       "      <td>Female</td>\n",
       "      <td>USA</td>\n",
       "      <td>Not recorded</td>\n",
       "      <td>Always</td>\n",
       "      <td>Yes</td>\n",
       "    </tr>\n",
       "    <tr>\n",
       "      <th>1430</th>\n",
       "      <td>2691</td>\n",
       "      <td>&lt;NA&gt;</td>\n",
       "      <td>Male</td>\n",
       "      <td>USA</td>\n",
       "      <td>Not recorded</td>\n",
       "      <td>Sometimes</td>\n",
       "      <td>Maybe</td>\n",
       "    </tr>\n",
       "    <tr>\n",
       "      <th>1431</th>\n",
       "      <td>2692</td>\n",
       "      <td>&lt;NA&gt;</td>\n",
       "      <td>Female</td>\n",
       "      <td>USA</td>\n",
       "      <td>Not recorded</td>\n",
       "      <td>Sometimes</td>\n",
       "      <td>Yes</td>\n",
       "    </tr>\n",
       "    <tr>\n",
       "      <th>1432</th>\n",
       "      <td>2693</td>\n",
       "      <td>&lt;NA&gt;</td>\n",
       "      <td>Nonbinary</td>\n",
       "      <td>Canada</td>\n",
       "      <td>Not recorded</td>\n",
       "      <td>Sometimes</td>\n",
       "      <td>Yes</td>\n",
       "    </tr>\n",
       "  </tbody>\n",
       "</table>\n",
       "<p>902 rows × 7 columns</p>\n",
       "</div>"
      ],
      "text/plain": [
       "      user_id   age     gender         country          race working_remotely  \\\n",
       "1        1262  <NA>       Male             USA  Not recorded            Never   \n",
       "3        1264  <NA>       Male  United kingdom  Not recorded        Sometimes   \n",
       "4        1265  <NA>     Female             USA  Not recorded        Sometimes   \n",
       "5        1266  <NA>       Male  United kingdom  Not recorded        Sometimes   \n",
       "7        1268  <NA>     Female             USA  Not recorded           Always   \n",
       "...       ...   ...        ...             ...           ...              ...   \n",
       "1426     2687  <NA>     Female          Canada  Not recorded        Sometimes   \n",
       "1427     2688  <NA>     Female             USA  Not recorded           Always   \n",
       "1430     2691  <NA>       Male             USA  Not recorded        Sometimes   \n",
       "1431     2692  <NA>     Female             USA  Not recorded        Sometimes   \n",
       "1432     2693  <NA>  Nonbinary          Canada  Not recorded        Sometimes   \n",
       "\n",
       "     mental_disorder  \n",
       "1                Yes  \n",
       "3                Yes  \n",
       "4                Yes  \n",
       "5                Yes  \n",
       "7                Yes  \n",
       "...              ...  \n",
       "1426             Yes  \n",
       "1427             Yes  \n",
       "1430           Maybe  \n",
       "1431             Yes  \n",
       "1432             Yes  \n",
       "\n",
       "[902 rows x 7 columns]"
      ]
     },
     "execution_count": 216,
     "metadata": {},
     "output_type": "execute_result"
    }
   ],
   "source": [
    "ratios"
   ]
  },
  {
   "cell_type": "code",
   "execution_count": 217,
   "metadata": {},
   "outputs": [
    {
     "ename": "ValueError",
     "evalue": "The truth value of an array with more than one element is ambiguous. Use a.any() or a.all()",
     "output_type": "error",
     "traceback": [
      "\u001b[0;31m---------------------------------------------------------------------------\u001b[0m",
      "\u001b[0;31mValueError\u001b[0m                                Traceback (most recent call last)",
      "\u001b[1;32m/home/dreamtim/Desktop/Coding/turing-ds/DataAnalysis/Sprint_1/EDA.ipynb Cell 91'\u001b[0m in \u001b[0;36m<cell line: 4>\u001b[0;34m()\u001b[0m\n\u001b[1;32m      <a href='vscode-notebook-cell:/home/dreamtim/Desktop/Coding/turing-ds/DataAnalysis/Sprint_1/EDA.ipynb#ch0000144?line=0'>1</a>\u001b[0m \u001b[39mdef\u001b[39;00m \u001b[39morder_working_remotely\u001b[39m(index_value):\n\u001b[1;32m      <a href='vscode-notebook-cell:/home/dreamtim/Desktop/Coding/turing-ds/DataAnalysis/Sprint_1/EDA.ipynb#ch0000144?line=1'>2</a>\u001b[0m     \u001b[39mreturn\u001b[39;00m (\u001b[39m'\u001b[39m\u001b[39mNever\u001b[39m\u001b[39m'\u001b[39m, \u001b[39m'\u001b[39m\u001b[39mSometimes\u001b[39m\u001b[39m'\u001b[39m, \u001b[39m'\u001b[39m\u001b[39mAlways\u001b[39m\u001b[39m'\u001b[39m)\u001b[39m.\u001b[39mindex(index_value)\n\u001b[0;32m----> <a href='vscode-notebook-cell:/home/dreamtim/Desktop/Coding/turing-ds/DataAnalysis/Sprint_1/EDA.ipynb#ch0000144?line=3'>4</a>\u001b[0m ratios\u001b[39m.\u001b[39;49mworking_remotely\u001b[39m.\u001b[39;49mvalue_counts()\u001b[39m.\u001b[39;49msort_index(key\u001b[39m=\u001b[39;49morder_working_remotely)\n",
      "File \u001b[0;32m~/anaconda3/lib/python3.8/site-packages/pandas/util/_decorators.py:311\u001b[0m, in \u001b[0;36mdeprecate_nonkeyword_arguments.<locals>.decorate.<locals>.wrapper\u001b[0;34m(*args, **kwargs)\u001b[0m\n\u001b[1;32m    <a href='file:///home/dreamtim/anaconda3/lib/python3.8/site-packages/pandas/util/_decorators.py?line=304'>305</a>\u001b[0m \u001b[39mif\u001b[39;00m \u001b[39mlen\u001b[39m(args) \u001b[39m>\u001b[39m num_allow_args:\n\u001b[1;32m    <a href='file:///home/dreamtim/anaconda3/lib/python3.8/site-packages/pandas/util/_decorators.py?line=305'>306</a>\u001b[0m     warnings\u001b[39m.\u001b[39mwarn(\n\u001b[1;32m    <a href='file:///home/dreamtim/anaconda3/lib/python3.8/site-packages/pandas/util/_decorators.py?line=306'>307</a>\u001b[0m         msg\u001b[39m.\u001b[39mformat(arguments\u001b[39m=\u001b[39marguments),\n\u001b[1;32m    <a href='file:///home/dreamtim/anaconda3/lib/python3.8/site-packages/pandas/util/_decorators.py?line=307'>308</a>\u001b[0m         \u001b[39mFutureWarning\u001b[39;00m,\n\u001b[1;32m    <a href='file:///home/dreamtim/anaconda3/lib/python3.8/site-packages/pandas/util/_decorators.py?line=308'>309</a>\u001b[0m         stacklevel\u001b[39m=\u001b[39mstacklevel,\n\u001b[1;32m    <a href='file:///home/dreamtim/anaconda3/lib/python3.8/site-packages/pandas/util/_decorators.py?line=309'>310</a>\u001b[0m     )\n\u001b[0;32m--> <a href='file:///home/dreamtim/anaconda3/lib/python3.8/site-packages/pandas/util/_decorators.py?line=310'>311</a>\u001b[0m \u001b[39mreturn\u001b[39;00m func(\u001b[39m*\u001b[39;49margs, \u001b[39m*\u001b[39;49m\u001b[39m*\u001b[39;49mkwargs)\n",
      "File \u001b[0;32m~/anaconda3/lib/python3.8/site-packages/pandas/core/series.py:3688\u001b[0m, in \u001b[0;36mSeries.sort_index\u001b[0;34m(self, axis, level, ascending, inplace, kind, na_position, sort_remaining, ignore_index, key)\u001b[0m\n\u001b[1;32m   <a href='file:///home/dreamtim/anaconda3/lib/python3.8/site-packages/pandas/core/series.py?line=3539'>3540</a>\u001b[0m \u001b[39m@deprecate_nonkeyword_arguments\u001b[39m(version\u001b[39m=\u001b[39m\u001b[39mNone\u001b[39;00m, allowed_args\u001b[39m=\u001b[39m[\u001b[39m\"\u001b[39m\u001b[39mself\u001b[39m\u001b[39m\"\u001b[39m])\n\u001b[1;32m   <a href='file:///home/dreamtim/anaconda3/lib/python3.8/site-packages/pandas/core/series.py?line=3540'>3541</a>\u001b[0m \u001b[39mdef\u001b[39;00m \u001b[39msort_index\u001b[39m(\n\u001b[1;32m   <a href='file:///home/dreamtim/anaconda3/lib/python3.8/site-packages/pandas/core/series.py?line=3541'>3542</a>\u001b[0m     \u001b[39mself\u001b[39m,\n\u001b[0;32m   (...)\u001b[0m\n\u001b[1;32m   <a href='file:///home/dreamtim/anaconda3/lib/python3.8/site-packages/pandas/core/series.py?line=3550'>3551</a>\u001b[0m     key: IndexKeyFunc \u001b[39m=\u001b[39m \u001b[39mNone\u001b[39;00m,\n\u001b[1;32m   <a href='file:///home/dreamtim/anaconda3/lib/python3.8/site-packages/pandas/core/series.py?line=3551'>3552</a>\u001b[0m ):\n\u001b[1;32m   <a href='file:///home/dreamtim/anaconda3/lib/python3.8/site-packages/pandas/core/series.py?line=3552'>3553</a>\u001b[0m     \u001b[39m\"\"\"\u001b[39;00m\n\u001b[1;32m   <a href='file:///home/dreamtim/anaconda3/lib/python3.8/site-packages/pandas/core/series.py?line=3553'>3554</a>\u001b[0m \u001b[39m    Sort Series by index labels.\u001b[39;00m\n\u001b[1;32m   <a href='file:///home/dreamtim/anaconda3/lib/python3.8/site-packages/pandas/core/series.py?line=3554'>3555</a>\u001b[0m \n\u001b[0;32m   (...)\u001b[0m\n\u001b[1;32m   <a href='file:///home/dreamtim/anaconda3/lib/python3.8/site-packages/pandas/core/series.py?line=3684'>3685</a>\u001b[0m \u001b[39m    dtype: int64\u001b[39;00m\n\u001b[1;32m   <a href='file:///home/dreamtim/anaconda3/lib/python3.8/site-packages/pandas/core/series.py?line=3685'>3686</a>\u001b[0m \u001b[39m    \"\"\"\u001b[39;00m\n\u001b[0;32m-> <a href='file:///home/dreamtim/anaconda3/lib/python3.8/site-packages/pandas/core/series.py?line=3687'>3688</a>\u001b[0m     \u001b[39mreturn\u001b[39;00m \u001b[39msuper\u001b[39;49m()\u001b[39m.\u001b[39;49msort_index(\n\u001b[1;32m   <a href='file:///home/dreamtim/anaconda3/lib/python3.8/site-packages/pandas/core/series.py?line=3688'>3689</a>\u001b[0m         axis,\n\u001b[1;32m   <a href='file:///home/dreamtim/anaconda3/lib/python3.8/site-packages/pandas/core/series.py?line=3689'>3690</a>\u001b[0m         level,\n\u001b[1;32m   <a href='file:///home/dreamtim/anaconda3/lib/python3.8/site-packages/pandas/core/series.py?line=3690'>3691</a>\u001b[0m         ascending,\n\u001b[1;32m   <a href='file:///home/dreamtim/anaconda3/lib/python3.8/site-packages/pandas/core/series.py?line=3691'>3692</a>\u001b[0m         inplace,\n\u001b[1;32m   <a href='file:///home/dreamtim/anaconda3/lib/python3.8/site-packages/pandas/core/series.py?line=3692'>3693</a>\u001b[0m         kind,\n\u001b[1;32m   <a href='file:///home/dreamtim/anaconda3/lib/python3.8/site-packages/pandas/core/series.py?line=3693'>3694</a>\u001b[0m         na_position,\n\u001b[1;32m   <a href='file:///home/dreamtim/anaconda3/lib/python3.8/site-packages/pandas/core/series.py?line=3694'>3695</a>\u001b[0m         sort_remaining,\n\u001b[1;32m   <a href='file:///home/dreamtim/anaconda3/lib/python3.8/site-packages/pandas/core/series.py?line=3695'>3696</a>\u001b[0m         ignore_index,\n\u001b[1;32m   <a href='file:///home/dreamtim/anaconda3/lib/python3.8/site-packages/pandas/core/series.py?line=3696'>3697</a>\u001b[0m         key,\n\u001b[1;32m   <a href='file:///home/dreamtim/anaconda3/lib/python3.8/site-packages/pandas/core/series.py?line=3697'>3698</a>\u001b[0m     )\n",
      "File \u001b[0;32m~/anaconda3/lib/python3.8/site-packages/pandas/core/generic.py:4685\u001b[0m, in \u001b[0;36mNDFrame.sort_index\u001b[0;34m(self, axis, level, ascending, inplace, kind, na_position, sort_remaining, ignore_index, key)\u001b[0m\n\u001b[1;32m   <a href='file:///home/dreamtim/anaconda3/lib/python3.8/site-packages/pandas/core/generic.py?line=4680'>4681</a>\u001b[0m ascending \u001b[39m=\u001b[39m validate_ascending(ascending)\n\u001b[1;32m   <a href='file:///home/dreamtim/anaconda3/lib/python3.8/site-packages/pandas/core/generic.py?line=4682'>4683</a>\u001b[0m target \u001b[39m=\u001b[39m \u001b[39mself\u001b[39m\u001b[39m.\u001b[39m_get_axis(axis)\n\u001b[0;32m-> <a href='file:///home/dreamtim/anaconda3/lib/python3.8/site-packages/pandas/core/generic.py?line=4684'>4685</a>\u001b[0m indexer \u001b[39m=\u001b[39m get_indexer_indexer(\n\u001b[1;32m   <a href='file:///home/dreamtim/anaconda3/lib/python3.8/site-packages/pandas/core/generic.py?line=4685'>4686</a>\u001b[0m     target, level, ascending, kind, na_position, sort_remaining, key\n\u001b[1;32m   <a href='file:///home/dreamtim/anaconda3/lib/python3.8/site-packages/pandas/core/generic.py?line=4686'>4687</a>\u001b[0m )\n\u001b[1;32m   <a href='file:///home/dreamtim/anaconda3/lib/python3.8/site-packages/pandas/core/generic.py?line=4688'>4689</a>\u001b[0m \u001b[39mif\u001b[39;00m indexer \u001b[39mis\u001b[39;00m \u001b[39mNone\u001b[39;00m:\n\u001b[1;32m   <a href='file:///home/dreamtim/anaconda3/lib/python3.8/site-packages/pandas/core/generic.py?line=4689'>4690</a>\u001b[0m     \u001b[39mif\u001b[39;00m inplace:\n",
      "File \u001b[0;32m~/anaconda3/lib/python3.8/site-packages/pandas/core/sorting.py:76\u001b[0m, in \u001b[0;36mget_indexer_indexer\u001b[0;34m(target, level, ascending, kind, na_position, sort_remaining, key)\u001b[0m\n\u001b[1;32m     <a href='file:///home/dreamtim/anaconda3/lib/python3.8/site-packages/pandas/core/sorting.py?line=46'>47</a>\u001b[0m \u001b[39mdef\u001b[39;00m \u001b[39mget_indexer_indexer\u001b[39m(\n\u001b[1;32m     <a href='file:///home/dreamtim/anaconda3/lib/python3.8/site-packages/pandas/core/sorting.py?line=47'>48</a>\u001b[0m     target: Index,\n\u001b[1;32m     <a href='file:///home/dreamtim/anaconda3/lib/python3.8/site-packages/pandas/core/sorting.py?line=48'>49</a>\u001b[0m     level: \u001b[39mstr\u001b[39m \u001b[39m|\u001b[39m \u001b[39mint\u001b[39m \u001b[39m|\u001b[39m \u001b[39mlist\u001b[39m[\u001b[39mstr\u001b[39m] \u001b[39m|\u001b[39m \u001b[39mlist\u001b[39m[\u001b[39mint\u001b[39m],\n\u001b[0;32m   (...)\u001b[0m\n\u001b[1;32m     <a href='file:///home/dreamtim/anaconda3/lib/python3.8/site-packages/pandas/core/sorting.py?line=53'>54</a>\u001b[0m     key: IndexKeyFunc,\n\u001b[1;32m     <a href='file:///home/dreamtim/anaconda3/lib/python3.8/site-packages/pandas/core/sorting.py?line=54'>55</a>\u001b[0m ) \u001b[39m-\u001b[39m\u001b[39m>\u001b[39m np\u001b[39m.\u001b[39mndarray \u001b[39m|\u001b[39m \u001b[39mNone\u001b[39;00m:\n\u001b[1;32m     <a href='file:///home/dreamtim/anaconda3/lib/python3.8/site-packages/pandas/core/sorting.py?line=55'>56</a>\u001b[0m     \u001b[39m\"\"\"\u001b[39;00m\n\u001b[1;32m     <a href='file:///home/dreamtim/anaconda3/lib/python3.8/site-packages/pandas/core/sorting.py?line=56'>57</a>\u001b[0m \u001b[39m    Helper method that return the indexer according to input parameters for\u001b[39;00m\n\u001b[1;32m     <a href='file:///home/dreamtim/anaconda3/lib/python3.8/site-packages/pandas/core/sorting.py?line=57'>58</a>\u001b[0m \u001b[39m    the sort_index method of DataFrame and Series.\u001b[39;00m\n\u001b[0;32m   (...)\u001b[0m\n\u001b[1;32m     <a href='file:///home/dreamtim/anaconda3/lib/python3.8/site-packages/pandas/core/sorting.py?line=72'>73</a>\u001b[0m \u001b[39m        The indexer for the new index.\u001b[39;00m\n\u001b[1;32m     <a href='file:///home/dreamtim/anaconda3/lib/python3.8/site-packages/pandas/core/sorting.py?line=73'>74</a>\u001b[0m \u001b[39m    \"\"\"\u001b[39;00m\n\u001b[0;32m---> <a href='file:///home/dreamtim/anaconda3/lib/python3.8/site-packages/pandas/core/sorting.py?line=75'>76</a>\u001b[0m     target \u001b[39m=\u001b[39m ensure_key_mapped(target, key, levels\u001b[39m=\u001b[39;49mlevel)\n\u001b[1;32m     <a href='file:///home/dreamtim/anaconda3/lib/python3.8/site-packages/pandas/core/sorting.py?line=76'>77</a>\u001b[0m     target \u001b[39m=\u001b[39m target\u001b[39m.\u001b[39m_sort_levels_monotonic()\n\u001b[1;32m     <a href='file:///home/dreamtim/anaconda3/lib/python3.8/site-packages/pandas/core/sorting.py?line=78'>79</a>\u001b[0m     \u001b[39mif\u001b[39;00m level \u001b[39mis\u001b[39;00m \u001b[39mnot\u001b[39;00m \u001b[39mNone\u001b[39;00m:\n",
      "File \u001b[0;32m~/anaconda3/lib/python3.8/site-packages/pandas/core/sorting.py:545\u001b[0m, in \u001b[0;36mensure_key_mapped\u001b[0;34m(values, key, levels)\u001b[0m\n\u001b[1;32m    <a href='file:///home/dreamtim/anaconda3/lib/python3.8/site-packages/pandas/core/sorting.py?line=541'>542</a>\u001b[0m \u001b[39mif\u001b[39;00m \u001b[39misinstance\u001b[39m(values, ABCMultiIndex):\n\u001b[1;32m    <a href='file:///home/dreamtim/anaconda3/lib/python3.8/site-packages/pandas/core/sorting.py?line=542'>543</a>\u001b[0m     \u001b[39mreturn\u001b[39;00m _ensure_key_mapped_multiindex(values, key, level\u001b[39m=\u001b[39mlevels)\n\u001b[0;32m--> <a href='file:///home/dreamtim/anaconda3/lib/python3.8/site-packages/pandas/core/sorting.py?line=544'>545</a>\u001b[0m result \u001b[39m=\u001b[39m key(values\u001b[39m.\u001b[39;49mcopy())\n\u001b[1;32m    <a href='file:///home/dreamtim/anaconda3/lib/python3.8/site-packages/pandas/core/sorting.py?line=545'>546</a>\u001b[0m \u001b[39mif\u001b[39;00m \u001b[39mlen\u001b[39m(result) \u001b[39m!=\u001b[39m \u001b[39mlen\u001b[39m(values):\n\u001b[1;32m    <a href='file:///home/dreamtim/anaconda3/lib/python3.8/site-packages/pandas/core/sorting.py?line=546'>547</a>\u001b[0m     \u001b[39mraise\u001b[39;00m \u001b[39mValueError\u001b[39;00m(\n\u001b[1;32m    <a href='file:///home/dreamtim/anaconda3/lib/python3.8/site-packages/pandas/core/sorting.py?line=547'>548</a>\u001b[0m         \u001b[39m\"\u001b[39m\u001b[39mUser-provided `key` function must not change the shape of the array.\u001b[39m\u001b[39m\"\u001b[39m\n\u001b[1;32m    <a href='file:///home/dreamtim/anaconda3/lib/python3.8/site-packages/pandas/core/sorting.py?line=548'>549</a>\u001b[0m     )\n",
      "\u001b[1;32m/home/dreamtim/Desktop/Coding/turing-ds/DataAnalysis/Sprint_1/EDA.ipynb Cell 91'\u001b[0m in \u001b[0;36morder_working_remotely\u001b[0;34m(index_value)\u001b[0m\n\u001b[1;32m      <a href='vscode-notebook-cell:/home/dreamtim/Desktop/Coding/turing-ds/DataAnalysis/Sprint_1/EDA.ipynb#ch0000144?line=0'>1</a>\u001b[0m \u001b[39mdef\u001b[39;00m \u001b[39morder_working_remotely\u001b[39m(index_value):\n\u001b[0;32m----> <a href='vscode-notebook-cell:/home/dreamtim/Desktop/Coding/turing-ds/DataAnalysis/Sprint_1/EDA.ipynb#ch0000144?line=1'>2</a>\u001b[0m     \u001b[39mreturn\u001b[39;00m (\u001b[39m'\u001b[39;49m\u001b[39mNever\u001b[39;49m\u001b[39m'\u001b[39;49m, \u001b[39m'\u001b[39;49m\u001b[39mSometimes\u001b[39;49m\u001b[39m'\u001b[39;49m, \u001b[39m'\u001b[39;49m\u001b[39mAlways\u001b[39;49m\u001b[39m'\u001b[39;49m)\u001b[39m.\u001b[39;49mindex(index_value)\n",
      "\u001b[0;31mValueError\u001b[0m: The truth value of an array with more than one element is ambiguous. Use a.any() or a.all()"
     ]
    }
   ],
   "source": [
    "def order_working_remotely(index_value):\n",
    "    return ('Never', 'Sometimes', 'Always').index(index_value)\n",
    "\n",
    "ratios.working_remotely.value_counts().sort_index(key=order_working_remotely)\n",
    "# WHY IS IT SO???"
   ]
  },
  {
   "cell_type": "code",
   "execution_count": 218,
   "metadata": {},
   "outputs": [
    {
     "data": {
      "image/png": "[encoded data removed]",
      "text/plain": [
       "<Figure size 864x576 with 1 Axes>"
      ]
     },
     "metadata": {
      "needs_background": "light"
     },
     "output_type": "display_data"
    }
   ],
   "source": [
    "plt.figure(figsize=(12, 8))\n",
    "\n",
    "ax = sns.countplot(\n",
    "    data=ratios,\n",
    "    x='working_remotely', hue='mental_disorder', order=['Never', 'Sometimes', 'Always']\n",
    ")\n",
    "\n",
    "for bar_batch in ax.containers:\n",
    "    ax.bar_label(bar_batch, padding=2, fontsize=12)\n",
    "\n",
    "\n",
    "plt.xlabel('Working remotely?')\n",
    "ax.legend(title='Mental disorder?')\n",
    "\n",
    "sns.despine()\n",
    "plt.show()"
   ]
  },
  {
   "cell_type": "markdown",
   "metadata": {},
   "source": [
    "It looks like hybrid working is correlated with mental disorder... But let's run a linear model to check it."
   ]
  },
  {
   "cell_type": "markdown",
   "metadata": {},
   "source": [
    "### Convert categorical data to numbers and normalize"
   ]
  },
  {
   "cell_type": "code",
   "execution_count": 219,
   "metadata": {},
   "outputs": [],
   "source": [
    "cat_to_num = PandasSeriesAppliers.cat_to_num\n",
    "\n",
    "col_names = ['gender', 'country', 'working_remotely', 'mental_disorder']\n",
    "research_df_num = research_df.copy()[col_names]\n",
    "\n",
    "for col_name in ('gender', 'country', 'working_remotely', 'mental_disorder'):\n",
    "    if col_name == 'mental_disorder':\n",
    "        order = ('No', 'Maybe', 'Yes')\n",
    "    else:\n",
    "        order = tuple(research_df[col_name].unique())\n",
    "    research_df_num[col_name] = research_df[col_name].apply(cat_to_num, order=order)"
   ]
  },
  {
   "cell_type": "markdown",
   "metadata": {},
   "source": [
    "### Just correlations"
   ]
  },
  {
   "cell_type": "code",
   "execution_count": 220,
   "metadata": {},
   "outputs": [
    {
     "data": {
      "text/html": [
       "<div>\n",
       "<style scoped>\n",
       "    .dataframe tbody tr th:only-of-type {\n",
       "        vertical-align: middle;\n",
       "    }\n",
       "\n",
       "    .dataframe tbody tr th {\n",
       "        vertical-align: top;\n",
       "    }\n",
       "\n",
       "    .dataframe thead th {\n",
       "        text-align: right;\n",
       "    }\n",
       "</style>\n",
       "<table border=\"1\" class=\"dataframe\">\n",
       "  <thead>\n",
       "    <tr style=\"text-align: right;\">\n",
       "      <th></th>\n",
       "      <th>gender</th>\n",
       "      <th>country</th>\n",
       "      <th>working_remotely</th>\n",
       "      <th>mental_disorder</th>\n",
       "    </tr>\n",
       "  </thead>\n",
       "  <tbody>\n",
       "    <tr>\n",
       "      <th>gender</th>\n",
       "      <td>1.000000</td>\n",
       "      <td>-0.100584</td>\n",
       "      <td>0.032525</td>\n",
       "      <td>0.188606</td>\n",
       "    </tr>\n",
       "    <tr>\n",
       "      <th>country</th>\n",
       "      <td>-0.100584</td>\n",
       "      <td>1.000000</td>\n",
       "      <td>0.019033</td>\n",
       "      <td>-0.095457</td>\n",
       "    </tr>\n",
       "    <tr>\n",
       "      <th>working_remotely</th>\n",
       "      <td>0.032525</td>\n",
       "      <td>0.019033</td>\n",
       "      <td>1.000000</td>\n",
       "      <td>0.012215</td>\n",
       "    </tr>\n",
       "    <tr>\n",
       "      <th>mental_disorder</th>\n",
       "      <td>0.188606</td>\n",
       "      <td>-0.095457</td>\n",
       "      <td>0.012215</td>\n",
       "      <td>1.000000</td>\n",
       "    </tr>\n",
       "  </tbody>\n",
       "</table>\n",
       "</div>"
      ],
      "text/plain": [
       "                    gender   country  working_remotely  mental_disorder\n",
       "gender            1.000000 -0.100584          0.032525         0.188606\n",
       "country          -0.100584  1.000000          0.019033        -0.095457\n",
       "working_remotely  0.032525  0.019033          1.000000         0.012215\n",
       "mental_disorder   0.188606 -0.095457          0.012215         1.000000"
      ]
     },
     "execution_count": 220,
     "metadata": {},
     "output_type": "execute_result"
    }
   ],
   "source": [
    "research_df_num.corr()"
   ]
  },
  {
   "cell_type": "markdown",
   "metadata": {},
   "source": [
    "Nothing is shown..."
   ]
  },
  {
   "cell_type": "markdown",
   "metadata": {},
   "source": [
    "### Regression model"
   ]
  },
  {
   "cell_type": "code",
   "execution_count": 240,
   "metadata": {},
   "outputs": [],
   "source": [
    "predictors = ['gender', 'country', 'working_remotely']\n",
    "x = np.array(research_df_num[predictors])\n",
    "y = np.array(research_df_num.mental_disorder)"
   ]
  },
  {
   "cell_type": "code",
   "execution_count": 241,
   "metadata": {},
   "outputs": [],
   "source": [
    "model = LinearRegression().fit(x, y)"
   ]
  },
  {
   "cell_type": "code",
   "execution_count": 244,
   "metadata": {},
   "outputs": [
    {
     "name": "stdout",
     "output_type": "stream",
     "text": [
      "Linear regression model\n",
      "R²: 0.041543037561070695\n",
      "gender\t0.669\n",
      "country\t-0.214\n",
      "working_remotely\t0.008\n"
     ]
    }
   ],
   "source": [
    "print('Linear regression model')\n",
    "print(f'R\\u00b2: {model.score(x, y)}')\n",
    "for predictor, coefficient in zip(predictors, model.coef_):\n",
    "    print(f'{predictor}\\t{coefficient:.3f}')"
   ]
  },
  {
   "cell_type": "markdown",
   "metadata": {},
   "source": [
    "It turns out that country and especially gender are actually more important factors, affecting the mental health. However, the model is vey bad..."
   ]
  },
  {
   "cell_type": "markdown",
   "metadata": {},
   "source": [
    "# Possible improvements\n",
    "\n",
    "- Find some data, collected using probablity sampling, and than use quasi-randomization or population modeling\n",
    "- Preprocess ALL the answers...\n",
    "- More complex tegression models: multilevel, Bayesian or others, DAGs\n",
    "- NLP: for example, sentiment analysis of some answers"
   ]
  },
  {
   "cell_type": "markdown",
   "metadata": {},
   "source": [
    "# Conclusion\n",
    "\n",
    "Data cleaning is time-consuming...\n",
    "\n",
    "But someone can use my code for basic prepocessing, if I will publish it!"
   ]
  }
 ],
 "metadata": {
  "interpreter": {
   "hash": "57818da3ee1fd01d36d722dc5d70d8ee0174abb1fbd688f676d98834109492dc"
  },
  "kernelspec": {
   "display_name": "Python 3.8.8 ('base')",
   "language": "python",
   "name": "python3"
  },
  "language_info": {
   "codemirror_mode": {
    "name": "ipython",
    "version": 3
   },
   "file_extension": ".py",
   "mimetype": "text/x-python",
   "name": "python",
   "nbconvert_exporter": "python",
   "pygments_lexer": "ipython3",
   "version": "3.8.13"
  },
  "orig_nbformat": 4
 },
 "nbformat": 4,
 "nbformat_minor": 2
}
